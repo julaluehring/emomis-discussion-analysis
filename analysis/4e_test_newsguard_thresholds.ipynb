{
 "cells": [
  {
   "cell_type": "code",
   "execution_count": 1,
   "metadata": {},
   "outputs": [],
   "source": [
    "import pandas as pd\n",
    "from os.path import join\n",
    "import pickle as pkl\n",
    "import matplotlib.pyplot as plt\n",
    "import seaborn as sns"
   ]
  },
  {
   "cell_type": "code",
   "execution_count": 2,
   "metadata": {},
   "outputs": [],
   "source": [
    "def custom_plots(ax=None):\n",
    "    if ax is None:\n",
    "        ax = plt.gca()\n",
    "    ax.grid(False)\n",
    "    ax.spines[\"bottom\"].set_color(\"black\")\n",
    "    ax.spines[\"left\"].set_color(\"black\")\n",
    "    sns.despine(ax=ax)\n",
    "    plt.gca().yaxis.set_ticks_position('left')\n",
    "    plt.gca().xaxis.set_ticks_position('bottom')"
   ]
  },
  {
   "cell_type": "code",
   "execution_count": null,
   "metadata": {},
   "outputs": [],
   "source": [
    "src = \"../data/\"\n",
    "dst = \"./newsguard/\"\n",
    "with open(join(src, \"dtypes_config.pickle\"), \"rb\") as file:\n",
    "    DTYPES = pkl.load(file)"
   ]
  },
  {
   "cell_type": "code",
   "execution_count": null,
   "metadata": {},
   "outputs": [
    {
     "data": {
      "text/plain": [
       "9906259"
      ]
     },
     "execution_count": 4,
     "metadata": {},
     "output_type": "execute_result"
    }
   ],
   "source": [
    "df_starters = pd.read_csv(join(src,\n",
    "                      \"discussions/\",\n",
    "                      \"discussions_starters_aggregates.csv\"),\n",
    "                 usecols=[\n",
    "                     \"id\",\n",
    "                     \"domain\",\n",
    "                     \"Rating\",\n",
    "                     \"Score\",\n",
    "                     \"created_at\"],\n",
    "                 dtype=DTYPES)\n",
    "\n",
    "len(df_starters)"
   ]
  },
  {
   "cell_type": "code",
   "execution_count": 5,
   "metadata": {},
   "outputs": [],
   "source": [
    "df_starters['Rating_40'] = df_starters['Score'].apply(lambda x: 'T' if x > 40 else 'N')\n",
    "df_starters['Rating_80'] = df_starters['Score'].apply(lambda x: 'T' if x > 80 else 'N')"
   ]
  },
  {
   "cell_type": "code",
   "execution_count": 6,
   "metadata": {},
   "outputs": [],
   "source": [
    "df_starters[\"Rating\"] = df_starters[\"Rating\"].replace(\n",
    "    {\"0.0\": \"T\", \"1.0\": \"N\"})"
   ]
  },
  {
   "cell_type": "code",
   "execution_count": 7,
   "metadata": {},
   "outputs": [
    {
     "data": {
      "text/plain": [
       "T    9310435\n",
       "N     595824\n",
       "Name: Rating, dtype: int64"
      ]
     },
     "execution_count": 7,
     "metadata": {},
     "output_type": "execute_result"
    }
   ],
   "source": [
    "# compare value counts\n",
    "df_starters[\"Rating\"].value_counts(normalize=False)"
   ]
  },
  {
   "cell_type": "code",
   "execution_count": 8,
   "metadata": {},
   "outputs": [
    {
     "data": {
      "text/plain": [
       "T    9387050\n",
       "N     519209\n",
       "Name: Rating_40, dtype: int64"
      ]
     },
     "execution_count": 8,
     "metadata": {},
     "output_type": "execute_result"
    }
   ],
   "source": [
    "df_starters[\"Rating_40\"].value_counts(normalize=False)"
   ]
  },
  {
   "cell_type": "code",
   "execution_count": 9,
   "metadata": {},
   "outputs": [
    {
     "data": {
      "text/plain": [
       "T    8689594\n",
       "N    1216665\n",
       "Name: Rating_80, dtype: int64"
      ]
     },
     "execution_count": 9,
     "metadata": {},
     "output_type": "execute_result"
    }
   ],
   "source": [
    "df_starters[\"Rating_80\"].value_counts(normalize=False)"
   ]
  },
  {
   "cell_type": "code",
   "execution_count": 10,
   "metadata": {},
   "outputs": [
    {
     "name": "stderr",
     "output_type": "stream",
     "text": [
      "/tmp/ipykernel_1680477/3663499612.py:2: UserWarning: Converting to PeriodArray/Index representation will drop timezone information.\n",
      "  df_starters[\"day\"] = df_starters[\"created_at\"].dt.to_period(\"D\")\n",
      "/tmp/ipykernel_1680477/3663499612.py:3: UserWarning: Converting to PeriodArray/Index representation will drop timezone information.\n",
      "  df_starters[\"month\"] = df_starters[\"created_at\"].dt.to_period(\"M\")\n",
      "/tmp/ipykernel_1680477/3663499612.py:4: UserWarning: Converting to PeriodArray/Index representation will drop timezone information.\n",
      "  df_starters[\"week\"] = df_starters[\"created_at\"].dt.to_period(\"W\")\n"
     ]
    }
   ],
   "source": [
    "df_starters[\"created_at\"] = pd.to_datetime(df_starters[\"created_at\"])\n",
    "df_starters[\"day\"] = df_starters[\"created_at\"].dt.to_period(\"D\")\n",
    "df_starters[\"month\"] = df_starters[\"created_at\"].dt.to_period(\"M\")\n",
    "df_starters[\"week\"] = df_starters[\"created_at\"].dt.to_period(\"W\")\n",
    "# df_starters"
   ]
  },
  {
   "cell_type": "code",
   "execution_count": 11,
   "metadata": {},
   "outputs": [],
   "source": [
    "df_rating_week = df_starters\\\n",
    "    .groupby([\"week\", \"Rating\"])\\\n",
    "        .size().unstack().fillna(0)\n",
    "\n",
    "df_trustworthy_weekly = df_rating_week[\"T\"]\n",
    "df_untrustworthy_weekly = df_rating_week[\"N\"]\n",
    "\n",
    "# cut first and last week\n",
    "df_trustworthy_weekly = df_trustworthy_weekly[1:-1]\n",
    "df_untrustworthy_weekly = df_untrustworthy_weekly[1:-1]"
   ]
  },
  {
   "cell_type": "code",
   "execution_count": 12,
   "metadata": {},
   "outputs": [],
   "source": [
    "df_rating_40_week = df_starters\\\n",
    "    .groupby([\"week\", \"Rating_40\"])\\\n",
    "        .size().unstack().fillna(0)\n",
    "\n",
    "df_trustworthy_40_weekly = df_rating_40_week[\"T\"]\n",
    "df_untrustworthy_weekly_40 = df_rating_40_week[\"N\"]\n",
    "\n",
    "df_trustworthy_40_weekly = df_trustworthy_40_weekly[1:-1]\n",
    "df_untrustworthy_weekly_40 = df_untrustworthy_weekly_40[1:-1]"
   ]
  },
  {
   "cell_type": "code",
   "execution_count": 13,
   "metadata": {},
   "outputs": [],
   "source": [
    "df_rating_80_week = df_starters\\\n",
    "    .groupby([\"week\", \"Rating_80\"])\\\n",
    "        .size().unstack().fillna(0)\n",
    "\n",
    "\n",
    "df_trustworthy_80_weekly = df_rating_80_week[\"T\"]\n",
    "df_untrustworthy_weekly_80 = df_rating_80_week[\"N\"]\n",
    "\n",
    "df_trustworthy_80_weekly = df_trustworthy_80_weekly[1:-1]\n",
    "df_untrustworthy_weekly_80 = df_untrustworthy_weekly_80[1:-1]"
   ]
  },
  {
   "cell_type": "code",
   "execution_count": null,
   "metadata": {},
   "outputs": [
    {
     "data": {
      "image/png": "[encoded data removed]",
      "text/plain": [
       "<Figure size 450x200 with 1 Axes>"
      ]
     },
     "metadata": {},
     "output_type": "display_data"
    }
   ],
   "source": [
    "fig, ax = plt.subplots(figsize=(4.5, 2))\n",
    "\n",
    "df_trustworthy_weekly.plot(ax=ax, color=\"#1b9e77\")\n",
    "df_untrustworthy_weekly.plot(ax=ax, color=\"#7570b3\")\n",
    "\n",
    "df_trustworthy_40_weekly.plot(ax=ax, color=\"#1b9e77\", linestyle=\"--\")\n",
    "df_untrustworthy_weekly_40.plot(ax=ax, color=\"#7570b3\", linestyle=\"--\")\n",
    "\n",
    "df_trustworthy_80_weekly.plot(ax=ax, color=\"#1b9e77\", linestyle=\":\")\n",
    "df_untrustworthy_weekly_80.plot(ax=ax, color=\"#7570b3\", linestyle=\":\")\n",
    "\n",
    "ax.set_xlabel(\"Time (weeks)\", fontsize=8)\n",
    "ax.set_ylabel(\"News posts\",\n",
    "           fontsize=7)\n",
    "ax.tick_params(axis=\"both\", labelsize=7)\n",
    "\n",
    "# add another legend for linetypes\n",
    "ax.legend([\"T > 60\", \"N < 60\", \n",
    "           \"T > 40\", \"N < 40\", \n",
    "           \"T > 80\", \"N < 80\"],\n",
    "           loc='upper right', \n",
    "           bbox_to_anchor=(0.98, 0.55), \n",
    "           ncol=3,\n",
    "           frameon=False,\n",
    "           fontsize=7)\n",
    "\n",
    "custom_plots(ax=ax)\n",
    "\n",
    "plt.tight_layout()\n",
    "\n",
    "plt.savefig(join(dst, \"news_posts_by_rating.pdf\"),\n",
    "            bbox_inches=\"tight\",\n",
    "            dpi=300)\n",
    "\n",
    "plt.show()"
   ]
  }
 ],
 "metadata": {
  "kernelspec": {
   "display_name": "Python 3",
   "language": "python",
   "name": "python3"
  },
  "language_info": {
   "codemirror_mode": {
    "name": "ipython",
    "version": 3
   },
   "file_extension": ".py",
   "mimetype": "text/x-python",
   "name": "python",
   "nbconvert_exporter": "python",
   "pygments_lexer": "ipython3",
   "version": "3.9.15"
  }
 },
 "nbformat": 4,
 "nbformat_minor": 2
}
