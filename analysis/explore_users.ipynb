{
 "cells": [
  {
   "cell_type": "code",
   "execution_count": 1,
   "metadata": {},
   "outputs": [],
   "source": [
    "import pandas as pd\n",
    "from os.path import join\n",
    "import matplotlib.pyplot as plt\n",
    "import numpy as np\n",
    "import seaborn as sns\n",
    "from powerlaw import Fit\n",
    "from scipy import stats\n",
    "from scipy.stats import mannwhitneyu\n",
    "from scipy.stats import median_test\n",
    "from scipy.stats import ks_2samp\n",
    "from scipy.stats import levene\n",
    "import statsmodels.formula.api as smf\n",
    "from scipy.stats import gaussian_kde"
   ]
  },
  {
   "cell_type": "code",
   "execution_count": 2,
   "metadata": {},
   "outputs": [],
   "source": [
    "DIR = \"/raid5pool/tank/luehring/german_newsguard_tweets/discussions/\"\n",
    "PAPER_DIR = \"/home/luehring/emomis/emomis-discussion-paper/\""
   ]
  },
  {
   "cell_type": "code",
   "execution_count": 3,
   "metadata": {},
   "outputs": [],
   "source": [
    "#standardize plots\n",
    "def custom_plots(ax=None):\n",
    "    if ax is None:\n",
    "        ax = plt.gca()\n",
    "    ax.grid(False)\n",
    "    ax.spines[\"bottom\"].set_color(\"black\")\n",
    "    ax.spines[\"left\"].set_color(\"black\")\n",
    "    ax.spines[\"top\"].set_visible(False)\n",
    "    ax.spines[\"right\"].set_visible(False)\n",
    "    plt.gca().yaxis.set_ticks_position('left')\n",
    "    plt.gca().xaxis.set_ticks_position('bottom')"
   ]
  },
  {
   "cell_type": "code",
   "execution_count": 4,
   "metadata": {},
   "outputs": [
    {
     "data": {
      "text/html": [
       "<div>\n",
       "<style scoped>\n",
       "    .dataframe tbody tr th:only-of-type {\n",
       "        vertical-align: middle;\n",
       "    }\n",
       "\n",
       "    .dataframe tbody tr th {\n",
       "        vertical-align: top;\n",
       "    }\n",
       "\n",
       "    .dataframe thead th {\n",
       "        text-align: right;\n",
       "    }\n",
       "</style>\n",
       "<table border=\"1\" class=\"dataframe\">\n",
       "  <thead>\n",
       "    <tr style=\"text-align: right;\">\n",
       "      <th></th>\n",
       "      <th>conversation_id</th>\n",
       "      <th>id</th>\n",
       "      <th>domain</th>\n",
       "      <th>author_id</th>\n",
       "      <th>created_at</th>\n",
       "      <th>text</th>\n",
       "      <th>reply_count</th>\n",
       "      <th>retweet_count</th>\n",
       "      <th>quote_count</th>\n",
       "      <th>like_count</th>\n",
       "      <th>...</th>\n",
       "      <th>sadness</th>\n",
       "      <th>joy</th>\n",
       "      <th>enthusiasm</th>\n",
       "      <th>pride</th>\n",
       "      <th>hope</th>\n",
       "      <th>out</th>\n",
       "      <th>type</th>\n",
       "      <th>status</th>\n",
       "      <th>Orientation</th>\n",
       "      <th>step</th>\n",
       "    </tr>\n",
       "  </thead>\n",
       "  <tbody>\n",
       "    <tr>\n",
       "      <th>0</th>\n",
       "      <td>1343868571261276160</td>\n",
       "      <td>1343868571261276160</td>\n",
       "      <td>unsere-natur.net</td>\n",
       "      <td>111087017</td>\n",
       "      <td>2020-12-29 10:36:49+00:00</td>\n",
       "      <td>Superkräfte von hoch emphatischen Menschen htt...</td>\n",
       "      <td>0.0</td>\n",
       "      <td>0.0</td>\n",
       "      <td>0.0</td>\n",
       "      <td>0.0</td>\n",
       "      <td>...</td>\n",
       "      <td>0.000517</td>\n",
       "      <td>0.001237</td>\n",
       "      <td>0.002381</td>\n",
       "      <td>0.331691</td>\n",
       "      <td>0.002308</td>\n",
       "      <td>0.023976</td>\n",
       "      <td>starter</td>\n",
       "      <td>complete</td>\n",
       "      <td>Neutral</td>\n",
       "      <td>domain</td>\n",
       "    </tr>\n",
       "    <tr>\n",
       "      <th>1</th>\n",
       "      <td>1342017428679766016</td>\n",
       "      <td>1342017428679766016</td>\n",
       "      <td>unsere-natur.net</td>\n",
       "      <td>2659496035</td>\n",
       "      <td>2020-12-24 08:01:03+00:00</td>\n",
       "      <td>Berliner Senat bestätigt staatlichen Corona-Be...</td>\n",
       "      <td>0.0</td>\n",
       "      <td>0.0</td>\n",
       "      <td>0.0</td>\n",
       "      <td>0.0</td>\n",
       "      <td>...</td>\n",
       "      <td>0.000566</td>\n",
       "      <td>0.000506</td>\n",
       "      <td>0.001607</td>\n",
       "      <td>0.000628</td>\n",
       "      <td>0.000810</td>\n",
       "      <td>0.056955</td>\n",
       "      <td>starter</td>\n",
       "      <td>complete</td>\n",
       "      <td>Neutral</td>\n",
       "      <td>domain</td>\n",
       "    </tr>\n",
       "    <tr>\n",
       "      <th>2</th>\n",
       "      <td>1339283806256320512</td>\n",
       "      <td>1339283806256320512</td>\n",
       "      <td>unsere-natur.net</td>\n",
       "      <td>982980550402215936</td>\n",
       "      <td>2020-12-16 18:58:36+00:00</td>\n",
       "      <td>Diese Kinder erleben die Hölle auf Erden, dami...</td>\n",
       "      <td>0.0</td>\n",
       "      <td>0.0</td>\n",
       "      <td>0.0</td>\n",
       "      <td>0.0</td>\n",
       "      <td>...</td>\n",
       "      <td>0.066498</td>\n",
       "      <td>0.002586</td>\n",
       "      <td>0.001033</td>\n",
       "      <td>0.000809</td>\n",
       "      <td>0.000494</td>\n",
       "      <td>0.053378</td>\n",
       "      <td>starter</td>\n",
       "      <td>complete</td>\n",
       "      <td>Neutral</td>\n",
       "      <td>domain</td>\n",
       "    </tr>\n",
       "    <tr>\n",
       "      <th>3</th>\n",
       "      <td>1338377122918920193</td>\n",
       "      <td>1338377122918920193</td>\n",
       "      <td>unsere-natur.net</td>\n",
       "      <td>1287356238590881792</td>\n",
       "      <td>2020-12-14 06:55:46+00:00</td>\n",
       "      <td>Karl Lauterbach schämt sich für deutschen Erfi...</td>\n",
       "      <td>0.0</td>\n",
       "      <td>0.0</td>\n",
       "      <td>0.0</td>\n",
       "      <td>0.0</td>\n",
       "      <td>...</td>\n",
       "      <td>0.001774</td>\n",
       "      <td>0.001025</td>\n",
       "      <td>0.000438</td>\n",
       "      <td>0.004230</td>\n",
       "      <td>0.000210</td>\n",
       "      <td>0.024969</td>\n",
       "      <td>starter</td>\n",
       "      <td>complete</td>\n",
       "      <td>Neutral</td>\n",
       "      <td>domain</td>\n",
       "    </tr>\n",
       "    <tr>\n",
       "      <th>4</th>\n",
       "      <td>1336753366337286144</td>\n",
       "      <td>1336753366337286144</td>\n",
       "      <td>unsere-natur.net</td>\n",
       "      <td>982980550402215936</td>\n",
       "      <td>2020-12-09 19:23:32+00:00</td>\n",
       "      <td>Diese Kinder erleben die Hölle auf Erden, dami...</td>\n",
       "      <td>0.0</td>\n",
       "      <td>0.0</td>\n",
       "      <td>0.0</td>\n",
       "      <td>0.0</td>\n",
       "      <td>...</td>\n",
       "      <td>0.066498</td>\n",
       "      <td>0.002586</td>\n",
       "      <td>0.001033</td>\n",
       "      <td>0.000809</td>\n",
       "      <td>0.000494</td>\n",
       "      <td>0.053378</td>\n",
       "      <td>starter</td>\n",
       "      <td>complete</td>\n",
       "      <td>Neutral</td>\n",
       "      <td>domain</td>\n",
       "    </tr>\n",
       "    <tr>\n",
       "      <th>...</th>\n",
       "      <td>...</td>\n",
       "      <td>...</td>\n",
       "      <td>...</td>\n",
       "      <td>...</td>\n",
       "      <td>...</td>\n",
       "      <td>...</td>\n",
       "      <td>...</td>\n",
       "      <td>...</td>\n",
       "      <td>...</td>\n",
       "      <td>...</td>\n",
       "      <td>...</td>\n",
       "      <td>...</td>\n",
       "      <td>...</td>\n",
       "      <td>...</td>\n",
       "      <td>...</td>\n",
       "      <td>...</td>\n",
       "      <td>...</td>\n",
       "      <td>...</td>\n",
       "      <td>...</td>\n",
       "      <td>...</td>\n",
       "      <td>...</td>\n",
       "    </tr>\n",
       "    <tr>\n",
       "      <th>19498931</th>\n",
       "      <td>1478388449686212621</td>\n",
       "      <td>1478392757177786372</td>\n",
       "      <td>NaN</td>\n",
       "      <td>3338852519</td>\n",
       "      <td>2022-01-04 15:47:55+00:00</td>\n",
       "      <td>@KramerSimeon @FCAugsburg @VfB Dann nimm meine...</td>\n",
       "      <td>0.0</td>\n",
       "      <td>0.0</td>\n",
       "      <td>0.0</td>\n",
       "      <td>1.0</td>\n",
       "      <td>...</td>\n",
       "      <td>0.001158</td>\n",
       "      <td>0.003647</td>\n",
       "      <td>0.000923</td>\n",
       "      <td>0.000778</td>\n",
       "      <td>0.000308</td>\n",
       "      <td>0.051909</td>\n",
       "      <td>reply</td>\n",
       "      <td>complete</td>\n",
       "      <td>NaN</td>\n",
       "      <td>conversation</td>\n",
       "    </tr>\n",
       "    <tr>\n",
       "      <th>19498932</th>\n",
       "      <td>1478388449686212621</td>\n",
       "      <td>1478391129192153093</td>\n",
       "      <td>NaN</td>\n",
       "      <td>1301448293935910912</td>\n",
       "      <td>2022-01-04 15:41:27+00:00</td>\n",
       "      <td>@VfBWallaceFan @FCAugsburg @VfB Den Artikel ge...</td>\n",
       "      <td>1.0</td>\n",
       "      <td>0.0</td>\n",
       "      <td>0.0</td>\n",
       "      <td>1.0</td>\n",
       "      <td>...</td>\n",
       "      <td>0.000620</td>\n",
       "      <td>0.000942</td>\n",
       "      <td>0.004218</td>\n",
       "      <td>0.001348</td>\n",
       "      <td>0.000617</td>\n",
       "      <td>0.019331</td>\n",
       "      <td>reply</td>\n",
       "      <td>complete</td>\n",
       "      <td>NaN</td>\n",
       "      <td>conversation</td>\n",
       "    </tr>\n",
       "    <tr>\n",
       "      <th>19498933</th>\n",
       "      <td>1478388449686212621</td>\n",
       "      <td>1478389975125307392</td>\n",
       "      <td>NaN</td>\n",
       "      <td>3338852519</td>\n",
       "      <td>2022-01-04 15:36:51+00:00</td>\n",
       "      <td>@KramerSimeon @FCAugsburg @VfB \"Schaut nur zu\"...</td>\n",
       "      <td>1.0</td>\n",
       "      <td>0.0</td>\n",
       "      <td>0.0</td>\n",
       "      <td>0.0</td>\n",
       "      <td>...</td>\n",
       "      <td>0.001209</td>\n",
       "      <td>0.002308</td>\n",
       "      <td>0.000838</td>\n",
       "      <td>0.000434</td>\n",
       "      <td>0.000518</td>\n",
       "      <td>0.214049</td>\n",
       "      <td>reply</td>\n",
       "      <td>complete</td>\n",
       "      <td>NaN</td>\n",
       "      <td>conversation</td>\n",
       "    </tr>\n",
       "    <tr>\n",
       "      <th>19498934</th>\n",
       "      <td>1478388449686212621</td>\n",
       "      <td>1478388449686212621</td>\n",
       "      <td>zvw.de</td>\n",
       "      <td>1301448293935910912</td>\n",
       "      <td>2022-01-04 15:30:48+00:00</td>\n",
       "      <td>Während die Konkurrenz wie der @FCAugsburg auf...</td>\n",
       "      <td>6.0</td>\n",
       "      <td>0.0</td>\n",
       "      <td>0.0</td>\n",
       "      <td>4.0</td>\n",
       "      <td>...</td>\n",
       "      <td>0.000525</td>\n",
       "      <td>0.000295</td>\n",
       "      <td>0.001830</td>\n",
       "      <td>0.000523</td>\n",
       "      <td>0.000280</td>\n",
       "      <td>0.033290</td>\n",
       "      <td>starter</td>\n",
       "      <td>complete</td>\n",
       "      <td>Neutral</td>\n",
       "      <td>domain</td>\n",
       "    </tr>\n",
       "    <tr>\n",
       "      <th>19498935</th>\n",
       "      <td>1477912685534711814</td>\n",
       "      <td>1477912685534711814</td>\n",
       "      <td>zvw.de</td>\n",
       "      <td>819178131445731328</td>\n",
       "      <td>2022-01-03 08:00:17+00:00</td>\n",
       "      <td>Start your year right 😎\\n\\n➡️ Melde mich zurüc...</td>\n",
       "      <td>0.0</td>\n",
       "      <td>1.0</td>\n",
       "      <td>0.0</td>\n",
       "      <td>14.0</td>\n",
       "      <td>...</td>\n",
       "      <td>0.000318</td>\n",
       "      <td>0.001105</td>\n",
       "      <td>0.009908</td>\n",
       "      <td>0.001348</td>\n",
       "      <td>0.001730</td>\n",
       "      <td>0.009222</td>\n",
       "      <td>starter</td>\n",
       "      <td>complete</td>\n",
       "      <td>Neutral</td>\n",
       "      <td>domain</td>\n",
       "    </tr>\n",
       "  </tbody>\n",
       "</table>\n",
       "<p>19498936 rows × 28 columns</p>\n",
       "</div>"
      ],
      "text/plain": [
       "              conversation_id                   id            domain  \\\n",
       "0         1343868571261276160  1343868571261276160  unsere-natur.net   \n",
       "1         1342017428679766016  1342017428679766016  unsere-natur.net   \n",
       "2         1339283806256320512  1339283806256320512  unsere-natur.net   \n",
       "3         1338377122918920193  1338377122918920193  unsere-natur.net   \n",
       "4         1336753366337286144  1336753366337286144  unsere-natur.net   \n",
       "...                       ...                  ...               ...   \n",
       "19498931  1478388449686212621  1478392757177786372               NaN   \n",
       "19498932  1478388449686212621  1478391129192153093               NaN   \n",
       "19498933  1478388449686212621  1478389975125307392               NaN   \n",
       "19498934  1478388449686212621  1478388449686212621            zvw.de   \n",
       "19498935  1477912685534711814  1477912685534711814            zvw.de   \n",
       "\n",
       "                    author_id                 created_at  \\\n",
       "0                   111087017  2020-12-29 10:36:49+00:00   \n",
       "1                  2659496035  2020-12-24 08:01:03+00:00   \n",
       "2          982980550402215936  2020-12-16 18:58:36+00:00   \n",
       "3         1287356238590881792  2020-12-14 06:55:46+00:00   \n",
       "4          982980550402215936  2020-12-09 19:23:32+00:00   \n",
       "...                       ...                        ...   \n",
       "19498931           3338852519  2022-01-04 15:47:55+00:00   \n",
       "19498932  1301448293935910912  2022-01-04 15:41:27+00:00   \n",
       "19498933           3338852519  2022-01-04 15:36:51+00:00   \n",
       "19498934  1301448293935910912  2022-01-04 15:30:48+00:00   \n",
       "19498935   819178131445731328  2022-01-03 08:00:17+00:00   \n",
       "\n",
       "                                                       text  reply_count  \\\n",
       "0         Superkräfte von hoch emphatischen Menschen htt...          0.0   \n",
       "1         Berliner Senat bestätigt staatlichen Corona-Be...          0.0   \n",
       "2         Diese Kinder erleben die Hölle auf Erden, dami...          0.0   \n",
       "3         Karl Lauterbach schämt sich für deutschen Erfi...          0.0   \n",
       "4         Diese Kinder erleben die Hölle auf Erden, dami...          0.0   \n",
       "...                                                     ...          ...   \n",
       "19498931  @KramerSimeon @FCAugsburg @VfB Dann nimm meine...          0.0   \n",
       "19498932  @VfBWallaceFan @FCAugsburg @VfB Den Artikel ge...          1.0   \n",
       "19498933  @KramerSimeon @FCAugsburg @VfB \"Schaut nur zu\"...          1.0   \n",
       "19498934  Während die Konkurrenz wie der @FCAugsburg auf...          6.0   \n",
       "19498935  Start your year right 😎\\n\\n➡️ Melde mich zurüc...          0.0   \n",
       "\n",
       "          retweet_count  quote_count  like_count  ...   sadness       joy  \\\n",
       "0                   0.0          0.0         0.0  ...  0.000517  0.001237   \n",
       "1                   0.0          0.0         0.0  ...  0.000566  0.000506   \n",
       "2                   0.0          0.0         0.0  ...  0.066498  0.002586   \n",
       "3                   0.0          0.0         0.0  ...  0.001774  0.001025   \n",
       "4                   0.0          0.0         0.0  ...  0.066498  0.002586   \n",
       "...                 ...          ...         ...  ...       ...       ...   \n",
       "19498931            0.0          0.0         1.0  ...  0.001158  0.003647   \n",
       "19498932            0.0          0.0         1.0  ...  0.000620  0.000942   \n",
       "19498933            0.0          0.0         0.0  ...  0.001209  0.002308   \n",
       "19498934            0.0          0.0         4.0  ...  0.000525  0.000295   \n",
       "19498935            1.0          0.0        14.0  ...  0.000318  0.001105   \n",
       "\n",
       "          enthusiasm     pride      hope       out     type    status  \\\n",
       "0           0.002381  0.331691  0.002308  0.023976  starter  complete   \n",
       "1           0.001607  0.000628  0.000810  0.056955  starter  complete   \n",
       "2           0.001033  0.000809  0.000494  0.053378  starter  complete   \n",
       "3           0.000438  0.004230  0.000210  0.024969  starter  complete   \n",
       "4           0.001033  0.000809  0.000494  0.053378  starter  complete   \n",
       "...              ...       ...       ...       ...      ...       ...   \n",
       "19498931    0.000923  0.000778  0.000308  0.051909    reply  complete   \n",
       "19498932    0.004218  0.001348  0.000617  0.019331    reply  complete   \n",
       "19498933    0.000838  0.000434  0.000518  0.214049    reply  complete   \n",
       "19498934    0.001830  0.000523  0.000280  0.033290  starter  complete   \n",
       "19498935    0.009908  0.001348  0.001730  0.009222  starter  complete   \n",
       "\n",
       "          Orientation          step  \n",
       "0             Neutral        domain  \n",
       "1             Neutral        domain  \n",
       "2             Neutral        domain  \n",
       "3             Neutral        domain  \n",
       "4             Neutral        domain  \n",
       "...               ...           ...  \n",
       "19498931          NaN  conversation  \n",
       "19498932          NaN  conversation  \n",
       "19498933          NaN  conversation  \n",
       "19498934      Neutral        domain  \n",
       "19498935      Neutral        domain  \n",
       "\n",
       "[19498936 rows x 28 columns]"
      ]
     },
     "execution_count": 4,
     "metadata": {},
     "output_type": "execute_result"
    }
   ],
   "source": [
    "df = pd.read_csv(join(DIR, \"discussions_complete.csv.gz\"),\n",
    "                            compression=\"gzip\")\n",
    "df"
   ]
  },
  {
   "cell_type": "code",
   "execution_count": 5,
   "metadata": {},
   "outputs": [
    {
     "data": {
      "text/plain": [
       "19498936"
      ]
     },
     "execution_count": 5,
     "metadata": {},
     "output_type": "execute_result"
    }
   ],
   "source": [
    "len(df)"
   ]
  },
  {
   "cell_type": "code",
   "execution_count": 6,
   "metadata": {},
   "outputs": [
    {
     "data": {
      "text/plain": [
       "reply      10831242\n",
       "starter     8667694\n",
       "Name: type, dtype: int64"
      ]
     },
     "execution_count": 6,
     "metadata": {},
     "output_type": "execute_result"
    }
   ],
   "source": [
    "df[\"type\"].value_counts()"
   ]
  },
  {
   "cell_type": "code",
   "execution_count": 7,
   "metadata": {},
   "outputs": [],
   "source": [
    "starter = df[df[\"type\"] == \"starter\"]"
   ]
  },
  {
   "cell_type": "code",
   "execution_count": 8,
   "metadata": {},
   "outputs": [
    {
     "data": {
      "text/plain": [
       "534855"
      ]
     },
     "execution_count": 8,
     "metadata": {},
     "output_type": "execute_result"
    }
   ],
   "source": [
    "misinfo_starter = starter[starter[\"Rating\"] == \"N\"]\n",
    "len(misinfo_starter)"
   ]
  },
  {
   "cell_type": "code",
   "execution_count": 9,
   "metadata": {},
   "outputs": [
    {
     "data": {
      "text/plain": [
       "N    534855\n",
       "Name: Rating, dtype: int64"
      ]
     },
     "execution_count": 9,
     "metadata": {},
     "output_type": "execute_result"
    }
   ],
   "source": [
    "# number of conversations\n",
    "misinfo_starter[\"Rating\"].value_counts()"
   ]
  },
  {
   "cell_type": "code",
   "execution_count": 10,
   "metadata": {},
   "outputs": [
    {
     "data": {
      "text/plain": [
       "(530624, 530624)"
      ]
     },
     "execution_count": 10,
     "metadata": {},
     "output_type": "execute_result"
    }
   ],
   "source": [
    "# number of conversations\n",
    "misinfo_starter[\"conversation_id\"].nunique(), misinfo_starter[\"id\"].nunique()"
   ]
  },
  {
   "cell_type": "code",
   "execution_count": 11,
   "metadata": {},
   "outputs": [
    {
     "data": {
      "text/plain": [
       "10831242"
      ]
     },
     "execution_count": 11,
     "metadata": {},
     "output_type": "execute_result"
    }
   ],
   "source": [
    "replies = df[df[\"type\"] == \"reply\"] #only replies\n",
    "len(replies)"
   ]
  },
  {
   "cell_type": "code",
   "execution_count": 12,
   "metadata": {},
   "outputs": [
    {
     "data": {
      "text/plain": [
       "395579"
      ]
     },
     "execution_count": 12,
     "metadata": {},
     "output_type": "execute_result"
    }
   ],
   "source": [
    "n_all_users = replies[\"author_id\"].nunique() # n_users in only replies\n",
    "n_all_users"
   ]
  },
  {
   "cell_type": "code",
   "execution_count": 13,
   "metadata": {},
   "outputs": [
    {
     "data": {
      "text/plain": [
       "413084"
      ]
     },
     "execution_count": 13,
     "metadata": {},
     "output_type": "execute_result"
    }
   ],
   "source": [
    "# extract replies from df\n",
    "misinfo_replies = replies[replies[\"conversation_id\"].isin(misinfo_starter[\"conversation_id\"])]\n",
    "len(misinfo_replies)"
   ]
  },
  {
   "cell_type": "code",
   "execution_count": 14,
   "metadata": {},
   "outputs": [
    {
     "data": {
      "text/plain": [
       "43975"
      ]
     },
     "execution_count": 14,
     "metadata": {},
     "output_type": "execute_result"
    }
   ],
   "source": [
    "misinfo_replies[\"author_id\"].nunique()"
   ]
  },
  {
   "cell_type": "code",
   "execution_count": 15,
   "metadata": {},
   "outputs": [
    {
     "data": {
      "text/plain": [
       "38729"
      ]
     },
     "execution_count": 15,
     "metadata": {},
     "output_type": "execute_result"
    }
   ],
   "source": [
    "# how many misinfo conversations?\n",
    "misinfo_replies[\"conversation_id\"].nunique()"
   ]
  },
  {
   "cell_type": "code",
   "execution_count": 16,
   "metadata": {},
   "outputs": [
    {
     "data": {
      "text/plain": [
       "413084"
      ]
     },
     "execution_count": 16,
     "metadata": {},
     "output_type": "execute_result"
    }
   ],
   "source": [
    "# what is the total number of replies?\n",
    "len(misinfo_replies)"
   ]
  },
  {
   "cell_type": "code",
   "execution_count": 17,
   "metadata": {},
   "outputs": [
    {
     "data": {
      "text/plain": [
       "43975"
      ]
     },
     "execution_count": 17,
     "metadata": {},
     "output_type": "execute_result"
    }
   ],
   "source": [
    "# how many unique users?\n",
    "misinfo_replies[\"author_id\"].nunique()"
   ]
  },
  {
   "cell_type": "code",
   "execution_count": 18,
   "metadata": {},
   "outputs": [
    {
     "data": {
      "image/png": "[encoded data removed]",
      "text/plain": [
       "<Figure size 640x480 with 1 Axes>"
      ]
     },
     "metadata": {},
     "output_type": "display_data"
    }
   ],
   "source": [
    "# count frequency of author_id\n",
    "misinfo_replies[\"author_id\"].value_counts().plot.hist(bins=100)\n",
    "custom_plots()"
   ]
  },
  {
   "cell_type": "markdown",
   "metadata": {},
   "source": [
    "## Untrustworthy sources"
   ]
  },
  {
   "cell_type": "code",
   "execution_count": 19,
   "metadata": {},
   "outputs": [
    {
     "data": {
      "text/html": [
       "<div>\n",
       "<style scoped>\n",
       "    .dataframe tbody tr th:only-of-type {\n",
       "        vertical-align: middle;\n",
       "    }\n",
       "\n",
       "    .dataframe tbody tr th {\n",
       "        vertical-align: top;\n",
       "    }\n",
       "\n",
       "    .dataframe thead th {\n",
       "        text-align: right;\n",
       "    }\n",
       "</style>\n",
       "<table border=\"1\" class=\"dataframe\">\n",
       "  <thead>\n",
       "    <tr style=\"text-align: right;\">\n",
       "      <th></th>\n",
       "      <th>n_discussions</th>\n",
       "      <th>n_replies</th>\n",
       "      <th>n_all_users</th>\n",
       "      <th>n_users</th>\n",
       "      <th>users_for_90</th>\n",
       "      <th>users_for_80</th>\n",
       "      <th>users_for_70</th>\n",
       "      <th>p_90</th>\n",
       "      <th>p_80</th>\n",
       "      <th>p_70</th>\n",
       "    </tr>\n",
       "  </thead>\n",
       "  <tbody>\n",
       "    <tr>\n",
       "      <th>0</th>\n",
       "      <td>38729</td>\n",
       "      <td>413084</td>\n",
       "      <td>395579</td>\n",
       "      <td>43975</td>\n",
       "      <td>15991</td>\n",
       "      <td>8241</td>\n",
       "      <td>4685</td>\n",
       "      <td>4.042429</td>\n",
       "      <td>2.083275</td>\n",
       "      <td>1.18434</td>\n",
       "    </tr>\n",
       "  </tbody>\n",
       "</table>\n",
       "</div>"
      ],
      "text/plain": [
       "   n_discussions  n_replies  n_all_users  n_users  users_for_90  users_for_80  \\\n",
       "0          38729     413084       395579    43975         15991          8241   \n",
       "\n",
       "   users_for_70      p_90      p_80     p_70  \n",
       "0          4685  4.042429  2.083275  1.18434  "
      ]
     },
     "execution_count": 19,
     "metadata": {},
     "output_type": "execute_result"
    }
   ],
   "source": [
    "def summarize_authors(df, n_all_users):\n",
    "    n_users = df[\"author_id\"].nunique()\n",
    "    n_discussions = df[\"conversation_id\"].nunique()\n",
    "    n_replies = len(df)\n",
    "\n",
    "    author_freq = df[\"author_id\"]\\\n",
    "                    .value_counts()\\\n",
    "                    .reset_index()\\\n",
    "                    .rename(\n",
    "                        columns={\n",
    "                            \"index\": \"author_id\",\n",
    "                            \"author_id\": \"n_replies\"})\n",
    "\n",
    "\n",
    "    # calculate percentage of replies per user\n",
    "    author_freq[\"replies_perc\"] = author_freq[\"n_replies\"] / n_replies * 100\n",
    "\n",
    "\n",
    "    # calculate cumulative percentage\n",
    "    author_freq = author_freq.sort_values(\"n_replies\", ascending=False)\n",
    "    author_freq[\"cum_replies\"] = author_freq[\"n_replies\"].cumsum()\n",
    "    author_freq[\"cum_perc\"] = author_freq[\"cum_replies\"] / n_replies * 100\n",
    "\n",
    "    # keep users until X% of the replies\n",
    "    users_for_90 = (author_freq[\"cum_perc\"] <= 90).sum()\n",
    "    users_for_80 = (author_freq[\"cum_perc\"] <= 80).sum()\n",
    "    users_for_70 = (author_freq[\"cum_perc\"] <= 70).sum()\n",
    "\n",
    "    # calculate percentage of users\n",
    "    p_90 = users_for_90 / n_all_users * 100\n",
    "    p_80 = users_for_80 / n_all_users * 100\n",
    "    p_70 = users_for_70 / n_all_users * 100\n",
    "\n",
    "    # create a df in long format\n",
    "    summary = pd.DataFrame({\n",
    "                            \"n_discussions\": n_discussions,\n",
    "                            \"n_replies\": n_replies,\n",
    "                            \"n_all_users\": n_all_users,\n",
    "                            \"n_users\": n_users,\n",
    "                            \"users_for_90\": users_for_90,\n",
    "                            \"users_for_80\": users_for_80,\n",
    "                            \"users_for_70\": users_for_70,\n",
    "                            \"p_90\": p_90,\n",
    "                            \"p_80\": p_80,\n",
    "                            \"p_70\": p_70},\n",
    "                            index=[0])\n",
    "\n",
    "    return summary\n",
    "\n",
    "misinfo_summary = summarize_authors(misinfo_replies, n_all_users)\n",
    "misinfo_summary"
   ]
  },
  {
   "cell_type": "markdown",
   "metadata": {},
   "source": [
    "## Trustworthy sources"
   ]
  },
  {
   "cell_type": "code",
   "execution_count": 20,
   "metadata": {},
   "outputs": [
    {
     "data": {
      "text/plain": [
       "(8109064, 8667694)"
      ]
     },
     "execution_count": 20,
     "metadata": {},
     "output_type": "execute_result"
    }
   ],
   "source": [
    "trust_starter = starter[starter[\"Rating\"] == \"T\"]\n",
    "len(trust_starter), len(starter)"
   ]
  },
  {
   "cell_type": "code",
   "execution_count": 21,
   "metadata": {},
   "outputs": [
    {
     "data": {
      "text/plain": [
       "10420313"
      ]
     },
     "execution_count": 21,
     "metadata": {},
     "output_type": "execute_result"
    }
   ],
   "source": [
    "# extract replies from df\n",
    "trust_replies = replies[replies[\"conversation_id\"].isin(trust_starter[\"conversation_id\"])]\n",
    "len(trust_replies)"
   ]
  },
  {
   "cell_type": "code",
   "execution_count": 22,
   "metadata": {},
   "outputs": [
    {
     "data": {
      "text/plain": [
       "<Axes: ylabel='Frequency'>"
      ]
     },
     "execution_count": 22,
     "metadata": {},
     "output_type": "execute_result"
    },
    {
     "data": {
      "image/png": "[encoded data removed]",
      "text/plain": [
       "<Figure size 640x480 with 1 Axes>"
      ]
     },
     "metadata": {},
     "output_type": "display_data"
    }
   ],
   "source": [
    "# count frequency of author_id\n",
    "trust_replies[\"author_id\"].value_counts().plot.hist(bins=100)"
   ]
  },
  {
   "cell_type": "code",
   "execution_count": 23,
   "metadata": {},
   "outputs": [
    {
     "data": {
      "text/html": [
       "<div>\n",
       "<style scoped>\n",
       "    .dataframe tbody tr th:only-of-type {\n",
       "        vertical-align: middle;\n",
       "    }\n",
       "\n",
       "    .dataframe tbody tr th {\n",
       "        vertical-align: top;\n",
       "    }\n",
       "\n",
       "    .dataframe thead th {\n",
       "        text-align: right;\n",
       "    }\n",
       "</style>\n",
       "<table border=\"1\" class=\"dataframe\">\n",
       "  <thead>\n",
       "    <tr style=\"text-align: right;\">\n",
       "      <th></th>\n",
       "      <th>n_discussions</th>\n",
       "      <th>n_replies</th>\n",
       "      <th>n_all_users</th>\n",
       "      <th>n_users</th>\n",
       "      <th>users_for_90</th>\n",
       "      <th>users_for_80</th>\n",
       "      <th>users_for_70</th>\n",
       "      <th>p_90</th>\n",
       "      <th>p_80</th>\n",
       "      <th>p_70</th>\n",
       "    </tr>\n",
       "  </thead>\n",
       "  <tbody>\n",
       "    <tr>\n",
       "      <th>0</th>\n",
       "      <td>813735</td>\n",
       "      <td>10420313</td>\n",
       "      <td>395579</td>\n",
       "      <td>391943</td>\n",
       "      <td>76579</td>\n",
       "      <td>37958</td>\n",
       "      <td>21976</td>\n",
       "      <td>19.358712</td>\n",
       "      <td>9.595555</td>\n",
       "      <td>5.555401</td>\n",
       "    </tr>\n",
       "  </tbody>\n",
       "</table>\n",
       "</div>"
      ],
      "text/plain": [
       "   n_discussions  n_replies  n_all_users  n_users  users_for_90  users_for_80  \\\n",
       "0         813735   10420313       395579   391943         76579         37958   \n",
       "\n",
       "   users_for_70       p_90      p_80      p_70  \n",
       "0         21976  19.358712  9.595555  5.555401  "
      ]
     },
     "execution_count": 23,
     "metadata": {},
     "output_type": "execute_result"
    }
   ],
   "source": [
    "trust_summary = summarize_authors(trust_replies, n_all_users)\n",
    "trust_summary"
   ]
  },
  {
   "cell_type": "markdown",
   "metadata": {},
   "source": [
    "## Total sources"
   ]
  },
  {
   "cell_type": "code",
   "execution_count": 24,
   "metadata": {},
   "outputs": [
    {
     "data": {
      "text/html": [
       "<div>\n",
       "<style scoped>\n",
       "    .dataframe tbody tr th:only-of-type {\n",
       "        vertical-align: middle;\n",
       "    }\n",
       "\n",
       "    .dataframe tbody tr th {\n",
       "        vertical-align: top;\n",
       "    }\n",
       "\n",
       "    .dataframe thead th {\n",
       "        text-align: right;\n",
       "    }\n",
       "</style>\n",
       "<table border=\"1\" class=\"dataframe\">\n",
       "  <thead>\n",
       "    <tr style=\"text-align: right;\">\n",
       "      <th></th>\n",
       "      <th>n_discussions</th>\n",
       "      <th>n_replies</th>\n",
       "      <th>n_all_users</th>\n",
       "      <th>n_users</th>\n",
       "      <th>users_for_90</th>\n",
       "      <th>users_for_80</th>\n",
       "      <th>users_for_70</th>\n",
       "      <th>p_90</th>\n",
       "      <th>p_80</th>\n",
       "      <th>p_70</th>\n",
       "    </tr>\n",
       "  </thead>\n",
       "  <tbody>\n",
       "    <tr>\n",
       "      <th>0</th>\n",
       "      <td>852326</td>\n",
       "      <td>10831242</td>\n",
       "      <td>395579</td>\n",
       "      <td>395579</td>\n",
       "      <td>75975</td>\n",
       "      <td>37646</td>\n",
       "      <td>21821</td>\n",
       "      <td>19.206025</td>\n",
       "      <td>9.516683</td>\n",
       "      <td>5.516218</td>\n",
       "    </tr>\n",
       "  </tbody>\n",
       "</table>\n",
       "</div>"
      ],
      "text/plain": [
       "   n_discussions  n_replies  n_all_users  n_users  users_for_90  users_for_80  \\\n",
       "0         852326   10831242       395579   395579         75975         37646   \n",
       "\n",
       "   users_for_70       p_90      p_80      p_70  \n",
       "0         21821  19.206025  9.516683  5.516218  "
      ]
     },
     "execution_count": 24,
     "metadata": {},
     "output_type": "execute_result"
    }
   ],
   "source": [
    "total_summary = summarize_authors(replies, n_all_users)\n",
    "total_summary"
   ]
  },
  {
   "cell_type": "code",
   "execution_count": 25,
   "metadata": {},
   "outputs": [],
   "source": [
    "# merge misinfo_summary and trust_summary \n",
    "summary = pd.concat([misinfo_summary, trust_summary], axis=0)\n",
    "summary[\"Source\"] = [\"Untrustworthy\", \"Trustworthy\"]"
   ]
  },
  {
   "cell_type": "code",
   "execution_count": 26,
   "metadata": {},
   "outputs": [
    {
     "data": {
      "text/html": [
       "<div>\n",
       "<style scoped>\n",
       "    .dataframe tbody tr th:only-of-type {\n",
       "        vertical-align: middle;\n",
       "    }\n",
       "\n",
       "    .dataframe tbody tr th {\n",
       "        vertical-align: top;\n",
       "    }\n",
       "\n",
       "    .dataframe thead th {\n",
       "        text-align: right;\n",
       "    }\n",
       "</style>\n",
       "<table border=\"1\" class=\"dataframe\">\n",
       "  <thead>\n",
       "    <tr style=\"text-align: right;\">\n",
       "      <th></th>\n",
       "      <th>n_discussions</th>\n",
       "      <th>n_replies</th>\n",
       "      <th>n_users</th>\n",
       "      <th>users_for_90</th>\n",
       "      <th>users_for_80</th>\n",
       "      <th>users_for_70</th>\n",
       "      <th>Source</th>\n",
       "    </tr>\n",
       "  </thead>\n",
       "  <tbody>\n",
       "    <tr>\n",
       "      <th>0</th>\n",
       "      <td>38,729 (4.5%)</td>\n",
       "      <td>413,084 (3.8%)</td>\n",
       "      <td>43,975 (11.1%)</td>\n",
       "      <td>15,991 (4.0%)</td>\n",
       "      <td>8,241 (2.1%)</td>\n",
       "      <td>4,685 (1.2%)</td>\n",
       "      <td>Untrustworthy</td>\n",
       "    </tr>\n",
       "    <tr>\n",
       "      <th>0</th>\n",
       "      <td>813,735 (95.5%)</td>\n",
       "      <td>10,420,313 (96.2%)</td>\n",
       "      <td>391,943 (99.1%)</td>\n",
       "      <td>76,579 (19.4%)</td>\n",
       "      <td>37,958 (9.6%)</td>\n",
       "      <td>21,976 (5.6%)</td>\n",
       "      <td>Trustworthy</td>\n",
       "    </tr>\n",
       "    <tr>\n",
       "      <th>0</th>\n",
       "      <td>852,326</td>\n",
       "      <td>10,831,242</td>\n",
       "      <td>395,579</td>\n",
       "      <td>75,975 (19.2%)</td>\n",
       "      <td>37,646 (9.5%)</td>\n",
       "      <td>21,821 (5.5%)</td>\n",
       "      <td>Total</td>\n",
       "    </tr>\n",
       "  </tbody>\n",
       "</table>\n",
       "</div>"
      ],
      "text/plain": [
       "     n_discussions           n_replies          n_users    users_for_90  \\\n",
       "0    38,729 (4.5%)      413,084 (3.8%)   43,975 (11.1%)   15,991 (4.0%)   \n",
       "0  813,735 (95.5%)  10,420,313 (96.2%)  391,943 (99.1%)  76,579 (19.4%)   \n",
       "0         852,326          10,831,242          395,579   75,975 (19.2%)   \n",
       "\n",
       "    users_for_80   users_for_70         Source  \n",
       "0   8,241 (2.1%)   4,685 (1.2%)  Untrustworthy  \n",
       "0  37,958 (9.6%)  21,976 (5.6%)    Trustworthy  \n",
       "0  37,646 (9.5%)  21,821 (5.5%)          Total  "
      ]
     },
     "execution_count": 26,
     "metadata": {},
     "output_type": "execute_result"
    }
   ],
   "source": [
    "\n",
    "summary = pd.concat([misinfo_summary, trust_summary], axis=0)\n",
    "summary[\"Source\"] = [\"Untrustworthy\", \"Trustworthy\"]\n",
    "\n",
    "# Compute percentages\n",
    "summary[\"p_users\"] = summary[\"n_users\"] / summary[\"n_all_users\"] * 100\n",
    "summary[\"p_discussions\"] = summary[\"n_discussions\"] / summary[\"n_discussions\"].sum() * 100\n",
    "summary[\"p_replies\"] = summary[\"n_replies\"] / summary[\"n_replies\"].sum() * 100\n",
    "\n",
    "# Add the Total row **before formatting**\n",
    "summary = pd.concat([summary, total_summary], axis=0)\n",
    "summary[\"Source\"] = [\"Untrustworthy\", \"Trustworthy\", \"Total\"]\n",
    "\n",
    "# Ensure all relevant columns are numeric before formatting\n",
    "comma_cols = [\"n_discussions\", \"n_replies\", \"n_all_users\", \"n_users\", \"users_for_90\", \"users_for_80\", \"users_for_70\"]\n",
    "summary[comma_cols] = summary[comma_cols].apply(pd.to_numeric, errors='coerce')\n",
    "\n",
    "# Apply comma formatting **only for the first two rows (excluding Total)**\n",
    "summary.loc[:1, comma_cols] = summary.loc[:1, comma_cols].applymap(lambda x: f\"{x:,.0f}\" if pd.notna(x) else \"N/A\")\n",
    "\n",
    "# Format numbers with percentages\n",
    "summary[\"n_users\"] = summary[\"n_users\"].astype(str) + \" (\" + summary[\"p_users\"].round(1).astype(str) + \"%)\"\n",
    "summary[\"n_discussions\"] = summary[\"n_discussions\"].astype(str) + \" (\" + summary[\"p_discussions\"].round(1).astype(str) + \"%)\"\n",
    "summary[\"n_replies\"] = summary[\"n_replies\"].astype(str) + \" (\" + summary[\"p_replies\"].round(1).astype(str) + \"%)\"\n",
    "\n",
    "# Format user breakdown percentages\n",
    "summary[\"users_for_90\"] = summary[\"users_for_90\"].astype(str) + \" (\" + summary[\"p_90\"].round(1).astype(str) + \"%)\"\n",
    "summary[\"users_for_80\"] = summary[\"users_for_80\"].astype(str) + \" (\" + summary[\"p_80\"].round(1).astype(str) + \"%)\"\n",
    "summary[\"users_for_70\"] = summary[\"users_for_70\"].astype(str) + \" (\" + summary[\"p_70\"].round(1).astype(str) + \"%)\"\n",
    "\n",
    "# Drop unnecessary percentage columns\n",
    "summary = summary.drop(columns=[\"p_90\", \"p_80\", \"p_70\", \"p_users\", \"p_discussions\", \"p_replies\", \"n_all_users\"])\n",
    "\n",
    "summary = summary.applymap(lambda x: x.replace(\"(nan%)\", \"\"))\n",
    "summary"
   ]
  },
  {
   "cell_type": "code",
   "execution_count": 27,
   "metadata": {},
   "outputs": [
    {
     "data": {
      "text/html": [
       "<div>\n",
       "<style scoped>\n",
       "    .dataframe tbody tr th:only-of-type {\n",
       "        vertical-align: middle;\n",
       "    }\n",
       "\n",
       "    .dataframe tbody tr th {\n",
       "        vertical-align: top;\n",
       "    }\n",
       "\n",
       "    .dataframe thead th {\n",
       "        text-align: right;\n",
       "    }\n",
       "</style>\n",
       "<table border=\"1\" class=\"dataframe\">\n",
       "  <thead>\n",
       "    <tr style=\"text-align: right;\">\n",
       "      <th></th>\n",
       "      <th>N</th>\n",
       "      <th>Untrustworthy</th>\n",
       "      <th>Trustworthy</th>\n",
       "      <th>Total</th>\n",
       "    </tr>\n",
       "  </thead>\n",
       "  <tbody>\n",
       "    <tr>\n",
       "      <th>0</th>\n",
       "      <td>Discussions</td>\n",
       "      <td>38,729 (4.5%)</td>\n",
       "      <td>813,735 (95.5%)</td>\n",
       "      <td>852,326</td>\n",
       "    </tr>\n",
       "    <tr>\n",
       "      <th>1</th>\n",
       "      <td>Replies</td>\n",
       "      <td>413,084 (3.8%)</td>\n",
       "      <td>10,420,313 (96.2%)</td>\n",
       "      <td>10,831,242</td>\n",
       "    </tr>\n",
       "    <tr>\n",
       "      <th>2</th>\n",
       "      <td>Users</td>\n",
       "      <td>43,975 (11.1%)</td>\n",
       "      <td>391,943 (99.1%)</td>\n",
       "      <td>395,579</td>\n",
       "    </tr>\n",
       "    <tr>\n",
       "      <th>3</th>\n",
       "      <td>Users (70%)</td>\n",
       "      <td>4,685 (1.2%)</td>\n",
       "      <td>21,976 (5.6%)</td>\n",
       "      <td>21,821 (5.5%)</td>\n",
       "    </tr>\n",
       "    <tr>\n",
       "      <th>4</th>\n",
       "      <td>Users (80%)</td>\n",
       "      <td>8,241 (2.1%)</td>\n",
       "      <td>37,958 (9.6%)</td>\n",
       "      <td>37,646 (9.5%)</td>\n",
       "    </tr>\n",
       "    <tr>\n",
       "      <th>5</th>\n",
       "      <td>Users (90%)</td>\n",
       "      <td>15,991 (4.0%)</td>\n",
       "      <td>76,579 (19.4%)</td>\n",
       "      <td>75,975 (19.2%)</td>\n",
       "    </tr>\n",
       "  </tbody>\n",
       "</table>\n",
       "</div>"
      ],
      "text/plain": [
       "             N   Untrustworthy         Trustworthy           Total\n",
       "0  Discussions   38,729 (4.5%)     813,735 (95.5%)        852,326 \n",
       "1      Replies  413,084 (3.8%)  10,420,313 (96.2%)     10,831,242 \n",
       "2        Users  43,975 (11.1%)     391,943 (99.1%)        395,579 \n",
       "3  Users (70%)    4,685 (1.2%)       21,976 (5.6%)   21,821 (5.5%)\n",
       "4  Users (80%)    8,241 (2.1%)       37,958 (9.6%)   37,646 (9.5%)\n",
       "5  Users (90%)   15,991 (4.0%)      76,579 (19.4%)  75,975 (19.2%)"
      ]
     },
     "execution_count": 27,
     "metadata": {},
     "output_type": "execute_result"
    }
   ],
   "source": [
    "# into long format with Source as the only column not to be melted\n",
    "summary_long = pd.melt(summary, id_vars=[\"Source\"], var_name=\"N\", value_name=\"Value\")\n",
    "user_table = summary_long.pivot(index=\"N\", columns=\"Source\", values=\"Value\").reset_index()\n",
    "user_table.columns.name = None  # Remove the hierarchical column name\n",
    "\n",
    "# reorder columns\n",
    "user_table = user_table[[\"N\", \"Untrustworthy\", \"Trustworthy\", \"Total\"]]\n",
    "user_table.columns = [\"N\", \"Untrustworthy\", \"Trustworthy\", \"Total\"]\n",
    "\n",
    "# rename N variables\n",
    "user_table[\"N\"] = user_table[\"N\"]\\\n",
    "        .str.replace(\"n_\", \"\")\\\n",
    "        .str.replace(\"_for_\", \" (\")\\\n",
    "        .str.replace(\"0\", \"0%)\")\\\n",
    "        .str.capitalize()\n",
    "user_table"
   ]
  },
  {
   "cell_type": "code",
   "execution_count": 28,
   "metadata": {},
   "outputs": [
    {
     "data": {
      "text/html": [
       "<div>\n",
       "<style scoped>\n",
       "    .dataframe tbody tr th:only-of-type {\n",
       "        vertical-align: middle;\n",
       "    }\n",
       "\n",
       "    .dataframe tbody tr th {\n",
       "        vertical-align: top;\n",
       "    }\n",
       "\n",
       "    .dataframe thead th {\n",
       "        text-align: right;\n",
       "    }\n",
       "</style>\n",
       "<table border=\"1\" class=\"dataframe\">\n",
       "  <thead>\n",
       "    <tr style=\"text-align: right;\">\n",
       "      <th></th>\n",
       "      <th>N</th>\n",
       "      <th>Untrustworthy</th>\n",
       "      <th>Trustworthy</th>\n",
       "      <th>Total</th>\n",
       "    </tr>\n",
       "  </thead>\n",
       "  <tbody>\n",
       "    <tr>\n",
       "      <th>0</th>\n",
       "      <td>Discussions</td>\n",
       "      <td>38,729 (4.5\\%)</td>\n",
       "      <td>813,735 (95.5\\%)</td>\n",
       "      <td>852,326</td>\n",
       "    </tr>\n",
       "    <tr>\n",
       "      <th>1</th>\n",
       "      <td>Replies</td>\n",
       "      <td>413,084 (3.8\\%)</td>\n",
       "      <td>10,420,313 (96.2\\%)</td>\n",
       "      <td>10,831,242</td>\n",
       "    </tr>\n",
       "    <tr>\n",
       "      <th>2</th>\n",
       "      <td>Users</td>\n",
       "      <td>43,975 (11.1\\%)</td>\n",
       "      <td>391,943 (99.1\\%)</td>\n",
       "      <td>395,579</td>\n",
       "    </tr>\n",
       "    <tr>\n",
       "      <th>3</th>\n",
       "      <td>Users (70\\%)</td>\n",
       "      <td>4,685 (1.2\\%)</td>\n",
       "      <td>21,976 (5.6\\%)</td>\n",
       "      <td>21,821 (5.5\\%)</td>\n",
       "    </tr>\n",
       "    <tr>\n",
       "      <th>4</th>\n",
       "      <td>Users (80\\%)</td>\n",
       "      <td>8,241 (2.1\\%)</td>\n",
       "      <td>37,958 (9.6\\%)</td>\n",
       "      <td>37,646 (9.5\\%)</td>\n",
       "    </tr>\n",
       "    <tr>\n",
       "      <th>5</th>\n",
       "      <td>Users (90\\%)</td>\n",
       "      <td>15,991 (4.0\\%)</td>\n",
       "      <td>76,579 (19.4\\%)</td>\n",
       "      <td>75,975 (19.2\\%)</td>\n",
       "    </tr>\n",
       "  </tbody>\n",
       "</table>\n",
       "</div>"
      ],
      "text/plain": [
       "              N    Untrustworthy          Trustworthy            Total\n",
       "0   Discussions   38,729 (4.5\\%)     813,735 (95.5\\%)         852,326 \n",
       "1       Replies  413,084 (3.8\\%)  10,420,313 (96.2\\%)      10,831,242 \n",
       "2         Users  43,975 (11.1\\%)     391,943 (99.1\\%)         395,579 \n",
       "3  Users (70\\%)    4,685 (1.2\\%)       21,976 (5.6\\%)   21,821 (5.5\\%)\n",
       "4  Users (80\\%)    8,241 (2.1\\%)       37,958 (9.6\\%)   37,646 (9.5\\%)\n",
       "5  Users (90\\%)   15,991 (4.0\\%)      76,579 (19.4\\%)  75,975 (19.2\\%)"
      ]
     },
     "execution_count": 28,
     "metadata": {},
     "output_type": "execute_result"
    }
   ],
   "source": [
    "# save as latex table\n",
    "# replace all % with \\%\n",
    "user_table_latex = user_table.replace(\"%\", \"\\\\%\", regex=True)\n",
    "user_table_latex"
   ]
  },
  {
   "cell_type": "code",
   "execution_count": 29,
   "metadata": {},
   "outputs": [
    {
     "name": "stderr",
     "output_type": "stream",
     "text": [
      "/tmp/ipykernel_3929320/2339542786.py:1: FutureWarning: In future versions `DataFrame.to_latex` is expected to utilise the base implementation of `Styler.to_latex` for formatting and rendering. The arguments signature may therefore change. It is recommended instead to use `DataFrame.style.to_latex` which also contains additional functionality.\n",
      "  user_table_latex.to_latex(join(DIR, \"user_table.tex\"), index=False, escape=False)\n",
      "/tmp/ipykernel_3929320/2339542786.py:2: FutureWarning: In future versions `DataFrame.to_latex` is expected to utilise the base implementation of `Styler.to_latex` for formatting and rendering. The arguments signature may therefore change. It is recommended instead to use `DataFrame.style.to_latex` which also contains additional functionality.\n",
      "  user_table_latex.to_latex(join(PAPER_DIR, \"tables/\", \"user_table.tex\"), index=False, escape=False)\n"
     ]
    }
   ],
   "source": [
    "user_table_latex.to_latex(join(DIR, \"user_table.tex\"), index=False, escape=False)\n",
    "user_table_latex.to_latex(join(PAPER_DIR, \"tables/\", \"user_table.tex\"), index=False, escape=False)"
   ]
  },
  {
   "cell_type": "markdown",
   "metadata": {},
   "source": [
    "## Within-group differences"
   ]
  },
  {
   "cell_type": "code",
   "execution_count": 30,
   "metadata": {},
   "outputs": [],
   "source": [
    "def def_cum_replies(df):\n",
    "    author_freq = df[\"author_id\"]\\\n",
    "                    .value_counts()\\\n",
    "                    .reset_index()\\\n",
    "                    .rename(\n",
    "                        columns={\n",
    "                            \"index\": \"author_id\",\n",
    "                            \"author_id\": \"n_replies\"})\n",
    "    author_freq = author_freq.sort_values(\"n_replies\", ascending=False)\n",
    "    author_freq[\"cum_replies\"] = author_freq[\"n_replies\"].cumsum()\n",
    "    author_freq[\"cum_perc\"] = author_freq[\"cum_replies\"] / len(df) * 100\n",
    "\n",
    "    author_cum_replies = author_freq[\"cum_perc\"].values\n",
    "    cutoff = np.argmax(author_cum_replies >= 80)\n",
    "\n",
    "    return author_freq, cutoff \n",
    "\n",
    "misinfo_users, misinfo_cutoff = def_cum_replies(misinfo_replies)\n",
    "trust_users, trust_cutoff = def_cum_replies(trust_replies)\n",
    "all_users, all_cutoff = def_cum_replies(replies)"
   ]
  },
  {
   "cell_type": "code",
   "execution_count": 31,
   "metadata": {},
   "outputs": [
    {
     "data": {
      "image/png": "[encoded data removed]",
      "text/plain": [
       "<Figure size 450x250 with 1 Axes>"
      ]
     },
     "metadata": {},
     "output_type": "display_data"
    }
   ],
   "source": [
    "plt.figure(figsize=(4.5, 2.5))\n",
    "plt.plot(misinfo_users[\"cum_perc\"], label=\"Untrustworthy\", color=\"#7570b3\",\n",
    "            linewidth=0.7)  \n",
    "plt.plot(trust_users[\"cum_perc\"], label=\"Trustworthy\", color=\"#1b9e77\",\n",
    "            linewidth=0.7)\n",
    "\n",
    "plt.axhline(80, color=\"black\", linestyle=\"--\", alpha=0.6)\n",
    "plt.axvline(misinfo_cutoff, color=\"black\", linestyle=\"--\", alpha=0.6)\n",
    "\n",
    "plt.xlabel(\"Users\", fontsize=8)\n",
    "plt.ylabel(\"Percentage of Replies\", fontsize=8)\n",
    "plt.tick_params(axis='both', which='major', labelsize=7)\n",
    "\n",
    "custom_plots()\n",
    "\n",
    "plt.show()"
   ]
  },
  {
   "cell_type": "code",
   "execution_count": 32,
   "metadata": {},
   "outputs": [
    {
     "data": {
      "image/png": "[encoded data removed]",
      "text/plain": [
       "<Figure size 450x450 with 2 Axes>"
      ]
     },
     "metadata": {},
     "output_type": "display_data"
    }
   ],
   "source": [
    "colors = {'Trustworthy': '#1b9e77', 'Untrustworthy': '#7570b3'}\n",
    "\n",
    "fig, axs = plt.subplots(2, 1, figsize=(4.5, 4.5), sharey=True)\n",
    "\n",
    "axs[0].plot(misinfo_users[\"cum_perc\"], label=\"Untrustworthy\", color=colors['Untrustworthy'], linewidth=0.7)\n",
    "axs[0].axhline(80, color=\"black\", linestyle=\":\", alpha=0.5)\n",
    "axs[0].axvline(misinfo_cutoff, color=\"black\", linestyle=\":\", alpha=0.5)\n",
    "axs[0].set_ylabel(\"Percentage of Replies\", fontsize=8)\n",
    "axs[0].tick_params(axis='both', which='major', labelsize=7)\n",
    "axs[0].set_title(\"Untrustworthy Users\", fontsize=9)\n",
    "custom_plots(axs[0])\n",
    "\n",
    "axs[1].plot(trust_users[\"cum_perc\"], label=\"Trustworthy\", color=colors['Trustworthy'], linewidth=0.7)\n",
    "axs[1].axhline(80, color=\"black\", linestyle=\":\", alpha=0.5)\n",
    "axs[1].axvline(trust_cutoff, color=\"black\", linestyle=\":\", alpha=0.5)\n",
    "axs[1].set_xlabel(\"Users\", fontsize=8)\n",
    "axs[1].set_ylabel(\"Percentage of Replies\", fontsize=8)\n",
    "axs[1].tick_params(axis='both', which='major', labelsize=7)\n",
    "axs[1].set_title(\"Trustworthy Users\", fontsize=9)\n",
    "custom_plots(axs[1])\n",
    "\n",
    "fig.tight_layout()\n",
    "\n",
    "plt.show()"
   ]
  },
  {
   "cell_type": "code",
   "execution_count": 33,
   "metadata": {},
   "outputs": [
    {
     "data": {
      "image/png": "[encoded data removed]",
      "text/plain": [
       "<Figure size 450x450 with 2 Axes>"
      ]
     },
     "metadata": {},
     "output_type": "display_data"
    }
   ],
   "source": [
    "def prep_cdf(df):\n",
    "    data_counts = df[\"n_replies\"]\n",
    "    values, counts = np.unique(data_counts, return_counts=True)  # Unique values and their counts\n",
    "    cumulative_counts = np.cumsum(counts)  # Cumulative sum\n",
    "    cdf = cumulative_counts / cumulative_counts[-1]  # Normalize to range [0, 1]\n",
    "    return values, cdf\n",
    "\n",
    "misinfo_counts, misinfo_cdf = prep_cdf(misinfo_users)\n",
    "true_counts, true_cdf = prep_cdf(trust_users)\n",
    "\n",
    "\n",
    "fig, axs = plt.subplots(2, 1, figsize=(4.5, 4.5), sharey=True)\n",
    "\n",
    "axs[0].plot(misinfo_counts, misinfo_cdf, label=\"Untrustworthy\", color=colors['Untrustworthy'], linewidth=0.7)\n",
    "axs[0].set_xlabel(\"Number of Replies\", fontsize=8)\n",
    "axs[0].set_ylabel(\"Cumulative Proportion of Users\", fontsize=8)\n",
    "axs[0].tick_params(axis='both', which='major', labelsize=7)\n",
    "axs[0].set_title(\"Untrustworthy Sources\", fontsize=9)\n",
    "custom_plots(axs[0])\n",
    "\n",
    "axs[1].plot(true_counts, true_cdf, color=colors['Trustworthy'], linewidth=0.7)\n",
    "axs[1].set_xlabel(\"Number of Replies\", fontsize=8)\n",
    "axs[1].set_ylabel(\"Cumulative Proportion of Users\", fontsize=8)\n",
    "axs[1].tick_params(axis='both', which='major', labelsize=7)\n",
    "axs[1].set_title(\"Trustworthy Sources\", fontsize=9)\n",
    "custom_plots(axs[1])\n",
    "\n",
    "fig.tight_layout()\n",
    "\n",
    "plt.show()"
   ]
  },
  {
   "cell_type": "code",
   "execution_count": 34,
   "metadata": {},
   "outputs": [
    {
     "data": {
      "image/png": "[encoded data removed]",
      "text/plain": [
       "<Figure size 450x250 with 1 Axes>"
      ]
     },
     "metadata": {},
     "output_type": "display_data"
    }
   ],
   "source": [
    "misinfo_ccdf = 1 - misinfo_cdf\n",
    "trust_ccdf = 1 - true_cdf\n",
    "# fit_untrustworthy = Fit(misinfo_users[\"n_replies\"], xmin=1) \n",
    "# alpha_untrustworthy = fit_untrustworthy.power_law.alpha\n",
    "# fit_trustworthy = Fit(trust_users[\"n_replies\"], xmin=1)\n",
    "# alpha_trustworthy = fit_trustworthy.power_law.alpha\n",
    "\n",
    "plt.figure(figsize=(4.5, 2.5))\n",
    "\n",
    "plt.loglog(misinfo_counts, misinfo_ccdf, label=\"Untrustworthy sources\", color=colors['Untrustworthy'])\n",
    "plt.loglog(true_counts, trust_ccdf, label=\"Trustworthy sources\", color=colors['Trustworthy'])\n",
    "plt.xlabel(\"Number of replies (log)\", fontsize=8)\n",
    "plt.ylabel(\"Proportion of users (log)\", fontsize=8)\n",
    "plt.tick_params(axis='both', which='major', labelsize=7)\n",
    "plt.legend(frameon=False, fontsize=8)\n",
    "\n",
    "# plt.text(0.35, 0.6, f\"α = {alpha_untrustworthy:.2f}\", \n",
    "#          fontsize=8, transform=plt.gca().transAxes, color=colors['Untrustworthy'])\n",
    "# plt.text(0.7, 0.6, f\"α = {alpha_trustworthy:.2f}\", \n",
    "#          fontsize=8, transform=plt.gca().transAxes, color=colors['Trustworthy'])\n",
    "\n",
    "custom_plots()\n",
    "\n",
    "plt.tight_layout()\n",
    "\n",
    "#save figure\n",
    "plt.savefig(\"reply_cumul_distribution.pdf\", dpi=300)\n",
    "plt.savefig(join(PAPER_DIR, \"figures\", \"reply_cumul_distribution.pdf\"), dpi=300)\n",
    "plt.show()"
   ]
  },
  {
   "cell_type": "code",
   "execution_count": 35,
   "metadata": {},
   "outputs": [
    {
     "data": {
      "text/html": [
       "<div>\n",
       "<style scoped>\n",
       "    .dataframe tbody tr th:only-of-type {\n",
       "        vertical-align: middle;\n",
       "    }\n",
       "\n",
       "    .dataframe tbody tr th {\n",
       "        vertical-align: top;\n",
       "    }\n",
       "\n",
       "    .dataframe thead th {\n",
       "        text-align: right;\n",
       "    }\n",
       "</style>\n",
       "<table border=\"1\" class=\"dataframe\">\n",
       "  <thead>\n",
       "    <tr style=\"text-align: right;\">\n",
       "      <th></th>\n",
       "      <th>Untrustworthy</th>\n",
       "      <th>Trustworthy</th>\n",
       "    </tr>\n",
       "  </thead>\n",
       "  <tbody>\n",
       "    <tr>\n",
       "      <th>80% of replies</th>\n",
       "      <td>8241</td>\n",
       "      <td>37958</td>\n",
       "    </tr>\n",
       "    <tr>\n",
       "      <th>20% of replies</th>\n",
       "      <td>35734</td>\n",
       "      <td>353985</td>\n",
       "    </tr>\n",
       "  </tbody>\n",
       "</table>\n",
       "</div>"
      ],
      "text/plain": [
       "                Untrustworthy  Trustworthy\n",
       "80% of replies           8241        37958\n",
       "20% of replies          35734       353985"
      ]
     },
     "execution_count": 35,
     "metadata": {},
     "output_type": "execute_result"
    }
   ],
   "source": [
    "# split the data into two user groups based on 80% cutoff\n",
    "misinfo_80 = misinfo_users[misinfo_users[\"cum_perc\"] <= 80]\n",
    "misinfo_20 = misinfo_users[misinfo_users[\"cum_perc\"] > 80]\n",
    "\n",
    "trust_80 = trust_users[trust_users[\"cum_perc\"] <= 80]\n",
    "trust_20 = trust_users[trust_users[\"cum_perc\"] > 80]\n",
    "\n",
    "# number of users per group as df\n",
    "users_80 = pd.DataFrame({\n",
    "    \"Untrustworthy\": misinfo_80[\"author_id\"].nunique(),\n",
    "    \"Trustworthy\": trust_80[\"author_id\"].nunique()\n",
    "}, index=[\"80% of replies\"])\n",
    "\n",
    "users_20 = pd.DataFrame({\n",
    "    \"Untrustworthy\": misinfo_20[\"author_id\"].nunique(),\n",
    "    \"Trustworthy\": trust_20[\"author_id\"].nunique()\n",
    "}, index=[\"20% of replies\"])\n",
    "\n",
    "\n",
    "user_thresholds = pd.concat([users_80, users_20], axis=0)\n",
    "user_thresholds"
   ]
  },
  {
   "cell_type": "code",
   "execution_count": 36,
   "metadata": {},
   "outputs": [
    {
     "name": "stderr",
     "output_type": "stream",
     "text": [
      "/tmp/ipykernel_3929320/63295522.py:1: SettingWithCopyWarning: \n",
      "A value is trying to be set on a copy of a slice from a DataFrame.\n",
      "Try using .loc[row_indexer,col_indexer] = value instead\n",
      "\n",
      "See the caveats in the documentation: https://pandas.pydata.org/pandas-docs/stable/user_guide/indexing.html#returning-a-view-versus-a-copy\n",
      "  misinfo_replies[\"Extreme\"] = misinfo_replies[\"author_id\"].isin(misinfo_80[\"author_id\"])\n"
     ]
    },
    {
     "data": {
      "text/plain": [
       "True     330467\n",
       "False     82617\n",
       "Name: Extreme, dtype: int64"
      ]
     },
     "execution_count": 36,
     "metadata": {},
     "output_type": "execute_result"
    }
   ],
   "source": [
    "misinfo_replies[\"Extreme\"] = misinfo_replies[\"author_id\"].isin(misinfo_80[\"author_id\"])\n",
    "misinfo_replies[\"Extreme\"].value_counts()"
   ]
  },
  {
   "cell_type": "code",
   "execution_count": 37,
   "metadata": {},
   "outputs": [
    {
     "data": {
      "text/plain": [
       "(330467, 82617)"
      ]
     },
     "execution_count": 37,
     "metadata": {},
     "output_type": "execute_result"
    }
   ],
   "source": [
    "extreme = misinfo_replies[misinfo_replies[\"Extreme\"]]\n",
    "non_extreme = misinfo_replies[~misinfo_replies[\"Extreme\"]]\n",
    "\n",
    "len(extreme), len(non_extreme)"
   ]
  },
  {
   "cell_type": "code",
   "execution_count": 38,
   "metadata": {},
   "outputs": [
    {
     "data": {
      "text/plain": [
       "(0.4010955979338365, 0.4083915554355861)"
      ]
     },
     "execution_count": 38,
     "metadata": {},
     "output_type": "execute_result"
    }
   ],
   "source": [
    "# summarize mean \n",
    "extreme[\"anger\"].mean(), non_extreme[\"anger\"].mean()"
   ]
  },
  {
   "cell_type": "code",
   "execution_count": 39,
   "metadata": {},
   "outputs": [
    {
     "data": {
      "text/plain": [
       "(0.4361774845424079, 0.4368156228707417)"
      ]
     },
     "execution_count": 39,
     "metadata": {},
     "output_type": "execute_result"
    }
   ],
   "source": [
    "extreme[\"anger\"].std(), non_extreme[\"anger\"].std()"
   ]
  },
  {
   "cell_type": "code",
   "execution_count": 40,
   "metadata": {},
   "outputs": [
    {
     "data": {
      "text/plain": [
       "(0.1046499237418174, 0.1237523108720779)"
      ]
     },
     "execution_count": 40,
     "metadata": {},
     "output_type": "execute_result"
    }
   ],
   "source": [
    "# summarize median \n",
    "extreme[\"anger\"].median(), non_extreme[\"anger\"].median()"
   ]
  },
  {
   "cell_type": "code",
   "execution_count": 41,
   "metadata": {},
   "outputs": [
    {
     "name": "stdout",
     "output_type": "stream",
     "text": [
      "U = 13452029422, p = 0.0000\n"
     ]
    }
   ],
   "source": [
    "# mann whitney test\n",
    "U1, p = mannwhitneyu(extreme[\"anger\"], non_extreme[\"anger\"])\n",
    "\n",
    "print(f\"U = {U1:.0f}, p = {p:.4f}\")\n"
   ]
  },
  {
   "cell_type": "code",
   "execution_count": 42,
   "metadata": {},
   "outputs": [
    {
     "data": {
      "image/png": "[encoded data removed]",
      "text/plain": [
       "<Figure size 450x225 with 2 Axes>"
      ]
     },
     "metadata": {},
     "output_type": "display_data"
    }
   ],
   "source": [
    "# two histgrams next to each other\n",
    "fig, axs = plt.subplots(1, 2, figsize=(4.5, 2.25), sharey=True)\n",
    "\n",
    "extreme[\"anger\"].plot.hist(ax=axs[0], bins=50, color=colors['Untrustworthy'], density=True)\n",
    "axs[0].set_xlabel(\"Anger\")\n",
    "axs[0].set_ylabel(\"Frequency of Replies\")\n",
    "custom_plots(axs[0])\n",
    "\n",
    "non_extreme[\"anger\"].plot.hist(ax=axs[1], \n",
    "                               bins=50, \n",
    "                               color=colors['Untrustworthy'], \n",
    "                               density=True)\n",
    "axs[1].set_xlabel(\"Anger\")\n",
    "custom_plots(axs[1])\n",
    "\n",
    "plt.tight_layout()\n",
    "plt.show()"
   ]
  },
  {
   "cell_type": "code",
   "execution_count": 43,
   "metadata": {},
   "outputs": [
    {
     "data": {
      "text/plain": [
       "(0.41116300982005305, 0.410634903054157)"
      ]
     },
     "execution_count": 43,
     "metadata": {},
     "output_type": "execute_result"
    }
   ],
   "source": [
    "# aggregate anger per user\n",
    "extreme_agg = extreme.groupby(\"author_id\")[\"anger\"].mean()\n",
    "non_extreme_agg = non_extreme.groupby(\"author_id\")[\"anger\"].mean()\n",
    "\n",
    "extreme_agg.mean(), non_extreme_agg.mean()"
   ]
  },
  {
   "cell_type": "code",
   "execution_count": 44,
   "metadata": {},
   "outputs": [
    {
     "data": {
      "image/png": "[encoded data removed]",
      "text/plain": [
       "<Figure size 450x225 with 2 Axes>"
      ]
     },
     "metadata": {},
     "output_type": "display_data"
    }
   ],
   "source": [
    "# two histgrams next to each other\n",
    "fig, axs = plt.subplots(1, 2, figsize=(4.5, 2.25), sharey=True)\n",
    "\n",
    "extreme_agg.plot.hist(ax=axs[0], bins=50, color=colors['Untrustworthy'], density=True)\n",
    "axs[0].set_xlabel(\"Anger\")\n",
    "axs[0].set_ylabel(\"Frequency of users\")\n",
    "axs[0].set_title(\"80% of Replies\")\n",
    "\n",
    "custom_plots(axs[0])\n",
    "\n",
    "non_extreme_agg.plot.hist(ax=axs[1], bins=50, color=colors['Untrustworthy'], density=True)\n",
    "axs[1].set_xlabel(\"Anger\")\n",
    "axs[1].set_title(\"20% of Replies\")\n",
    "custom_plots(axs[1])\n",
    "\n",
    "plt.tight_layout()\n",
    "plt.show()"
   ]
  },
  {
   "cell_type": "code",
   "execution_count": 45,
   "metadata": {},
   "outputs": [
    {
     "data": {
      "text/plain": [
       "(0.40276275154610625, 0.3519797166809439)"
      ]
     },
     "execution_count": 45,
     "metadata": {},
     "output_type": "execute_result"
    }
   ],
   "source": [
    "extreme_agg.median(), non_extreme_agg.median()"
   ]
  },
  {
   "cell_type": "code",
   "execution_count": 46,
   "metadata": {},
   "outputs": [
    {
     "name": "stdout",
     "output_type": "stream",
     "text": [
      "U = 159202283.5, p = 0.00000\n"
     ]
    }
   ],
   "source": [
    "U1, p = mannwhitneyu(extreme_agg, non_extreme_agg)\n",
    "\n",
    "print(f\"U = {U1}, p = {p:.5f}\")"
   ]
  },
  {
   "cell_type": "code",
   "execution_count": 47,
   "metadata": {},
   "outputs": [
    {
     "name": "stdout",
     "output_type": "stream",
     "text": [
      "Median Test: statistic=194.8134926457, p-value=0.00000\n"
     ]
    }
   ],
   "source": [
    "stat, p, med, table = median_test(extreme_agg, non_extreme_agg)\n",
    "print(f\"Median Test: statistic={stat}, p-value={p:.5f}\")"
   ]
  },
  {
   "cell_type": "code",
   "execution_count": 48,
   "metadata": {},
   "outputs": [
    {
     "data": {
      "text/plain": [
       "(0.4010955979338364, 0.4083915554355861)"
      ]
     },
     "execution_count": 48,
     "metadata": {},
     "output_type": "execute_result"
    }
   ],
   "source": [
    "# t-test with weights\n",
    "extreme_agg = extreme.groupby(\"author_id\")[\"anger\"].mean()\n",
    "non_extreme_agg = non_extreme.groupby(\"author_id\")[\"anger\"].mean()\n",
    "\n",
    "extreme_weights = extreme.groupby(\"author_id\")[\"anger\"].count() / extreme[\"anger\"].count()\n",
    "non_extreme_weights = non_extreme.groupby(\"author_id\")[\"anger\"].count() / non_extreme[\"anger\"].count()\n",
    "\n",
    "weighted_extreme_agg = extreme_agg * extreme_weights\n",
    "weighted_non_extreme_agg = non_extreme_agg * non_extreme_weights\n",
    "\n",
    "extreme_weighted_mean = weighted_extreme_agg.sum()\n",
    "non_extreme_weighted_mean = weighted_non_extreme_agg.sum()\n",
    "\n",
    "extreme_weighted_mean, non_extreme_weighted_mean"
   ]
  },
  {
   "cell_type": "markdown",
   "metadata": {},
   "source": [
    "## Filter out inactive users"
   ]
  },
  {
   "cell_type": "code",
   "execution_count": 49,
   "metadata": {},
   "outputs": [
    {
     "data": {
      "text/html": [
       "<div>\n",
       "<style scoped>\n",
       "    .dataframe tbody tr th:only-of-type {\n",
       "        vertical-align: middle;\n",
       "    }\n",
       "\n",
       "    .dataframe tbody tr th {\n",
       "        vertical-align: top;\n",
       "    }\n",
       "\n",
       "    .dataframe thead th {\n",
       "        text-align: right;\n",
       "    }\n",
       "</style>\n",
       "<table border=\"1\" class=\"dataframe\">\n",
       "  <thead>\n",
       "    <tr style=\"text-align: right;\">\n",
       "      <th></th>\n",
       "      <th>author_id</th>\n",
       "      <th>n_replies</th>\n",
       "      <th>replies_perc</th>\n",
       "      <th>cum_replies</th>\n",
       "      <th>cum_perc</th>\n",
       "    </tr>\n",
       "  </thead>\n",
       "  <tbody>\n",
       "    <tr>\n",
       "      <th>0</th>\n",
       "      <td>186813764</td>\n",
       "      <td>12880</td>\n",
       "      <td>3.118010</td>\n",
       "      <td>12880</td>\n",
       "      <td>3.118010</td>\n",
       "    </tr>\n",
       "    <tr>\n",
       "      <th>1</th>\n",
       "      <td>1373293126916395008</td>\n",
       "      <td>4644</td>\n",
       "      <td>1.124227</td>\n",
       "      <td>17524</td>\n",
       "      <td>4.242236</td>\n",
       "    </tr>\n",
       "    <tr>\n",
       "      <th>2</th>\n",
       "      <td>3092309687</td>\n",
       "      <td>2827</td>\n",
       "      <td>0.684364</td>\n",
       "      <td>20351</td>\n",
       "      <td>4.926601</td>\n",
       "    </tr>\n",
       "    <tr>\n",
       "      <th>3</th>\n",
       "      <td>1381276005566971904</td>\n",
       "      <td>2360</td>\n",
       "      <td>0.571312</td>\n",
       "      <td>22711</td>\n",
       "      <td>5.497913</td>\n",
       "    </tr>\n",
       "    <tr>\n",
       "      <th>4</th>\n",
       "      <td>1360223452532244481</td>\n",
       "      <td>1847</td>\n",
       "      <td>0.447125</td>\n",
       "      <td>24558</td>\n",
       "      <td>5.945038</td>\n",
       "    </tr>\n",
       "    <tr>\n",
       "      <th>5</th>\n",
       "      <td>1308653501849968641</td>\n",
       "      <td>1765</td>\n",
       "      <td>0.427274</td>\n",
       "      <td>26323</td>\n",
       "      <td>6.372312</td>\n",
       "    </tr>\n",
       "    <tr>\n",
       "      <th>6</th>\n",
       "      <td>1352351738347577346</td>\n",
       "      <td>1710</td>\n",
       "      <td>0.413959</td>\n",
       "      <td>28033</td>\n",
       "      <td>6.786271</td>\n",
       "    </tr>\n",
       "    <tr>\n",
       "      <th>7</th>\n",
       "      <td>236457055</td>\n",
       "      <td>1623</td>\n",
       "      <td>0.392898</td>\n",
       "      <td>29656</td>\n",
       "      <td>7.179169</td>\n",
       "    </tr>\n",
       "    <tr>\n",
       "      <th>8</th>\n",
       "      <td>68757774</td>\n",
       "      <td>1526</td>\n",
       "      <td>0.369416</td>\n",
       "      <td>31182</td>\n",
       "      <td>7.548586</td>\n",
       "    </tr>\n",
       "    <tr>\n",
       "      <th>9</th>\n",
       "      <td>1240560768552251392</td>\n",
       "      <td>1493</td>\n",
       "      <td>0.361428</td>\n",
       "      <td>32675</td>\n",
       "      <td>7.910013</td>\n",
       "    </tr>\n",
       "    <tr>\n",
       "      <th>10</th>\n",
       "      <td>839755094140801024</td>\n",
       "      <td>1459</td>\n",
       "      <td>0.353197</td>\n",
       "      <td>34134</td>\n",
       "      <td>8.263210</td>\n",
       "    </tr>\n",
       "    <tr>\n",
       "      <th>11</th>\n",
       "      <td>1334195751753277445</td>\n",
       "      <td>1389</td>\n",
       "      <td>0.336251</td>\n",
       "      <td>35523</td>\n",
       "      <td>8.599462</td>\n",
       "    </tr>\n",
       "    <tr>\n",
       "      <th>12</th>\n",
       "      <td>1383776369381810187</td>\n",
       "      <td>1312</td>\n",
       "      <td>0.317611</td>\n",
       "      <td>36835</td>\n",
       "      <td>8.917073</td>\n",
       "    </tr>\n",
       "    <tr>\n",
       "      <th>13</th>\n",
       "      <td>2870963793</td>\n",
       "      <td>1297</td>\n",
       "      <td>0.313980</td>\n",
       "      <td>38132</td>\n",
       "      <td>9.231052</td>\n",
       "    </tr>\n",
       "    <tr>\n",
       "      <th>14</th>\n",
       "      <td>1245304927766876160</td>\n",
       "      <td>1246</td>\n",
       "      <td>0.301634</td>\n",
       "      <td>39378</td>\n",
       "      <td>9.532686</td>\n",
       "    </tr>\n",
       "    <tr>\n",
       "      <th>15</th>\n",
       "      <td>1342054019771068417</td>\n",
       "      <td>1163</td>\n",
       "      <td>0.281541</td>\n",
       "      <td>40541</td>\n",
       "      <td>9.814227</td>\n",
       "    </tr>\n",
       "    <tr>\n",
       "      <th>16</th>\n",
       "      <td>1307020751527084032</td>\n",
       "      <td>1059</td>\n",
       "      <td>0.256364</td>\n",
       "      <td>41600</td>\n",
       "      <td>10.070591</td>\n",
       "    </tr>\n",
       "    <tr>\n",
       "      <th>17</th>\n",
       "      <td>1427939494083366915</td>\n",
       "      <td>1048</td>\n",
       "      <td>0.253701</td>\n",
       "      <td>42648</td>\n",
       "      <td>10.324292</td>\n",
       "    </tr>\n",
       "    <tr>\n",
       "      <th>18</th>\n",
       "      <td>1195798813832859651</td>\n",
       "      <td>1020</td>\n",
       "      <td>0.246923</td>\n",
       "      <td>43668</td>\n",
       "      <td>10.571216</td>\n",
       "    </tr>\n",
       "    <tr>\n",
       "      <th>19</th>\n",
       "      <td>1377763830961475586</td>\n",
       "      <td>989</td>\n",
       "      <td>0.239419</td>\n",
       "      <td>44657</td>\n",
       "      <td>10.810634</td>\n",
       "    </tr>\n",
       "  </tbody>\n",
       "</table>\n",
       "</div>"
      ],
      "text/plain": [
       "              author_id  n_replies  replies_perc  cum_replies   cum_perc\n",
       "0             186813764      12880      3.118010        12880   3.118010\n",
       "1   1373293126916395008       4644      1.124227        17524   4.242236\n",
       "2            3092309687       2827      0.684364        20351   4.926601\n",
       "3   1381276005566971904       2360      0.571312        22711   5.497913\n",
       "4   1360223452532244481       1847      0.447125        24558   5.945038\n",
       "5   1308653501849968641       1765      0.427274        26323   6.372312\n",
       "6   1352351738347577346       1710      0.413959        28033   6.786271\n",
       "7             236457055       1623      0.392898        29656   7.179169\n",
       "8              68757774       1526      0.369416        31182   7.548586\n",
       "9   1240560768552251392       1493      0.361428        32675   7.910013\n",
       "10   839755094140801024       1459      0.353197        34134   8.263210\n",
       "11  1334195751753277445       1389      0.336251        35523   8.599462\n",
       "12  1383776369381810187       1312      0.317611        36835   8.917073\n",
       "13           2870963793       1297      0.313980        38132   9.231052\n",
       "14  1245304927766876160       1246      0.301634        39378   9.532686\n",
       "15  1342054019771068417       1163      0.281541        40541   9.814227\n",
       "16  1307020751527084032       1059      0.256364        41600  10.070591\n",
       "17  1427939494083366915       1048      0.253701        42648  10.324292\n",
       "18  1195798813832859651       1020      0.246923        43668  10.571216\n",
       "19  1377763830961475586        989      0.239419        44657  10.810634"
      ]
     },
     "execution_count": 49,
     "metadata": {},
     "output_type": "execute_result"
    }
   ],
   "source": [
    "misinfo_authors = misinfo_replies[\"author_id\"]\\\n",
    "                    .value_counts()\\\n",
    "                    .reset_index()\\\n",
    "                    .rename(\n",
    "                        columns={\n",
    "                            \"index\": \"author_id\",\n",
    "                            \"author_id\": \"n_replies\"})\n",
    "\n",
    "n_replies = misinfo_authors[\"n_replies\"].sum()  \n",
    "\n",
    "# calculate percentage of replies per user\n",
    "misinfo_authors[\"replies_perc\"] = misinfo_authors[\"n_replies\"] / n_replies * 100\n",
    "\n",
    "# calculate cumulative percentage\n",
    "misinfo_authors = misinfo_authors.sort_values(\"n_replies\", ascending=False)\n",
    "misinfo_authors[\"cum_replies\"] = misinfo_authors[\"n_replies\"].cumsum()\n",
    "misinfo_authors[\"cum_perc\"] = misinfo_authors[\"cum_replies\"] / n_replies * 100\n",
    "misinfo_authors.head(20)"
   ]
  },
  {
   "cell_type": "code",
   "execution_count": 50,
   "metadata": {},
   "outputs": [
    {
     "data": {
      "text/html": [
       "<div>\n",
       "<style scoped>\n",
       "    .dataframe tbody tr th:only-of-type {\n",
       "        vertical-align: middle;\n",
       "    }\n",
       "\n",
       "    .dataframe tbody tr th {\n",
       "        vertical-align: top;\n",
       "    }\n",
       "\n",
       "    .dataframe thead th {\n",
       "        text-align: right;\n",
       "    }\n",
       "</style>\n",
       "<table border=\"1\" class=\"dataframe\">\n",
       "  <thead>\n",
       "    <tr style=\"text-align: right;\">\n",
       "      <th></th>\n",
       "      <th>author_id</th>\n",
       "      <th>n_replies</th>\n",
       "      <th>replies_perc</th>\n",
       "      <th>cum_replies</th>\n",
       "      <th>cum_perc</th>\n",
       "      <th>anger</th>\n",
       "    </tr>\n",
       "  </thead>\n",
       "  <tbody>\n",
       "    <tr>\n",
       "      <th>0</th>\n",
       "      <td>186813764</td>\n",
       "      <td>12880</td>\n",
       "      <td>3.118010</td>\n",
       "      <td>12880</td>\n",
       "      <td>3.118010</td>\n",
       "      <td>0.351522</td>\n",
       "    </tr>\n",
       "    <tr>\n",
       "      <th>1</th>\n",
       "      <td>1373293126916395008</td>\n",
       "      <td>4644</td>\n",
       "      <td>1.124227</td>\n",
       "      <td>17524</td>\n",
       "      <td>4.242236</td>\n",
       "      <td>0.242273</td>\n",
       "    </tr>\n",
       "    <tr>\n",
       "      <th>2</th>\n",
       "      <td>3092309687</td>\n",
       "      <td>2827</td>\n",
       "      <td>0.684364</td>\n",
       "      <td>20351</td>\n",
       "      <td>4.926601</td>\n",
       "      <td>0.376511</td>\n",
       "    </tr>\n",
       "    <tr>\n",
       "      <th>3</th>\n",
       "      <td>1381276005566971904</td>\n",
       "      <td>2360</td>\n",
       "      <td>0.571312</td>\n",
       "      <td>22711</td>\n",
       "      <td>5.497913</td>\n",
       "      <td>0.460268</td>\n",
       "    </tr>\n",
       "    <tr>\n",
       "      <th>4</th>\n",
       "      <td>1360223452532244481</td>\n",
       "      <td>1847</td>\n",
       "      <td>0.447125</td>\n",
       "      <td>24558</td>\n",
       "      <td>5.945038</td>\n",
       "      <td>0.267800</td>\n",
       "    </tr>\n",
       "    <tr>\n",
       "      <th>...</th>\n",
       "      <td>...</td>\n",
       "      <td>...</td>\n",
       "      <td>...</td>\n",
       "      <td>...</td>\n",
       "      <td>...</td>\n",
       "      <td>...</td>\n",
       "    </tr>\n",
       "    <tr>\n",
       "      <th>43970</th>\n",
       "      <td>363067577</td>\n",
       "      <td>1</td>\n",
       "      <td>0.000242</td>\n",
       "      <td>413080</td>\n",
       "      <td>99.999032</td>\n",
       "      <td>0.003301</td>\n",
       "    </tr>\n",
       "    <tr>\n",
       "      <th>43971</th>\n",
       "      <td>1247167064139124736</td>\n",
       "      <td>1</td>\n",
       "      <td>0.000242</td>\n",
       "      <td>413081</td>\n",
       "      <td>99.999274</td>\n",
       "      <td>0.996533</td>\n",
       "    </tr>\n",
       "    <tr>\n",
       "      <th>43972</th>\n",
       "      <td>1473082761732935682</td>\n",
       "      <td>1</td>\n",
       "      <td>0.000242</td>\n",
       "      <td>413082</td>\n",
       "      <td>99.999516</td>\n",
       "      <td>0.027960</td>\n",
       "    </tr>\n",
       "    <tr>\n",
       "      <th>43973</th>\n",
       "      <td>853274242359713792</td>\n",
       "      <td>1</td>\n",
       "      <td>0.000242</td>\n",
       "      <td>413083</td>\n",
       "      <td>99.999758</td>\n",
       "      <td>0.003913</td>\n",
       "    </tr>\n",
       "    <tr>\n",
       "      <th>43974</th>\n",
       "      <td>703959415549009920</td>\n",
       "      <td>1</td>\n",
       "      <td>0.000242</td>\n",
       "      <td>413084</td>\n",
       "      <td>100.000000</td>\n",
       "      <td>0.982548</td>\n",
       "    </tr>\n",
       "  </tbody>\n",
       "</table>\n",
       "<p>43975 rows × 6 columns</p>\n",
       "</div>"
      ],
      "text/plain": [
       "                 author_id  n_replies  replies_perc  cum_replies    cum_perc  \\\n",
       "0                186813764      12880      3.118010        12880    3.118010   \n",
       "1      1373293126916395008       4644      1.124227        17524    4.242236   \n",
       "2               3092309687       2827      0.684364        20351    4.926601   \n",
       "3      1381276005566971904       2360      0.571312        22711    5.497913   \n",
       "4      1360223452532244481       1847      0.447125        24558    5.945038   \n",
       "...                    ...        ...           ...          ...         ...   \n",
       "43970            363067577          1      0.000242       413080   99.999032   \n",
       "43971  1247167064139124736          1      0.000242       413081   99.999274   \n",
       "43972  1473082761732935682          1      0.000242       413082   99.999516   \n",
       "43973   853274242359713792          1      0.000242       413083   99.999758   \n",
       "43974   703959415549009920          1      0.000242       413084  100.000000   \n",
       "\n",
       "          anger  \n",
       "0      0.351522  \n",
       "1      0.242273  \n",
       "2      0.376511  \n",
       "3      0.460268  \n",
       "4      0.267800  \n",
       "...         ...  \n",
       "43970  0.003301  \n",
       "43971  0.996533  \n",
       "43972  0.027960  \n",
       "43973  0.003913  \n",
       "43974  0.982548  \n",
       "\n",
       "[43975 rows x 6 columns]"
      ]
     },
     "execution_count": 50,
     "metadata": {},
     "output_type": "execute_result"
    }
   ],
   "source": [
    "misinfo_authors = misinfo_authors.merge(\n",
    "                                misinfo_replies\\\n",
    "                                    .groupby(\"author_id\")[\"anger\"]\\\n",
    "                                        .mean()\\\n",
    "                                            .reset_index(),\n",
    "                               on=\"author_id\",\n",
    "                               how=\"left\")\n",
    "misinfo_authors"
   ]
  },
  {
   "cell_type": "code",
   "execution_count": 51,
   "metadata": {},
   "outputs": [],
   "source": [
    "# split the data into two user groups based on 80% cutoff\n",
    "active_misinfo_80 = misinfo_authors[misinfo_authors[\"cum_perc\"] <= 80]\n",
    "active_misinfo_20 = misinfo_authors[misinfo_authors[\"cum_perc\"] > 80]\n",
    "# filter out users with less than 5 replies\n",
    "active_misinfo_20 = active_misinfo_20[active_misinfo_20[\"n_replies\"] >= 5]"
   ]
  },
  {
   "cell_type": "code",
   "execution_count": 52,
   "metadata": {},
   "outputs": [
    {
     "data": {
      "text/plain": [
       "(0.41116300982005305, 0.40863205277842846)"
      ]
     },
     "execution_count": 52,
     "metadata": {},
     "output_type": "execute_result"
    }
   ],
   "source": [
    "active_misinfo_80[\"anger\"].mean(), active_misinfo_20[\"anger\"].mean()"
   ]
  },
  {
   "cell_type": "code",
   "execution_count": 53,
   "metadata": {},
   "outputs": [
    {
     "data": {
      "image/png": "[encoded data removed]",
      "text/plain": [
       "<Figure size 450x225 with 2 Axes>"
      ]
     },
     "metadata": {},
     "output_type": "display_data"
    }
   ],
   "source": [
    "# two histgrams next to each other\n",
    "fig, axs = plt.subplots(1, 2, figsize=(4.5, 2.25), sharey=True)\n",
    "\n",
    "active_misinfo_80[\"anger\"].plot.hist(ax=axs[0], bins=50, \n",
    "                             color=colors['Untrustworthy'], \n",
    "                             density=True\n",
    "                             )\n",
    "axs[0].set_xlabel(\"Anger\")\n",
    "axs[0].set_ylabel(\"Frequency of users\")\n",
    "axs[0].set_title(\"80% of Replies\")\n",
    "\n",
    "custom_plots(axs[0])\n",
    "\n",
    "active_misinfo_20[\"anger\"].plot.hist(ax=axs[1], bins=50, \n",
    "                                 color=colors['Untrustworthy'], \n",
    "                                 density=True\n",
    "                                 )\n",
    "axs[1].set_xlabel(\"Anger\")\n",
    "axs[1].set_title(\"20% of Replies\")\n",
    "custom_plots(axs[1])\n",
    "\n",
    "plt.tight_layout()\n",
    "plt.show()"
   ]
  },
  {
   "cell_type": "code",
   "execution_count": 54,
   "metadata": {},
   "outputs": [
    {
     "name": "stdout",
     "output_type": "stream",
     "text": [
      "Levene's Test: statistic=561.34, p-value=0.00000\n"
     ]
    }
   ],
   "source": [
    "# levenes test\n",
    "stat, p = levene(active_misinfo_80[\"anger\"], active_misinfo_20[\"anger\"])\n",
    "print(f\"Levene's Test: statistic={stat:.2f}, p-value={p:.5f}\")"
   ]
  },
  {
   "cell_type": "code",
   "execution_count": 55,
   "metadata": {},
   "outputs": [
    {
     "name": "stdout",
     "output_type": "stream",
     "text": [
      "U = 20383523, p = 0.15192\n"
     ]
    }
   ],
   "source": [
    "# mann whitney test\n",
    "U1, p = mannwhitneyu(active_misinfo_80[\"anger\"], active_misinfo_20[\"anger\"])\n",
    "print(f\"U = {U1:.0f}, p = {p:.5f}\")"
   ]
  },
  {
   "cell_type": "code",
   "execution_count": 56,
   "metadata": {},
   "outputs": [
    {
     "name": "stdout",
     "output_type": "stream",
     "text": [
      "Median Test: statistic=0.9043626250278075, p-value=0.34161\n"
     ]
    }
   ],
   "source": [
    "# median test\n",
    "stat, p, med, table = median_test(active_misinfo_80[\"anger\"], active_misinfo_20[\"anger\"])\n",
    "print(f\"Median Test: statistic={stat}, p-value={p:.5f}\")"
   ]
  },
  {
   "cell_type": "code",
   "execution_count": 57,
   "metadata": {},
   "outputs": [
    {
     "name": "stdout",
     "output_type": "stream",
     "text": [
      "K-S Test Statistic: 0.10190477997235217\n",
      "P-value: 0.00000\n"
     ]
    }
   ],
   "source": [
    "# Perform K-S test\n",
    "stat, p_value = ks_2samp(active_misinfo_80[\"anger\"], active_misinfo_20[\"anger\"])\n",
    "\n",
    "print(f\"K-S Test Statistic: {stat}\")\n",
    "print(f\"P-value: {p_value:.5f}\")"
   ]
  },
  {
   "cell_type": "code",
   "execution_count": 58,
   "metadata": {},
   "outputs": [
    {
     "name": "stdout",
     "output_type": "stream",
     "text": [
      "A-D Test Statistic: 125.45123382937375\n",
      "P-value: 0.001\n"
     ]
    },
    {
     "name": "stderr",
     "output_type": "stream",
     "text": [
      "/tmp/ipykernel_3929320/367238350.py:2: UserWarning: p-value floored: true value smaller than 0.001\n",
      "  result = stats.anderson_ksamp([active_misinfo_80[\"anger\"], active_misinfo_20[\"anger\"]])\n"
     ]
    }
   ],
   "source": [
    "# perform Anderson-Darling test\n",
    "result = stats.anderson_ksamp([active_misinfo_80[\"anger\"], active_misinfo_20[\"anger\"]])\n",
    "\n",
    "print(f\"A-D Test Statistic: {result.statistic}\")\n",
    "print(f\"P-value: {result.significance_level}\")"
   ]
  },
  {
   "cell_type": "markdown",
   "metadata": {},
   "source": [
    "## Split into three groups"
   ]
  },
  {
   "cell_type": "code",
   "execution_count": 59,
   "metadata": {},
   "outputs": [],
   "source": [
    "misinfo_authors[\"cum_activity\"] = pd.cut(misinfo_authors[\"cum_perc\"],\n",
    "                                        bins=[0, 80, 90, float('inf')],\n",
    "                                        labels=[\"high\", \"medium\", \"low\"])\n",
    "\n",
    "low_users = misinfo_authors[misinfo_authors[\"cum_activity\"] == \"low\"]\n",
    "medium_users = misinfo_authors[misinfo_authors[\"cum_activity\"] == \"medium\"]\n",
    "high_users = misinfo_authors[misinfo_authors[\"cum_activity\"] == \"high\"]"
   ]
  },
  {
   "cell_type": "code",
   "execution_count": 60,
   "metadata": {},
   "outputs": [
    {
     "data": {
      "image/png": "[encoded data removed]",
      "text/plain": [
       "<Figure size 450x175 with 3 Axes>"
      ]
     },
     "metadata": {},
     "output_type": "display_data"
    }
   ],
   "source": [
    "fig, axs = plt.subplots(1, 3, figsize=(4.5, 1.75), \n",
    "                        sharey=True\n",
    "                        )\n",
    "\n",
    "high_users[\"anger\"].plot.hist(ax=axs[0], bins=50,\n",
    "                            color=colors['Untrustworthy'], \n",
    "                            density=True\n",
    "                            )\n",
    "axs[0].set_xlabel(\"Anger\", fontsize=8)\n",
    "axs[0].set_ylabel(\"Frequency of users\", fontsize=8)\n",
    "axs[0].set_title(\"High activity\", fontsize=8)\n",
    "axs[0].tick_params(axis='both', which='major', labelsize=7)\n",
    "custom_plots(axs[0])\n",
    "\n",
    "medium_users[\"anger\"].plot.hist(ax=axs[1], bins=50,\n",
    "                        color=colors['Untrustworthy'], \n",
    "                        density=True\n",
    "                        )\n",
    "axs[1].set_xlabel(\"Anger\", fontsize=8)\n",
    "axs[1].set_ylabel(\"\")\n",
    "axs[1].set_title(\"Medium activity\", fontsize=8)\n",
    "axs[1].tick_params(axis='both', which='major', labelsize=7)\n",
    "custom_plots(axs[1])\n",
    "\n",
    "low_users[\"anger\"].plot.hist(ax=axs[2], bins=50,\n",
    "                        color=colors['Untrustworthy'], \n",
    "                        density=True\n",
    "                        )   \n",
    "axs[2].set_xlabel(\"Anger\", fontsize=8)\n",
    "axs[2].set_ylabel(\"\")\n",
    "axs[2].set_title(\"Low activity\", fontsize=8)\n",
    "axs[2].tick_params(axis='both', which='major', labelsize=7)\n",
    "custom_plots(axs[2])\n",
    "\n",
    "plt.tight_layout()\n",
    "plt.show()"
   ]
  },
  {
   "cell_type": "code",
   "execution_count": 61,
   "metadata": {},
   "outputs": [
    {
     "name": "stderr",
     "output_type": "stream",
     "text": [
      "/tmp/ipykernel_3929320/1600995727.py:2: SettingWithCopyWarning: \n",
      "A value is trying to be set on a copy of a slice from a DataFrame.\n",
      "Try using .loc[row_indexer,col_indexer] = value instead\n",
      "\n",
      "See the caveats in the documentation: https://pandas.pydata.org/pandas-docs/stable/user_guide/indexing.html#returning-a-view-versus-a-copy\n",
      "  high_users[\"anger\"] = high_users[\"anger\"].round(2).copy()\n",
      "/tmp/ipykernel_3929320/1600995727.py:3: SettingWithCopyWarning: \n",
      "A value is trying to be set on a copy of a slice from a DataFrame.\n",
      "Try using .loc[row_indexer,col_indexer] = value instead\n",
      "\n",
      "See the caveats in the documentation: https://pandas.pydata.org/pandas-docs/stable/user_guide/indexing.html#returning-a-view-versus-a-copy\n",
      "  medium_users[\"anger\"] = medium_users[\"anger\"].round(2).copy()\n",
      "/tmp/ipykernel_3929320/1600995727.py:4: SettingWithCopyWarning: \n",
      "A value is trying to be set on a copy of a slice from a DataFrame.\n",
      "Try using .loc[row_indexer,col_indexer] = value instead\n",
      "\n",
      "See the caveats in the documentation: https://pandas.pydata.org/pandas-docs/stable/user_guide/indexing.html#returning-a-view-versus-a-copy\n",
      "  low_users[\"anger\"] = low_users[\"anger\"].round(2).copy()\n"
     ]
    },
    {
     "data": {
      "text/html": [
       "<div>\n",
       "<style scoped>\n",
       "    .dataframe tbody tr th:only-of-type {\n",
       "        vertical-align: middle;\n",
       "    }\n",
       "\n",
       "    .dataframe tbody tr th {\n",
       "        vertical-align: top;\n",
       "    }\n",
       "\n",
       "    .dataframe thead th {\n",
       "        text-align: right;\n",
       "    }\n",
       "</style>\n",
       "<table border=\"1\" class=\"dataframe\">\n",
       "  <thead>\n",
       "    <tr style=\"text-align: right;\">\n",
       "      <th></th>\n",
       "      <th>High activity</th>\n",
       "      <th>Medium activity</th>\n",
       "      <th>Low activity</th>\n",
       "    </tr>\n",
       "  </thead>\n",
       "  <tbody>\n",
       "    <tr>\n",
       "      <th>Mean</th>\n",
       "      <td>0.411193</td>\n",
       "      <td>0.405950</td>\n",
       "      <td>0.411752</td>\n",
       "    </tr>\n",
       "    <tr>\n",
       "      <th>SD</th>\n",
       "      <td>0.166386</td>\n",
       "      <td>0.234998</td>\n",
       "      <td>0.398884</td>\n",
       "    </tr>\n",
       "    <tr>\n",
       "      <th>Median</th>\n",
       "      <td>0.400000</td>\n",
       "      <td>0.390000</td>\n",
       "      <td>0.330000</td>\n",
       "    </tr>\n",
       "    <tr>\n",
       "      <th>Mode</th>\n",
       "      <td>0.400000</td>\n",
       "      <td>0.010000</td>\n",
       "      <td>0.000000</td>\n",
       "    </tr>\n",
       "  </tbody>\n",
       "</table>\n",
       "</div>"
      ],
      "text/plain": [
       "        High activity  Medium activity  Low activity\n",
       "Mean         0.411193         0.405950      0.411752\n",
       "SD           0.166386         0.234998      0.398884\n",
       "Median       0.400000         0.390000      0.330000\n",
       "Mode         0.400000         0.010000      0.000000"
      ]
     },
     "execution_count": 61,
     "metadata": {},
     "output_type": "execute_result"
    }
   ],
   "source": [
    "# calculate mean and std and median per group and make a table\n",
    "high_users[\"anger\"] = high_users[\"anger\"].round(2).copy()\n",
    "medium_users[\"anger\"] = medium_users[\"anger\"].round(2).copy()\n",
    "low_users[\"anger\"] = low_users[\"anger\"].round(2).copy()\n",
    "\n",
    "cum_table = pd.DataFrame({\n",
    "    \"High activity\": [high_users[\"anger\"].mean(), \n",
    "                      high_users[\"anger\"].std(), \n",
    "                      high_users[\"anger\"].median(),\n",
    "                      high_users[\"anger\"].mode().values[0]],\n",
    "    \"Medium activity\": [medium_users[\"anger\"].mean(), \n",
    "                        medium_users[\"anger\"].std(), \n",
    "                        medium_users[\"anger\"].median(),\n",
    "                        medium_users[\"anger\"].mode().values[0]],\n",
    "    \"Low activity\": [low_users[\"anger\"].mean(), \n",
    "                     low_users[\"anger\"].std(), \n",
    "                     low_users[\"anger\"].median(),\n",
    "                     low_users[\"anger\"].mode().values[0]]\n",
    "}, index=[\"Mean\",\n",
    "            \"SD\",\n",
    "            \"Median\",\n",
    "            \"Mode\"])\n",
    "cum_table"
   ]
  },
  {
   "cell_type": "markdown",
   "metadata": {},
   "source": [
    "## Quantiles"
   ]
  },
  {
   "cell_type": "code",
   "execution_count": 62,
   "metadata": {},
   "outputs": [
    {
     "name": "stdout",
     "output_type": "stream",
     "text": [
      "8.0 17.0\n"
     ]
    }
   ],
   "source": [
    "# categorize users based on quantiles\n",
    "low_threshold = misinfo_authors[\"n_replies\"].quantile(0.80)\n",
    "high_threshold = misinfo_authors[\"n_replies\"].quantile(0.90)\n",
    "print(low_threshold, high_threshold)"
   ]
  },
  {
   "cell_type": "code",
   "execution_count": 63,
   "metadata": {},
   "outputs": [],
   "source": [
    "misinfo_authors[\"quant_activity\"] = pd.cut(misinfo_authors[\"n_replies\"],\n",
    "                                        bins=[0, low_threshold, high_threshold, float('inf')],\n",
    "                                        labels=[\"low\", \"medium\", \"high\"])\n",
    "\n",
    "upper_users = misinfo_authors[misinfo_authors[\"quant_activity\"] == \"high\"]\n",
    "middle_users = misinfo_authors[misinfo_authors[\"quant_activity\"] == \"medium\"]\n",
    "lower_users = misinfo_authors[misinfo_authors[\"quant_activity\"] == \"low\"]"
   ]
  },
  {
   "cell_type": "code",
   "execution_count": 64,
   "metadata": {},
   "outputs": [
    {
     "data": {
      "image/png": "[encoded data removed]",
      "text/plain": [
       "<Figure size 450x175 with 3 Axes>"
      ]
     },
     "metadata": {},
     "output_type": "display_data"
    }
   ],
   "source": [
    "fig, axs = plt.subplots(1, 3, figsize=(4.5, 1.75),\n",
    "                         sharey=True\n",
    "                         )\n",
    "\n",
    "upper_users[\"anger\"].plot.hist(ax=axs[0], \n",
    "                  bins=50, \n",
    "                  color=colors['Untrustworthy'], \n",
    "                  density=True\n",
    "                  )\n",
    "axs[0].set_xlabel(\"Anger\", fontsize=8)\n",
    "axs[0].set_ylabel(\"Frequency of users\", fontsize=8)\n",
    "axs[0].set_title(\"High Activity\", fontsize=8)\n",
    "axs[0].tick_params(axis='both', which='major', labelsize=7)\n",
    "custom_plots(axs[0])\n",
    "\n",
    "middle_users[\"anger\"].plot.hist(ax=axs[1], \n",
    "                     bins=50, \n",
    "                     color=colors['Untrustworthy'], \n",
    "                     density=True\n",
    "                    )\n",
    "axs[1].set_xlabel(\"Anger\", fontsize=8)\n",
    "axs[1].set_title(\"Medium Activity\", fontsize=8)\n",
    "axs[1].tick_params(axis='both', which='major', labelsize=7)\n",
    "custom_plots(axs[1])\n",
    "\n",
    "lower_users[\"anger\"].plot.hist(ax=axs[2], \n",
    "                   bins=50, \n",
    "                   color=colors['Untrustworthy'], \n",
    "                   density=True\n",
    "                )\n",
    "axs[2].set_xlabel(\"Anger\", fontsize=8)\n",
    "axs[2].set_title(\"Low Activity\", fontsize=8)\n",
    "axs[2].tick_params(axis='both', which='major', labelsize=7)\n",
    "custom_plots(axs[2])\n",
    "\n",
    "plt.tight_layout()\n",
    "plt.show()"
   ]
  },
  {
   "cell_type": "code",
   "execution_count": 65,
   "metadata": {},
   "outputs": [
    {
     "name": "stderr",
     "output_type": "stream",
     "text": [
      "/tmp/ipykernel_3929320/1837768542.py:3: SettingWithCopyWarning: \n",
      "A value is trying to be set on a copy of a slice from a DataFrame.\n",
      "Try using .loc[row_indexer,col_indexer] = value instead\n",
      "\n",
      "See the caveats in the documentation: https://pandas.pydata.org/pandas-docs/stable/user_guide/indexing.html#returning-a-view-versus-a-copy\n",
      "  upper_users[\"anger\"] = upper_users[\"anger\"].round(2).copy()\n",
      "/tmp/ipykernel_3929320/1837768542.py:4: SettingWithCopyWarning: \n",
      "A value is trying to be set on a copy of a slice from a DataFrame.\n",
      "Try using .loc[row_indexer,col_indexer] = value instead\n",
      "\n",
      "See the caveats in the documentation: https://pandas.pydata.org/pandas-docs/stable/user_guide/indexing.html#returning-a-view-versus-a-copy\n",
      "  middle_users[\"anger\"] = middle_users[\"anger\"].round(2).copy()\n",
      "/tmp/ipykernel_3929320/1837768542.py:5: SettingWithCopyWarning: \n",
      "A value is trying to be set on a copy of a slice from a DataFrame.\n",
      "Try using .loc[row_indexer,col_indexer] = value instead\n",
      "\n",
      "See the caveats in the documentation: https://pandas.pydata.org/pandas-docs/stable/user_guide/indexing.html#returning-a-view-versus-a-copy\n",
      "  lower_users[\"anger\"] = lower_users[\"anger\"].round(2).copy()\n"
     ]
    },
    {
     "data": {
      "text/html": [
       "<div>\n",
       "<style scoped>\n",
       "    .dataframe tbody tr th:only-of-type {\n",
       "        vertical-align: middle;\n",
       "    }\n",
       "\n",
       "    .dataframe tbody tr th {\n",
       "        vertical-align: top;\n",
       "    }\n",
       "\n",
       "    .dataframe thead th {\n",
       "        text-align: right;\n",
       "    }\n",
       "</style>\n",
       "<table border=\"1\" class=\"dataframe\">\n",
       "  <thead>\n",
       "    <tr style=\"text-align: right;\">\n",
       "      <th></th>\n",
       "      <th>High activity</th>\n",
       "      <th>Medium activity</th>\n",
       "      <th>Low activity</th>\n",
       "    </tr>\n",
       "  </thead>\n",
       "  <tbody>\n",
       "    <tr>\n",
       "      <th>Mean</th>\n",
       "      <td>0.413412</td>\n",
       "      <td>0.408763</td>\n",
       "      <td>0.410498</td>\n",
       "    </tr>\n",
       "    <tr>\n",
       "      <th>SD</th>\n",
       "      <td>0.149773</td>\n",
       "      <td>0.182311</td>\n",
       "      <td>0.369474</td>\n",
       "    </tr>\n",
       "    <tr>\n",
       "      <th>Median</th>\n",
       "      <td>0.400000</td>\n",
       "      <td>0.400000</td>\n",
       "      <td>0.350000</td>\n",
       "    </tr>\n",
       "    <tr>\n",
       "      <th>Mode</th>\n",
       "      <td>0.400000</td>\n",
       "      <td>0.340000</td>\n",
       "      <td>0.000000</td>\n",
       "    </tr>\n",
       "  </tbody>\n",
       "</table>\n",
       "</div>"
      ],
      "text/plain": [
       "        High activity  Medium activity  Low activity\n",
       "Mean         0.413412         0.408763      0.410498\n",
       "SD           0.149773         0.182311      0.369474\n",
       "Median       0.400000         0.400000      0.350000\n",
       "Mode         0.400000         0.340000      0.000000"
      ]
     },
     "execution_count": 65,
     "metadata": {},
     "output_type": "execute_result"
    }
   ],
   "source": [
    "# calculate mean and std and median per group and make a table\n",
    "# round anger to 2 decimals in each group\n",
    "upper_users[\"anger\"] = upper_users[\"anger\"].round(2).copy()\n",
    "middle_users[\"anger\"] = middle_users[\"anger\"].round(2).copy()\n",
    "lower_users[\"anger\"] = lower_users[\"anger\"].round(2).copy()\n",
    "\n",
    "quant_table = pd.DataFrame({\n",
    "    \"High activity\": [upper_users[\"anger\"].mean(), upper_users[\"anger\"].std(), upper_users[\"anger\"].median(), upper_users[\"anger\"].mode()[0]],\n",
    "    \"Medium activity\": [middle_users[\"anger\"].mean(), middle_users[\"anger\"].std(), middle_users[\"anger\"].median(), middle_users[\"anger\"].mode()[0]],\n",
    "    \"Low activity\": [lower_users[\"anger\"].mean(), lower_users[\"anger\"].std(), lower_users[\"anger\"].median(), lower_users[\"anger\"].mode()[0]]\n",
    "}, index=[\"Mean\",\n",
    "            \"SD\",\n",
    "            \"Median\",\n",
    "            \"Mode\"])\n",
    "quant_table"
   ]
  },
  {
   "cell_type": "markdown",
   "metadata": {},
   "source": [
    "User groups according to Baribi-Bartov et al. (2023):\n",
    "1) High activity untrustworthy: 80% of untrustworthy news replies\n",
    "2) High activity trustworthy: 80% of trustworthy news replies\n",
    "3) Random sample with same number of users as in group 2\n",
    "4) Average activity untrustworthy: median"
   ]
  },
  {
   "cell_type": "code",
   "execution_count": 66,
   "metadata": {},
   "outputs": [
    {
     "data": {
      "text/html": [
       "<div>\n",
       "<style scoped>\n",
       "    .dataframe tbody tr th:only-of-type {\n",
       "        vertical-align: middle;\n",
       "    }\n",
       "\n",
       "    .dataframe tbody tr th {\n",
       "        vertical-align: top;\n",
       "    }\n",
       "\n",
       "    .dataframe thead th {\n",
       "        text-align: right;\n",
       "    }\n",
       "</style>\n",
       "<table border=\"1\" class=\"dataframe\">\n",
       "  <thead>\n",
       "    <tr style=\"text-align: right;\">\n",
       "      <th></th>\n",
       "      <th>author_id</th>\n",
       "      <th>n_replies</th>\n",
       "      <th>cum_replies</th>\n",
       "      <th>cum_perc</th>\n",
       "    </tr>\n",
       "  </thead>\n",
       "  <tbody>\n",
       "    <tr>\n",
       "      <th>0</th>\n",
       "      <td>186813764</td>\n",
       "      <td>12880</td>\n",
       "      <td>12880</td>\n",
       "      <td>3.118010</td>\n",
       "    </tr>\n",
       "    <tr>\n",
       "      <th>1</th>\n",
       "      <td>1373293126916395008</td>\n",
       "      <td>4644</td>\n",
       "      <td>17524</td>\n",
       "      <td>4.242236</td>\n",
       "    </tr>\n",
       "    <tr>\n",
       "      <th>2</th>\n",
       "      <td>3092309687</td>\n",
       "      <td>2827</td>\n",
       "      <td>20351</td>\n",
       "      <td>4.926601</td>\n",
       "    </tr>\n",
       "    <tr>\n",
       "      <th>3</th>\n",
       "      <td>1381276005566971904</td>\n",
       "      <td>2360</td>\n",
       "      <td>22711</td>\n",
       "      <td>5.497913</td>\n",
       "    </tr>\n",
       "    <tr>\n",
       "      <th>4</th>\n",
       "      <td>1360223452532244481</td>\n",
       "      <td>1847</td>\n",
       "      <td>24558</td>\n",
       "      <td>5.945038</td>\n",
       "    </tr>\n",
       "    <tr>\n",
       "      <th>...</th>\n",
       "      <td>...</td>\n",
       "      <td>...</td>\n",
       "      <td>...</td>\n",
       "      <td>...</td>\n",
       "    </tr>\n",
       "    <tr>\n",
       "      <th>32017</th>\n",
       "      <td>363067577</td>\n",
       "      <td>1</td>\n",
       "      <td>413080</td>\n",
       "      <td>99.999032</td>\n",
       "    </tr>\n",
       "    <tr>\n",
       "      <th>32018</th>\n",
       "      <td>1247167064139124736</td>\n",
       "      <td>1</td>\n",
       "      <td>413081</td>\n",
       "      <td>99.999274</td>\n",
       "    </tr>\n",
       "    <tr>\n",
       "      <th>32019</th>\n",
       "      <td>1473082761732935682</td>\n",
       "      <td>1</td>\n",
       "      <td>413082</td>\n",
       "      <td>99.999516</td>\n",
       "    </tr>\n",
       "    <tr>\n",
       "      <th>32020</th>\n",
       "      <td>853274242359713792</td>\n",
       "      <td>1</td>\n",
       "      <td>413083</td>\n",
       "      <td>99.999758</td>\n",
       "    </tr>\n",
       "    <tr>\n",
       "      <th>43974</th>\n",
       "      <td>703959415549009920</td>\n",
       "      <td>1</td>\n",
       "      <td>413084</td>\n",
       "      <td>100.000000</td>\n",
       "    </tr>\n",
       "  </tbody>\n",
       "</table>\n",
       "<p>43975 rows × 4 columns</p>\n",
       "</div>"
      ],
      "text/plain": [
       "                 author_id  n_replies  cum_replies    cum_perc\n",
       "0                186813764      12880        12880    3.118010\n",
       "1      1373293126916395008       4644        17524    4.242236\n",
       "2               3092309687       2827        20351    4.926601\n",
       "3      1381276005566971904       2360        22711    5.497913\n",
       "4      1360223452532244481       1847        24558    5.945038\n",
       "...                    ...        ...          ...         ...\n",
       "32017            363067577          1       413080   99.999032\n",
       "32018  1247167064139124736          1       413081   99.999274\n",
       "32019  1473082761732935682          1       413082   99.999516\n",
       "32020   853274242359713792          1       413083   99.999758\n",
       "43974   703959415549009920          1       413084  100.000000\n",
       "\n",
       "[43975 rows x 4 columns]"
      ]
     },
     "execution_count": 66,
     "metadata": {},
     "output_type": "execute_result"
    }
   ],
   "source": [
    "untrust_users, untrust_cutoff = def_cum_replies(misinfo_replies)\n",
    "trust_users, trust_cutoff = def_cum_replies(trust_replies)\n",
    "all_users, all_cutoff = def_cum_replies(replies)\n",
    "untrust_users"
   ]
  },
  {
   "cell_type": "code",
   "execution_count": 67,
   "metadata": {},
   "outputs": [],
   "source": [
    "all_users.to_csv(join(DIR, \"all_users_activity.csv\"), index=False)"
   ]
  },
  {
   "cell_type": "code",
   "execution_count": 68,
   "metadata": {},
   "outputs": [
    {
     "data": {
      "text/plain": [
       "(8241, 37958)"
      ]
     },
     "execution_count": 68,
     "metadata": {},
     "output_type": "execute_result"
    }
   ],
   "source": [
    "# keep the top 80% of users\n",
    "untrust_top = untrust_users[untrust_users[\"cum_perc\"] <= 80]\n",
    "trust_top = trust_users[trust_users[\"cum_perc\"] <= 80]\n",
    "len(untrust_top), len(trust_top)"
   ]
  },
  {
   "cell_type": "code",
   "execution_count": 69,
   "metadata": {},
   "outputs": [
    {
     "data": {
      "text/html": [
       "<div>\n",
       "<style scoped>\n",
       "    .dataframe tbody tr th:only-of-type {\n",
       "        vertical-align: middle;\n",
       "    }\n",
       "\n",
       "    .dataframe tbody tr th {\n",
       "        vertical-align: top;\n",
       "    }\n",
       "\n",
       "    .dataframe thead th {\n",
       "        text-align: right;\n",
       "    }\n",
       "</style>\n",
       "<table border=\"1\" class=\"dataframe\">\n",
       "  <thead>\n",
       "    <tr style=\"text-align: right;\">\n",
       "      <th></th>\n",
       "      <th>author_id</th>\n",
       "      <th>n_replies</th>\n",
       "      <th>cum_replies</th>\n",
       "      <th>cum_perc</th>\n",
       "    </tr>\n",
       "  </thead>\n",
       "  <tbody>\n",
       "    <tr>\n",
       "      <th>131601</th>\n",
       "      <td>193728922</td>\n",
       "      <td>6</td>\n",
       "      <td>10326624</td>\n",
       "      <td>95.341088</td>\n",
       "    </tr>\n",
       "    <tr>\n",
       "      <th>108611</th>\n",
       "      <td>1319736722272419840</td>\n",
       "      <td>9</td>\n",
       "      <td>10116996</td>\n",
       "      <td>93.405687</td>\n",
       "    </tr>\n",
       "    <tr>\n",
       "      <th>135485</th>\n",
       "      <td>745875671591821312</td>\n",
       "      <td>6</td>\n",
       "      <td>10302828</td>\n",
       "      <td>95.121391</td>\n",
       "    </tr>\n",
       "    <tr>\n",
       "      <th>171641</th>\n",
       "      <td>21292560</td>\n",
       "      <td>4</td>\n",
       "      <td>10443317</td>\n",
       "      <td>96.418462</td>\n",
       "    </tr>\n",
       "    <tr>\n",
       "      <th>62024</th>\n",
       "      <td>1313854575829569538</td>\n",
       "      <td>23</td>\n",
       "      <td>9464840</td>\n",
       "      <td>87.384623</td>\n",
       "    </tr>\n",
       "    <tr>\n",
       "      <th>...</th>\n",
       "      <td>...</td>\n",
       "      <td>...</td>\n",
       "      <td>...</td>\n",
       "      <td>...</td>\n",
       "    </tr>\n",
       "    <tr>\n",
       "      <th>83770</th>\n",
       "      <td>956470148730322945</td>\n",
       "      <td>14</td>\n",
       "      <td>9833925</td>\n",
       "      <td>90.792219</td>\n",
       "    </tr>\n",
       "    <tr>\n",
       "      <th>112330</th>\n",
       "      <td>3147218446</td>\n",
       "      <td>8</td>\n",
       "      <td>10209050</td>\n",
       "      <td>94.255580</td>\n",
       "    </tr>\n",
       "    <tr>\n",
       "      <th>148158</th>\n",
       "      <td>1004370966556893184</td>\n",
       "      <td>5</td>\n",
       "      <td>10349271</td>\n",
       "      <td>95.550178</td>\n",
       "    </tr>\n",
       "    <tr>\n",
       "      <th>84159</th>\n",
       "      <td>1362376350485602310</td>\n",
       "      <td>14</td>\n",
       "      <td>9850655</td>\n",
       "      <td>90.946680</td>\n",
       "    </tr>\n",
       "    <tr>\n",
       "      <th>103666</th>\n",
       "      <td>1284185477122228224</td>\n",
       "      <td>9</td>\n",
       "      <td>10127238</td>\n",
       "      <td>93.500247</td>\n",
       "    </tr>\n",
       "  </tbody>\n",
       "</table>\n",
       "<p>37958 rows × 4 columns</p>\n",
       "</div>"
      ],
      "text/plain": [
       "                  author_id  n_replies  cum_replies   cum_perc\n",
       "131601            193728922          6     10326624  95.341088\n",
       "108611  1319736722272419840          9     10116996  93.405687\n",
       "135485   745875671591821312          6     10302828  95.121391\n",
       "171641             21292560          4     10443317  96.418462\n",
       "62024   1313854575829569538         23      9464840  87.384623\n",
       "...                     ...        ...          ...        ...\n",
       "83770    956470148730322945         14      9833925  90.792219\n",
       "112330           3147218446          8     10209050  94.255580\n",
       "148158  1004370966556893184          5     10349271  95.550178\n",
       "84159   1362376350485602310         14      9850655  90.946680\n",
       "103666  1284185477122228224          9     10127238  93.500247\n",
       "\n",
       "[37958 rows x 4 columns]"
      ]
     },
     "execution_count": 69,
     "metadata": {},
     "output_type": "execute_result"
    }
   ],
   "source": [
    "size = len(trust_top)\n",
    "\n",
    "#remove users with less than 3 replies from all_users\n",
    "all_users = all_users[all_users[\"n_replies\"] > 3]\n",
    "#get a random number of rows from all_users\n",
    "random_users = all_users.sample(n=size, random_state=636)\n",
    "random_users"
   ]
  },
  {
   "cell_type": "code",
   "execution_count": 70,
   "metadata": {},
   "outputs": [
    {
     "data": {
      "image/png": "[encoded data removed]",
      "text/plain": [
       "<Figure size 250x200 with 1 Axes>"
      ]
     },
     "metadata": {},
     "output_type": "display_data"
    }
   ],
   "source": [
    "# what is the median activity for all misinfo users?\n",
    "median = untrust_users[\"n_replies\"].median()\n",
    "\n",
    "# extract list of users that are more active than the median\n",
    "median_untrust = untrust_users[untrust_users[\"n_replies\"] > median]\n",
    "median_untrust = untrust_users[untrust_users[\"n_replies\"] > 3]\n",
    "\n",
    "#remove users that are in untrust_users\n",
    "avg_untrust = median_untrust[~median_untrust[\"author_id\"].isin(untrust_top[\"author_id\"])]\n",
    "\n",
    "#show their distribution of replies\n",
    "#figsize\n",
    "plt.figure(figsize=(2.5, 2))\n",
    "avg_untrust[\"n_replies\"].plot.hist()\n",
    "plt.tick_params(axis='both', which='major', labelsize=7)\n",
    "plt.xlabel(\"Number of Replies\", fontsize=8)\n",
    "plt.ylabel(\"Frequency\", fontsize=8)\n",
    "plt.text(0.6, 0.6, f\"N={len(avg_untrust)}\",\n",
    "         fontsize=8, transform=plt.gca().transAxes)\n",
    "custom_plots()\n",
    "plt.show()"
   ]
  },
  {
   "cell_type": "code",
   "execution_count": 71,
   "metadata": {},
   "outputs": [
    {
     "data": {
      "text/html": [
       "<div>\n",
       "<style scoped>\n",
       "    .dataframe tbody tr th:only-of-type {\n",
       "        vertical-align: middle;\n",
       "    }\n",
       "\n",
       "    .dataframe tbody tr th {\n",
       "        vertical-align: top;\n",
       "    }\n",
       "\n",
       "    .dataframe thead th {\n",
       "        text-align: right;\n",
       "    }\n",
       "</style>\n",
       "<table border=\"1\" class=\"dataframe\">\n",
       "  <thead>\n",
       "    <tr style=\"text-align: right;\">\n",
       "      <th></th>\n",
       "      <th>author_id</th>\n",
       "      <th>n_replies</th>\n",
       "      <th>cum_replies</th>\n",
       "      <th>cum_perc</th>\n",
       "    </tr>\n",
       "  </thead>\n",
       "  <tbody>\n",
       "    <tr>\n",
       "      <th>8776</th>\n",
       "      <td>152575687</td>\n",
       "      <td>8</td>\n",
       "      <td>330475</td>\n",
       "      <td>80.001888</td>\n",
       "    </tr>\n",
       "    <tr>\n",
       "      <th>8754</th>\n",
       "      <td>17572069</td>\n",
       "      <td>8</td>\n",
       "      <td>330483</td>\n",
       "      <td>80.003825</td>\n",
       "    </tr>\n",
       "    <tr>\n",
       "      <th>8804</th>\n",
       "      <td>589993021</td>\n",
       "      <td>8</td>\n",
       "      <td>330491</td>\n",
       "      <td>80.005762</td>\n",
       "    </tr>\n",
       "    <tr>\n",
       "      <th>8753</th>\n",
       "      <td>724684416996413440</td>\n",
       "      <td>8</td>\n",
       "      <td>330499</td>\n",
       "      <td>80.007698</td>\n",
       "    </tr>\n",
       "    <tr>\n",
       "      <th>8755</th>\n",
       "      <td>1309299433473966080</td>\n",
       "      <td>8</td>\n",
       "      <td>330507</td>\n",
       "      <td>80.009635</td>\n",
       "    </tr>\n",
       "    <tr>\n",
       "      <th>...</th>\n",
       "      <td>...</td>\n",
       "      <td>...</td>\n",
       "      <td>...</td>\n",
       "      <td>...</td>\n",
       "    </tr>\n",
       "    <tr>\n",
       "      <th>13930</th>\n",
       "      <td>1477231626841202691</td>\n",
       "      <td>4</td>\n",
       "      <td>370447</td>\n",
       "      <td>89.678371</td>\n",
       "    </tr>\n",
       "    <tr>\n",
       "      <th>13929</th>\n",
       "      <td>1347590546773127169</td>\n",
       "      <td>4</td>\n",
       "      <td>370451</td>\n",
       "      <td>89.679339</td>\n",
       "    </tr>\n",
       "    <tr>\n",
       "      <th>13926</th>\n",
       "      <td>704282873231237121</td>\n",
       "      <td>4</td>\n",
       "      <td>370455</td>\n",
       "      <td>89.680307</td>\n",
       "    </tr>\n",
       "    <tr>\n",
       "      <th>13927</th>\n",
       "      <td>1381288741772406785</td>\n",
       "      <td>4</td>\n",
       "      <td>370459</td>\n",
       "      <td>89.681275</td>\n",
       "    </tr>\n",
       "    <tr>\n",
       "      <th>13928</th>\n",
       "      <td>2213517940</td>\n",
       "      <td>4</td>\n",
       "      <td>370463</td>\n",
       "      <td>89.682244</td>\n",
       "    </tr>\n",
       "  </tbody>\n",
       "</table>\n",
       "<p>7313 rows × 4 columns</p>\n",
       "</div>"
      ],
      "text/plain": [
       "                 author_id  n_replies  cum_replies   cum_perc\n",
       "8776             152575687          8       330475  80.001888\n",
       "8754              17572069          8       330483  80.003825\n",
       "8804             589993021          8       330491  80.005762\n",
       "8753    724684416996413440          8       330499  80.007698\n",
       "8755   1309299433473966080          8       330507  80.009635\n",
       "...                    ...        ...          ...        ...\n",
       "13930  1477231626841202691          4       370447  89.678371\n",
       "13929  1347590546773127169          4       370451  89.679339\n",
       "13926   704282873231237121          4       370455  89.680307\n",
       "13927  1381288741772406785          4       370459  89.681275\n",
       "13928           2213517940          4       370463  89.682244\n",
       "\n",
       "[7313 rows x 4 columns]"
      ]
     },
     "execution_count": 71,
     "metadata": {},
     "output_type": "execute_result"
    }
   ],
   "source": [
    "avg_untrust"
   ]
  },
  {
   "cell_type": "code",
   "execution_count": 73,
   "metadata": {},
   "outputs": [],
   "source": [
    "# for each list of authors, get the tweets\n",
    "untrust_tweets = misinfo_replies[misinfo_replies[\"author_id\"].isin(untrust_top[\"author_id\"])]\n",
    "trust_tweets = trust_replies[trust_replies[\"author_id\"].isin(trust_top[\"author_id\"])]\n",
    "random_tweets = replies[replies[\"author_id\"].isin(random_users[\"author_id\"])]\n",
    "avg_untrust_tweets = misinfo_replies[misinfo_replies[\"author_id\"].isin(avg_untrust[\"author_id\"])]\n",
    "\n",
    "# for each author, aggregate anger\n",
    "untrust_agg = untrust_tweets.groupby(\"author_id\")[\"anger\"].mean().reset_index()\n",
    "trust_agg = trust_tweets.groupby(\"author_id\")[\"anger\"].mean().reset_index()\n",
    "random_agg = random_tweets.groupby(\"author_id\")[\"anger\"].mean().reset_index()\n",
    "avg_untrust_agg = avg_untrust_tweets.groupby(\"author_id\")[\"anger\"].mean().reset_index()"
   ]
  },
  {
   "cell_type": "code",
   "execution_count": 74,
   "metadata": {},
   "outputs": [
    {
     "data": {
      "image/png": "[encoded data removed]",
      "text/plain": [
       "<Figure size 450x400 with 4 Axes>"
      ]
     },
     "metadata": {},
     "output_type": "display_data"
    }
   ],
   "source": [
    "# plot the distribution of anger\n",
    "fig, axs = plt.subplots(2, 2, figsize=(4.5, 4), \n",
    "                        sharey=True\n",
    "                        )\n",
    "\n",
    "untrust_agg[\"anger\"].plot.hist(ax=axs[0, 0], \n",
    "                      # bins=50, \n",
    "                    #   color=colors['Untrustworthy'], \n",
    "                    density=True)\n",
    "# add number of users\n",
    "axs[0, 0].text(0.6, 2.5, f\"N={len(untrust_agg)}\",\n",
    "          fontsize=8)\n",
    "# add line for mean\n",
    "axs[0, 0].axvline(untrust_agg[\"anger\"].mean(), color='red', linestyle='--', linewidth=1)\n",
    "axs[0, 0].set_title(\"Top untrustworthy\",\n",
    "                    fontsize=8)\n",
    "\n",
    "trust_agg[\"anger\"].plot.hist(ax=axs[0, 1], \n",
    "                    # bins=50, \n",
    "                    # color=colors['Trustworthy'], \n",
    "                    density=True)\n",
    "axs[0, 1].text(0.55, 2.7, f\"N={len(trust_agg)}\",\n",
    "          fontsize=8)\n",
    "axs[0, 1].axvline(trust_agg[\"anger\"].mean(), color='red', linestyle='--', linewidth=1)\n",
    "axs[0, 1].set_title(\"Top trustworthy\", \n",
    "                    fontsize=8)\n",
    "\n",
    "random_agg[\"anger\"].plot.hist(ax=axs[1, 0], \n",
    "                    #  bins=50, \n",
    "                    #  color=\"grey\", \n",
    "                     density=True)\n",
    "axs[1, 0].text(0.6, 2.5, f\"N={len(random_agg)}\",\n",
    "          fontsize=8)\n",
    "axs[1, 0].axvline(random_agg[\"anger\"].mean(), color='red', linestyle='--', linewidth=1)\n",
    "axs[1, 0].set_title(\"Random\", \n",
    "                    fontsize=8)\n",
    "\n",
    "avg_untrust_agg[\"anger\"].plot.hist(ax=axs[1, 1], \n",
    "                          # bins=50, \n",
    "                        #   color=colors['Untrustworthy'], \n",
    "                          density=True)\n",
    "axs[1, 1].text(0.6, 2.5, f\"N={len(avg_untrust_agg)}\",\n",
    "          fontsize=8)\n",
    "axs[1, 1].axvline(avg_untrust_agg[\"anger\"].mean(), color='red', linestyle='--', linewidth=1)\n",
    "axs[1, 1].set_title(\"Avg untrustworthy\", \n",
    "                    fontsize=8)\n",
    "\n",
    "for ax in axs.flat:\n",
    "    ax.tick_params(axis='both', which='major', labelsize=7)\n",
    "    ax.set_xlabel(\"Anger\", fontsize=8)\n",
    "    ax.set_ylabel(\"Density\", fontsize=8)\n",
    "    custom_plots(ax)\n",
    "plt.tight_layout()\n",
    "plt.show()"
   ]
  },
  {
   "cell_type": "code",
   "execution_count": 75,
   "metadata": {},
   "outputs": [
    {
     "data": {
      "text/html": [
       "<div>\n",
       "<style scoped>\n",
       "    .dataframe tbody tr th:only-of-type {\n",
       "        vertical-align: middle;\n",
       "    }\n",
       "\n",
       "    .dataframe tbody tr th {\n",
       "        vertical-align: top;\n",
       "    }\n",
       "\n",
       "    .dataframe thead th {\n",
       "        text-align: right;\n",
       "    }\n",
       "</style>\n",
       "<table border=\"1\" class=\"dataframe\">\n",
       "  <thead>\n",
       "    <tr style=\"text-align: right;\">\n",
       "      <th></th>\n",
       "      <th>Untrustworthy</th>\n",
       "      <th>Trustworthy</th>\n",
       "      <th>Random</th>\n",
       "      <th>Median</th>\n",
       "    </tr>\n",
       "  </thead>\n",
       "  <tbody>\n",
       "    <tr>\n",
       "      <th>Mean</th>\n",
       "      <td>0.411163</td>\n",
       "      <td>0.391718</td>\n",
       "      <td>0.375835</td>\n",
       "      <td>0.407450</td>\n",
       "    </tr>\n",
       "    <tr>\n",
       "      <th>SD</th>\n",
       "      <td>0.166297</td>\n",
       "      <td>0.134700</td>\n",
       "      <td>0.192866</td>\n",
       "      <td>0.232176</td>\n",
       "    </tr>\n",
       "    <tr>\n",
       "      <th>Median</th>\n",
       "      <td>0.402763</td>\n",
       "      <td>0.383748</td>\n",
       "      <td>0.367595</td>\n",
       "      <td>0.397309</td>\n",
       "    </tr>\n",
       "    <tr>\n",
       "      <th>Mode</th>\n",
       "      <td>0.001532</td>\n",
       "      <td>0.000708</td>\n",
       "      <td>0.001532</td>\n",
       "      <td>0.001532</td>\n",
       "    </tr>\n",
       "  </tbody>\n",
       "</table>\n",
       "</div>"
      ],
      "text/plain": [
       "        Untrustworthy  Trustworthy    Random    Median\n",
       "Mean         0.411163     0.391718  0.375835  0.407450\n",
       "SD           0.166297     0.134700  0.192866  0.232176\n",
       "Median       0.402763     0.383748  0.367595  0.397309\n",
       "Mode         0.001532     0.000708  0.001532  0.001532"
      ]
     },
     "execution_count": 75,
     "metadata": {},
     "output_type": "execute_result"
    }
   ],
   "source": [
    "# calculate mean and std and median per group and make a table\n",
    "groups_table = pd.DataFrame({\n",
    "    \"Untrustworthy\": [untrust_agg[\"anger\"].mean(), \n",
    "                      untrust_agg[\"anger\"].std(), \n",
    "                      untrust_agg[\"anger\"].median(), \n",
    "                      untrust_agg[\"anger\"].mode()[0]],\n",
    "    \"Trustworthy\": [trust_agg[\"anger\"].mean(), \n",
    "                    trust_agg[\"anger\"].std(), \n",
    "                    trust_agg[\"anger\"].median(), \n",
    "                    trust_agg[\"anger\"].mode()[0]],\n",
    "    \"Random\": [random_agg[\"anger\"].mean(), \n",
    "               random_agg[\"anger\"].std(), \n",
    "               random_agg[\"anger\"].median(), \n",
    "               random_agg[\"anger\"].mode()[0]],\n",
    "    \"Median\": [avg_untrust_agg[\"anger\"].mean(), \n",
    "               avg_untrust_agg[\"anger\"].std(), \n",
    "               avg_untrust_agg[\"anger\"].median(), \n",
    "               avg_untrust_agg[\"anger\"].mode()[0]]\n",
    "}, index=[\"Mean\",\n",
    "            \"SD\",\n",
    "            \"Median\",\n",
    "            \"Mode\"])\n",
    "groups_table"
   ]
  },
  {
   "cell_type": "code",
   "execution_count": 76,
   "metadata": {},
   "outputs": [
    {
     "name": "stderr",
     "output_type": "stream",
     "text": [
      "/tmp/ipykernel_3929320/402468163.py:7: SettingWithCopyWarning: \n",
      "A value is trying to be set on a copy of a slice from a DataFrame.\n",
      "Try using .loc[row_indexer,col_indexer] = value instead\n",
      "\n",
      "See the caveats in the documentation: https://pandas.pydata.org/pandas-docs/stable/user_guide/indexing.html#returning-a-view-versus-a-copy\n",
      "  untrust_top[\"group\"] = \"untrustworthy\"\n",
      "/tmp/ipykernel_3929320/402468163.py:8: SettingWithCopyWarning: \n",
      "A value is trying to be set on a copy of a slice from a DataFrame.\n",
      "Try using .loc[row_indexer,col_indexer] = value instead\n",
      "\n",
      "See the caveats in the documentation: https://pandas.pydata.org/pandas-docs/stable/user_guide/indexing.html#returning-a-view-versus-a-copy\n",
      "  trust_top[\"group\"] = \"trustworthy\"\n",
      "/tmp/ipykernel_3929320/402468163.py:10: SettingWithCopyWarning: \n",
      "A value is trying to be set on a copy of a slice from a DataFrame.\n",
      "Try using .loc[row_indexer,col_indexer] = value instead\n",
      "\n",
      "See the caveats in the documentation: https://pandas.pydata.org/pandas-docs/stable/user_guide/indexing.html#returning-a-view-versus-a-copy\n",
      "  avg_untrust[\"group\"] = \"avg_untrustworthy\"\n"
     ]
    },
    {
     "data": {
      "text/html": [
       "<div>\n",
       "<style scoped>\n",
       "    .dataframe tbody tr th:only-of-type {\n",
       "        vertical-align: middle;\n",
       "    }\n",
       "\n",
       "    .dataframe tbody tr th {\n",
       "        vertical-align: top;\n",
       "    }\n",
       "\n",
       "    .dataframe thead th {\n",
       "        text-align: right;\n",
       "    }\n",
       "</style>\n",
       "<table border=\"1\" class=\"dataframe\">\n",
       "  <thead>\n",
       "    <tr style=\"text-align: right;\">\n",
       "      <th></th>\n",
       "      <th>author_id</th>\n",
       "      <th>n_replies</th>\n",
       "      <th>cum_replies</th>\n",
       "      <th>cum_perc</th>\n",
       "      <th>group</th>\n",
       "      <th>anger</th>\n",
       "    </tr>\n",
       "  </thead>\n",
       "  <tbody>\n",
       "    <tr>\n",
       "      <th>0</th>\n",
       "      <td>1367862514579542017</td>\n",
       "      <td>15295</td>\n",
       "      <td>15295</td>\n",
       "      <td>0.146781</td>\n",
       "      <td>trustworthy</td>\n",
       "      <td>0.001581</td>\n",
       "    </tr>\n",
       "    <tr>\n",
       "      <th>1</th>\n",
       "      <td>709433267297107968</td>\n",
       "      <td>14758</td>\n",
       "      <td>30053</td>\n",
       "      <td>0.288408</td>\n",
       "      <td>trustworthy</td>\n",
       "      <td>0.260810</td>\n",
       "    </tr>\n",
       "    <tr>\n",
       "      <th>2</th>\n",
       "      <td>186813764</td>\n",
       "      <td>13777</td>\n",
       "      <td>43909</td>\n",
       "      <td>0.405392</td>\n",
       "      <td>random</td>\n",
       "      <td>0.350980</td>\n",
       "    </tr>\n",
       "    <tr>\n",
       "      <th>3</th>\n",
       "      <td>1267192643831947265</td>\n",
       "      <td>12644</td>\n",
       "      <td>42697</td>\n",
       "      <td>0.409748</td>\n",
       "      <td>trustworthy</td>\n",
       "      <td>0.015462</td>\n",
       "    </tr>\n",
       "    <tr>\n",
       "      <th>4</th>\n",
       "      <td>1346043407286861824</td>\n",
       "      <td>9986</td>\n",
       "      <td>52683</td>\n",
       "      <td>0.505580</td>\n",
       "      <td>trustworthy</td>\n",
       "      <td>0.320817</td>\n",
       "    </tr>\n",
       "    <tr>\n",
       "      <th>...</th>\n",
       "      <td>...</td>\n",
       "      <td>...</td>\n",
       "      <td>...</td>\n",
       "      <td>...</td>\n",
       "      <td>...</td>\n",
       "      <td>...</td>\n",
       "    </tr>\n",
       "    <tr>\n",
       "      <th>71239</th>\n",
       "      <td>1415833896390905859</td>\n",
       "      <td>4</td>\n",
       "      <td>10441937</td>\n",
       "      <td>96.405722</td>\n",
       "      <td>random</td>\n",
       "      <td>0.393047</td>\n",
       "    </tr>\n",
       "    <tr>\n",
       "      <th>71240</th>\n",
       "      <td>16024541</td>\n",
       "      <td>4</td>\n",
       "      <td>10492281</td>\n",
       "      <td>96.870525</td>\n",
       "      <td>random</td>\n",
       "      <td>0.503782</td>\n",
       "    </tr>\n",
       "    <tr>\n",
       "      <th>71241</th>\n",
       "      <td>10970952</td>\n",
       "      <td>4</td>\n",
       "      <td>10418157</td>\n",
       "      <td>96.186171</td>\n",
       "      <td>random</td>\n",
       "      <td>0.653709</td>\n",
       "    </tr>\n",
       "    <tr>\n",
       "      <th>71242</th>\n",
       "      <td>1135825327090020352</td>\n",
       "      <td>4</td>\n",
       "      <td>10435217</td>\n",
       "      <td>96.343679</td>\n",
       "      <td>random</td>\n",
       "      <td>0.030353</td>\n",
       "    </tr>\n",
       "    <tr>\n",
       "      <th>71243</th>\n",
       "      <td>1346467352792027137</td>\n",
       "      <td>4</td>\n",
       "      <td>10458989</td>\n",
       "      <td>96.563155</td>\n",
       "      <td>random</td>\n",
       "      <td>0.491595</td>\n",
       "    </tr>\n",
       "  </tbody>\n",
       "</table>\n",
       "<p>71244 rows × 6 columns</p>\n",
       "</div>"
      ],
      "text/plain": [
       "                 author_id  n_replies  cum_replies   cum_perc        group  \\\n",
       "0      1367862514579542017      15295        15295   0.146781  trustworthy   \n",
       "1       709433267297107968      14758        30053   0.288408  trustworthy   \n",
       "2                186813764      13777        43909   0.405392       random   \n",
       "3      1267192643831947265      12644        42697   0.409748  trustworthy   \n",
       "4      1346043407286861824       9986        52683   0.505580  trustworthy   \n",
       "...                    ...        ...          ...        ...          ...   \n",
       "71239  1415833896390905859          4     10441937  96.405722       random   \n",
       "71240             16024541          4     10492281  96.870525       random   \n",
       "71241             10970952          4     10418157  96.186171       random   \n",
       "71242  1135825327090020352          4     10435217  96.343679       random   \n",
       "71243  1346467352792027137          4     10458989  96.563155       random   \n",
       "\n",
       "          anger  \n",
       "0      0.001581  \n",
       "1      0.260810  \n",
       "2      0.350980  \n",
       "3      0.015462  \n",
       "4      0.320817  \n",
       "...         ...  \n",
       "71239  0.393047  \n",
       "71240  0.503782  \n",
       "71241  0.653709  \n",
       "71242  0.030353  \n",
       "71243  0.491595  \n",
       "\n",
       "[71244 rows x 6 columns]"
      ]
     },
     "execution_count": 76,
     "metadata": {},
     "output_type": "execute_result"
    }
   ],
   "source": [
    "untrust_agg[\"group\"] = \"untrustworthy\"\n",
    "trust_agg[\"group\"] = \"trustworthy\"\n",
    "random_agg[\"group\"] = \"random\"\n",
    "avg_untrust_agg[\"group\"] = \"avg_untrustworthy\"\n",
    "all_anger_agg = pd.concat([untrust_agg, trust_agg, random_agg, avg_untrust_agg], axis=0)\n",
    "\n",
    "untrust_top[\"group\"] = \"untrustworthy\"\n",
    "trust_top[\"group\"] = \"trustworthy\"\n",
    "random_users[\"group\"] = \"random\"\n",
    "avg_untrust[\"group\"] = \"avg_untrustworthy\"\n",
    "all_activity = pd.concat([untrust_top, trust_top, random_users, avg_untrust], axis=0)\n",
    "all_activity = all_activity.sort_values(\"n_replies\", ascending=False)\n",
    "all_activity = all_activity.drop_duplicates(subset=\"author_id\", keep=\"first\")\n",
    "\n",
    "# merge with all_anger_agg\n",
    "all_activity_agg = all_activity.merge(all_anger_agg, on=[\"author_id\", \"group\"], how=\"left\")\n",
    "all_activity_agg"
   ]
  },
  {
   "cell_type": "code",
   "execution_count": 77,
   "metadata": {},
   "outputs": [
    {
     "data": {
      "text/plain": [
       "trustworthy          31512\n",
       "random               31512\n",
       "avg_untrustworthy     2497\n",
       "untrustworthy         1341\n",
       "Name: group, dtype: int64"
      ]
     },
     "execution_count": 77,
     "metadata": {},
     "output_type": "execute_result"
    }
   ],
   "source": [
    "trust_group = all_activity_agg[all_activity_agg[\"group\"] == \"trustworthy\"]\n",
    "random_activity = all_activity_agg[all_activity_agg[\"group\"] == \"random\"]\n",
    "random_activity = random_activity.sample(n=len(trust_group), random_state=636)\n",
    "\n",
    "all_activity_agg = pd.concat([all_activity_agg[all_activity_agg[\"group\"] != \"random\"], \n",
    "                              random_activity], axis=0)\n",
    "\n",
    "all_activity_agg.group.value_counts()"
   ]
  },
  {
   "cell_type": "code",
   "execution_count": 78,
   "metadata": {},
   "outputs": [
    {
     "data": {
      "text/plain": [
       "66862"
      ]
     },
     "execution_count": 78,
     "metadata": {},
     "output_type": "execute_result"
    }
   ],
   "source": [
    "# rename colum nanme\n",
    "all_activity_agg = all_activity_agg.rename(columns={\"anger\": \"anger_user\"})\n",
    "all_activity_agg[\"author_id\"].nunique()"
   ]
  },
  {
   "cell_type": "code",
   "execution_count": 79,
   "metadata": {},
   "outputs": [
    {
     "data": {
      "text/plain": [
       "(8978052, 66862)"
      ]
     },
     "execution_count": 79,
     "metadata": {},
     "output_type": "execute_result"
    }
   ],
   "source": [
    "# filter out the tweets that are in the all_agg[\"author_id\"]\n",
    "group_users_tweets = all_activity_agg[[\"author_id\", \"group\", \"anger_user\"]]\\\n",
    "                        .merge(replies[[\"conversation_id\", \"author_id\", \"anger\"]],\n",
    "                                on=\"author_id\",\n",
    "                                how=\"left\")\\\n",
    "                        .merge(starter[[\"id\", \"Rating\"]],\n",
    "                                    left_on=\"conversation_id\",\n",
    "                                    right_on=\"id\",\n",
    "                                    how=\"left\")\n",
    "len(group_users_tweets), len(all_activity_agg) #(8988826, 84054)"
   ]
  },
  {
   "cell_type": "code",
   "execution_count": 80,
   "metadata": {},
   "outputs": [
    {
     "data": {
      "text/plain": [
       "array(['trustworthy', 'untrustworthy', 'avg_untrustworthy', 'random'],\n",
       "      dtype=object)"
      ]
     },
     "execution_count": 80,
     "metadata": {},
     "output_type": "execute_result"
    }
   ],
   "source": [
    "group_users_tweets.group.unique()"
   ]
  },
  {
   "cell_type": "code",
   "execution_count": 81,
   "metadata": {},
   "outputs": [
    {
     "data": {
      "text/html": [
       "<table class=\"simpletable\">\n",
       "<caption>OLS Regression Results</caption>\n",
       "<tr>\n",
       "  <th>Dep. Variable:</th>       <td>anger_user</td>    <th>  R-squared:         </th>  <td>   0.005</td> \n",
       "</tr>\n",
       "<tr>\n",
       "  <th>Model:</th>                   <td>OLS</td>       <th>  Adj. R-squared:    </th>  <td>   0.005</td> \n",
       "</tr>\n",
       "<tr>\n",
       "  <th>Method:</th>             <td>Least Squares</td>  <th>  F-statistic:       </th>  <td>   108.6</td> \n",
       "</tr>\n",
       "<tr>\n",
       "  <th>Date:</th>             <td>Tue, 04 Feb 2025</td> <th>  Prob (F-statistic):</th>  <td>3.68e-70</td> \n",
       "</tr>\n",
       "<tr>\n",
       "  <th>Time:</th>                 <td>14:09:36</td>     <th>  Log-Likelihood:    </th>  <td>  23001.</td> \n",
       "</tr>\n",
       "<tr>\n",
       "  <th>No. Observations:</th>      <td> 66862</td>      <th>  AIC:               </th> <td>-4.599e+04</td>\n",
       "</tr>\n",
       "<tr>\n",
       "  <th>Df Residuals:</th>          <td> 66858</td>      <th>  BIC:               </th> <td>-4.596e+04</td>\n",
       "</tr>\n",
       "<tr>\n",
       "  <th>Df Model:</th>              <td>     3</td>      <th>                     </th>      <td> </td>    \n",
       "</tr>\n",
       "<tr>\n",
       "  <th>Covariance Type:</th>      <td>nonrobust</td>    <th>                     </th>      <td> </td>    \n",
       "</tr>\n",
       "</table>\n",
       "<table class=\"simpletable\">\n",
       "<tr>\n",
       "               <td></td>                 <th>coef</th>     <th>std err</th>      <th>t</th>      <th>P>|t|</th>  <th>[0.025</th>    <th>0.975]</th>  \n",
       "</tr>\n",
       "<tr>\n",
       "  <th>Intercept</th>                  <td>    0.3760</td> <td>    0.001</td> <td>  389.113</td> <td> 0.000</td> <td>    0.374</td> <td>    0.378</td>\n",
       "</tr>\n",
       "<tr>\n",
       "  <th>group[T.trustworthy]</th>       <td>    0.0148</td> <td>    0.001</td> <td>   10.807</td> <td> 0.000</td> <td>    0.012</td> <td>    0.017</td>\n",
       "</tr>\n",
       "<tr>\n",
       "  <th>group[T.untrustworthy]</th>     <td>    0.0507</td> <td>    0.005</td> <td>   10.593</td> <td> 0.000</td> <td>    0.041</td> <td>    0.060</td>\n",
       "</tr>\n",
       "<tr>\n",
       "  <th>group[T.avg_untrustworthy]</th> <td>    0.0475</td> <td>    0.004</td> <td>   13.315</td> <td> 0.000</td> <td>    0.040</td> <td>    0.054</td>\n",
       "</tr>\n",
       "</table>\n",
       "<table class=\"simpletable\">\n",
       "<tr>\n",
       "  <th>Omnibus:</th>       <td>1253.569</td> <th>  Durbin-Watson:     </th> <td>   1.982</td> \n",
       "</tr>\n",
       "<tr>\n",
       "  <th>Prob(Omnibus):</th>  <td> 0.000</td>  <th>  Jarque-Bera (JB):  </th> <td>1380.622</td> \n",
       "</tr>\n",
       "<tr>\n",
       "  <th>Skew:</th>           <td> 0.310</td>  <th>  Prob(JB):          </th> <td>1.59e-300</td>\n",
       "</tr>\n",
       "<tr>\n",
       "  <th>Kurtosis:</th>       <td> 3.332</td>  <th>  Cond. No.          </th> <td>    8.18</td> \n",
       "</tr>\n",
       "</table><br/><br/>Notes:<br/>[1] Standard Errors assume that the covariance matrix of the errors is correctly specified."
      ],
      "text/latex": [
       "\\begin{center}\n",
       "\\begin{tabular}{lclc}\n",
       "\\toprule\n",
       "\\textbf{Dep. Variable:}              &   anger\\_user    & \\textbf{  R-squared:         } &     0.005   \\\\\n",
       "\\textbf{Model:}                      &       OLS        & \\textbf{  Adj. R-squared:    } &     0.005   \\\\\n",
       "\\textbf{Method:}                     &  Least Squares   & \\textbf{  F-statistic:       } &     108.6   \\\\\n",
       "\\textbf{Date:}                       & Tue, 04 Feb 2025 & \\textbf{  Prob (F-statistic):} &  3.68e-70   \\\\\n",
       "\\textbf{Time:}                       &     14:09:36     & \\textbf{  Log-Likelihood:    } &    23001.   \\\\\n",
       "\\textbf{No. Observations:}           &       66862      & \\textbf{  AIC:               } & -4.599e+04  \\\\\n",
       "\\textbf{Df Residuals:}               &       66858      & \\textbf{  BIC:               } & -4.596e+04  \\\\\n",
       "\\textbf{Df Model:}                   &           3      & \\textbf{                     } &             \\\\\n",
       "\\textbf{Covariance Type:}            &    nonrobust     & \\textbf{                     } &             \\\\\n",
       "\\bottomrule\n",
       "\\end{tabular}\n",
       "\\begin{tabular}{lcccccc}\n",
       "                                     & \\textbf{coef} & \\textbf{std err} & \\textbf{t} & \\textbf{P$> |$t$|$} & \\textbf{[0.025} & \\textbf{0.975]}  \\\\\n",
       "\\midrule\n",
       "\\textbf{Intercept}                   &       0.3760  &        0.001     &   389.113  &         0.000        &        0.374    &        0.378     \\\\\n",
       "\\textbf{group[T.trustworthy]}        &       0.0148  &        0.001     &    10.807  &         0.000        &        0.012    &        0.017     \\\\\n",
       "\\textbf{group[T.untrustworthy]}      &       0.0507  &        0.005     &    10.593  &         0.000        &        0.041    &        0.060     \\\\\n",
       "\\textbf{group[T.avg\\_untrustworthy]} &       0.0475  &        0.004     &    13.315  &         0.000        &        0.040    &        0.054     \\\\\n",
       "\\bottomrule\n",
       "\\end{tabular}\n",
       "\\begin{tabular}{lclc}\n",
       "\\textbf{Omnibus:}       & 1253.569 & \\textbf{  Durbin-Watson:     } &     1.982  \\\\\n",
       "\\textbf{Prob(Omnibus):} &   0.000  & \\textbf{  Jarque-Bera (JB):  } &  1380.622  \\\\\n",
       "\\textbf{Skew:}          &   0.310  & \\textbf{  Prob(JB):          } & 1.59e-300  \\\\\n",
       "\\textbf{Kurtosis:}      &   3.332  & \\textbf{  Cond. No.          } &      8.18  \\\\\n",
       "\\bottomrule\n",
       "\\end{tabular}\n",
       "%\\caption{OLS Regression Results}\n",
       "\\end{center}\n",
       "\n",
       "Notes: \\newline\n",
       " [1] Standard Errors assume that the covariance matrix of the errors is correctly specified."
      ],
      "text/plain": [
       "<class 'statsmodels.iolib.summary.Summary'>\n",
       "\"\"\"\n",
       "                            OLS Regression Results                            \n",
       "==============================================================================\n",
       "Dep. Variable:             anger_user   R-squared:                       0.005\n",
       "Model:                            OLS   Adj. R-squared:                  0.005\n",
       "Method:                 Least Squares   F-statistic:                     108.6\n",
       "Date:                Tue, 04 Feb 2025   Prob (F-statistic):           3.68e-70\n",
       "Time:                        14:09:36   Log-Likelihood:                 23001.\n",
       "No. Observations:               66862   AIC:                        -4.599e+04\n",
       "Df Residuals:                   66858   BIC:                        -4.596e+04\n",
       "Df Model:                           3                                         \n",
       "Covariance Type:            nonrobust                                         \n",
       "==============================================================================================\n",
       "                                 coef    std err          t      P>|t|      [0.025      0.975]\n",
       "----------------------------------------------------------------------------------------------\n",
       "Intercept                      0.3760      0.001    389.113      0.000       0.374       0.378\n",
       "group[T.trustworthy]           0.0148      0.001     10.807      0.000       0.012       0.017\n",
       "group[T.untrustworthy]         0.0507      0.005     10.593      0.000       0.041       0.060\n",
       "group[T.avg_untrustworthy]     0.0475      0.004     13.315      0.000       0.040       0.054\n",
       "==============================================================================\n",
       "Omnibus:                     1253.569   Durbin-Watson:                   1.982\n",
       "Prob(Omnibus):                  0.000   Jarque-Bera (JB):             1380.622\n",
       "Skew:                           0.310   Prob(JB):                    1.59e-300\n",
       "Kurtosis:                       3.332   Cond. No.                         8.18\n",
       "==============================================================================\n",
       "\n",
       "Notes:\n",
       "[1] Standard Errors assume that the covariance matrix of the errors is correctly specified.\n",
       "\"\"\""
      ]
     },
     "execution_count": 81,
     "metadata": {},
     "output_type": "execute_result"
    }
   ],
   "source": [
    "all_activity_agg['group'] = pd.Categorical(\n",
    "    all_activity_agg['group'],\n",
    "    categories=['random', 'trustworthy', 'untrustworthy', 'avg_untrustworthy'],\n",
    "    ordered=True\n",
    ")\n",
    "\n",
    "model = smf.ols(\"anger_user ~ group\", data=all_activity_agg).fit()\n",
    "model.summary()"
   ]
  },
  {
   "cell_type": "code",
   "execution_count": 82,
   "metadata": {},
   "outputs": [
    {
     "data": {
      "text/html": [
       "<table class=\"simpletable\">\n",
       "<caption>OLS Regression Results</caption>\n",
       "<tr>\n",
       "  <th>Dep. Variable:</th>          <td>anger</td>      <th>  R-squared:         </th>  <td>   0.000</td>  \n",
       "</tr>\n",
       "<tr>\n",
       "  <th>Model:</th>                   <td>OLS</td>       <th>  Adj. R-squared:    </th>  <td>   0.000</td>  \n",
       "</tr>\n",
       "<tr>\n",
       "  <th>Method:</th>             <td>Least Squares</td>  <th>  F-statistic:       </th>  <td>   173.3</td>  \n",
       "</tr>\n",
       "<tr>\n",
       "  <th>Date:</th>             <td>Tue, 04 Feb 2025</td> <th>  Prob (F-statistic):</th>  <td>2.31e-112</td> \n",
       "</tr>\n",
       "<tr>\n",
       "  <th>Time:</th>                 <td>14:10:03</td>     <th>  Log-Likelihood:    </th> <td>-5.2708e+06</td>\n",
       "</tr>\n",
       "<tr>\n",
       "  <th>No. Observations:</th>      <td>8978052</td>     <th>  AIC:               </th>  <td>1.054e+07</td> \n",
       "</tr>\n",
       "<tr>\n",
       "  <th>Df Residuals:</th>          <td>8978048</td>     <th>  BIC:               </th>  <td>1.054e+07</td> \n",
       "</tr>\n",
       "<tr>\n",
       "  <th>Df Model:</th>              <td>     3</td>      <th>                     </th>      <td> </td>     \n",
       "</tr>\n",
       "<tr>\n",
       "  <th>Covariance Type:</th>      <td>nonrobust</td>    <th>                     </th>      <td> </td>     \n",
       "</tr>\n",
       "</table>\n",
       "<table class=\"simpletable\">\n",
       "<tr>\n",
       "               <td></td>                 <th>coef</th>     <th>std err</th>      <th>t</th>      <th>P>|t|</th>  <th>[0.025</th>    <th>0.975]</th>  \n",
       "</tr>\n",
       "<tr>\n",
       "  <th>Intercept</th>                  <td>    0.3963</td> <td>    0.000</td> <td> 1213.021</td> <td> 0.000</td> <td>    0.396</td> <td>    0.397</td>\n",
       "</tr>\n",
       "<tr>\n",
       "  <th>group[T.trustworthy]</th>       <td>    0.0011</td> <td>    0.000</td> <td>    2.880</td> <td> 0.004</td> <td>    0.000</td> <td>    0.002</td>\n",
       "</tr>\n",
       "<tr>\n",
       "  <th>group[T.untrustworthy]</th>     <td>    0.0207</td> <td>    0.001</td> <td>   15.279</td> <td> 0.000</td> <td>    0.018</td> <td>    0.023</td>\n",
       "</tr>\n",
       "<tr>\n",
       "  <th>group[T.avg_untrustworthy]</th> <td>    0.0319</td> <td>    0.002</td> <td>   17.294</td> <td> 0.000</td> <td>    0.028</td> <td>    0.036</td>\n",
       "</tr>\n",
       "</table>\n",
       "<table class=\"simpletable\">\n",
       "<tr>\n",
       "  <th>Omnibus:</th>       <td>39557926.063</td> <th>  Durbin-Watson:     </th>  <td>   1.746</td>  \n",
       "</tr>\n",
       "<tr>\n",
       "  <th>Prob(Omnibus):</th>    <td> 0.000</td>    <th>  Jarque-Bera (JB):  </th> <td>1316744.910</td>\n",
       "</tr>\n",
       "<tr>\n",
       "  <th>Skew:</th>             <td> 0.415</td>    <th>  Prob(JB):          </th>  <td>    0.00</td>  \n",
       "</tr>\n",
       "<tr>\n",
       "  <th>Kurtosis:</th>         <td> 1.318</td>    <th>  Cond. No.          </th>  <td>    16.5</td>  \n",
       "</tr>\n",
       "</table><br/><br/>Notes:<br/>[1] Standard Errors assume that the covariance matrix of the errors is correctly specified."
      ],
      "text/latex": [
       "\\begin{center}\n",
       "\\begin{tabular}{lclc}\n",
       "\\toprule\n",
       "\\textbf{Dep. Variable:}              &      anger       & \\textbf{  R-squared:         } &      0.000   \\\\\n",
       "\\textbf{Model:}                      &       OLS        & \\textbf{  Adj. R-squared:    } &      0.000   \\\\\n",
       "\\textbf{Method:}                     &  Least Squares   & \\textbf{  F-statistic:       } &      173.3   \\\\\n",
       "\\textbf{Date:}                       & Tue, 04 Feb 2025 & \\textbf{  Prob (F-statistic):} &  2.31e-112   \\\\\n",
       "\\textbf{Time:}                       &     14:10:03     & \\textbf{  Log-Likelihood:    } & -5.2708e+06  \\\\\n",
       "\\textbf{No. Observations:}           &     8978052      & \\textbf{  AIC:               } &  1.054e+07   \\\\\n",
       "\\textbf{Df Residuals:}               &     8978048      & \\textbf{  BIC:               } &  1.054e+07   \\\\\n",
       "\\textbf{Df Model:}                   &           3      & \\textbf{                     } &              \\\\\n",
       "\\textbf{Covariance Type:}            &    nonrobust     & \\textbf{                     } &              \\\\\n",
       "\\bottomrule\n",
       "\\end{tabular}\n",
       "\\begin{tabular}{lcccccc}\n",
       "                                     & \\textbf{coef} & \\textbf{std err} & \\textbf{t} & \\textbf{P$> |$t$|$} & \\textbf{[0.025} & \\textbf{0.975]}  \\\\\n",
       "\\midrule\n",
       "\\textbf{Intercept}                   &       0.3963  &        0.000     &  1213.021  &         0.000        &        0.396    &        0.397     \\\\\n",
       "\\textbf{group[T.trustworthy]}        &       0.0011  &        0.000     &     2.880  &         0.004        &        0.000    &        0.002     \\\\\n",
       "\\textbf{group[T.untrustworthy]}      &       0.0207  &        0.001     &    15.279  &         0.000        &        0.018    &        0.023     \\\\\n",
       "\\textbf{group[T.avg\\_untrustworthy]} &       0.0319  &        0.002     &    17.294  &         0.000        &        0.028    &        0.036     \\\\\n",
       "\\bottomrule\n",
       "\\end{tabular}\n",
       "\\begin{tabular}{lclc}\n",
       "\\textbf{Omnibus:}       & 39557926.063 & \\textbf{  Durbin-Watson:     } &      1.746   \\\\\n",
       "\\textbf{Prob(Omnibus):} &     0.000    & \\textbf{  Jarque-Bera (JB):  } & 1316744.910  \\\\\n",
       "\\textbf{Skew:}          &     0.415    & \\textbf{  Prob(JB):          } &       0.00   \\\\\n",
       "\\textbf{Kurtosis:}      &     1.318    & \\textbf{  Cond. No.          } &       16.5   \\\\\n",
       "\\bottomrule\n",
       "\\end{tabular}\n",
       "%\\caption{OLS Regression Results}\n",
       "\\end{center}\n",
       "\n",
       "Notes: \\newline\n",
       " [1] Standard Errors assume that the covariance matrix of the errors is correctly specified."
      ],
      "text/plain": [
       "<class 'statsmodels.iolib.summary.Summary'>\n",
       "\"\"\"\n",
       "                            OLS Regression Results                            \n",
       "==============================================================================\n",
       "Dep. Variable:                  anger   R-squared:                       0.000\n",
       "Model:                            OLS   Adj. R-squared:                  0.000\n",
       "Method:                 Least Squares   F-statistic:                     173.3\n",
       "Date:                Tue, 04 Feb 2025   Prob (F-statistic):          2.31e-112\n",
       "Time:                        14:10:03   Log-Likelihood:            -5.2708e+06\n",
       "No. Observations:             8978052   AIC:                         1.054e+07\n",
       "Df Residuals:                 8978048   BIC:                         1.054e+07\n",
       "Df Model:                           3                                         \n",
       "Covariance Type:            nonrobust                                         \n",
       "==============================================================================================\n",
       "                                 coef    std err          t      P>|t|      [0.025      0.975]\n",
       "----------------------------------------------------------------------------------------------\n",
       "Intercept                      0.3963      0.000   1213.021      0.000       0.396       0.397\n",
       "group[T.trustworthy]           0.0011      0.000      2.880      0.004       0.000       0.002\n",
       "group[T.untrustworthy]         0.0207      0.001     15.279      0.000       0.018       0.023\n",
       "group[T.avg_untrustworthy]     0.0319      0.002     17.294      0.000       0.028       0.036\n",
       "==============================================================================\n",
       "Omnibus:                 39557926.063   Durbin-Watson:                   1.746\n",
       "Prob(Omnibus):                  0.000   Jarque-Bera (JB):          1316744.910\n",
       "Skew:                           0.415   Prob(JB):                         0.00\n",
       "Kurtosis:                       1.318   Cond. No.                         16.5\n",
       "==============================================================================\n",
       "\n",
       "Notes:\n",
       "[1] Standard Errors assume that the covariance matrix of the errors is correctly specified.\n",
       "\"\"\""
      ]
     },
     "execution_count": 82,
     "metadata": {},
     "output_type": "execute_result"
    }
   ],
   "source": [
    "# run a regression model with anger as dependent variable\n",
    "# and group as independent variable\n",
    "group_users_tweets['group'] = pd.Categorical(\n",
    "    group_users_tweets['group'],\n",
    "    categories=['random', 'trustworthy', 'untrustworthy', 'avg_untrustworthy'],\n",
    "    ordered=True\n",
    ")\n",
    "\n",
    "model = smf.ols(\"anger ~ group\", data=group_users_tweets).fit()\n",
    "model.summary()"
   ]
  },
  {
   "cell_type": "code",
   "execution_count": 83,
   "metadata": {},
   "outputs": [],
   "source": [
    "# extract the coefficients and save them for plotting\n",
    "coefs = model.params\n",
    "lower_ci = model.conf_int()[0]\n",
    "upper_ci = model.conf_int()[1]"
   ]
  },
  {
   "cell_type": "code",
   "execution_count": 84,
   "metadata": {},
   "outputs": [],
   "source": [
    "predictions = model.predict(group_users_tweets)\n",
    "residuals = model.resid"
   ]
  },
  {
   "cell_type": "code",
   "execution_count": 85,
   "metadata": {},
   "outputs": [
    {
     "data": {
      "image/png": "[encoded data removed]",
      "text/plain": [
       "<Figure size 450x300 with 1 Axes>"
      ]
     },
     "metadata": {},
     "output_type": "display_data"
    }
   ],
   "source": [
    "group_users_tweets[\"residuals\"] = residuals\n",
    "\n",
    "plt.figure(figsize=(4.5, 3))\n",
    "sns.boxplot(x=\"group\", y=\"residuals\", data=group_users_tweets)\n",
    "plt.axhline(0, color=\"red\", linestyle=\"--\")\n",
    "plt.xlabel(\"Group\", fontsize=8)\n",
    "plt.ylabel(\"Residuals\", fontsize=8)\n",
    "plt.tick_params(axis='both', which='major', labelsize=7)\n",
    "custom_plots()\n",
    "plt.show()"
   ]
  },
  {
   "cell_type": "code",
   "execution_count": 86,
   "metadata": {},
   "outputs": [
    {
     "data": {
      "image/png": "[encoded data removed]",
      "text/plain": [
       "<Figure size 450x300 with 1 Axes>"
      ]
     },
     "metadata": {},
     "output_type": "display_data"
    }
   ],
   "source": [
    "group_users_tweets[\"predicted\"] = predictions\n",
    "\n",
    "group_pred_stats = group_users_tweets.groupby(\"group\")[\"predicted\"].agg([\"mean\", \"std\", \"count\"]).reset_index()\n",
    "group_pred_stats[\"sem\"] = group_pred_stats[\"std\"] / group_pred_stats[\"count\"] ** 0.5 \n",
    "\n",
    "plt.figure(figsize=(4.5, 3))\n",
    "plt.bar(group_pred_stats[\"group\"], group_pred_stats[\"mean\"], yerr=group_pred_stats[\"sem\"], capsize=5, alpha=0.7)\n",
    "plt.xlabel(\"Group\", fontsize=8)\n",
    "plt.ylabel(\"Predicted values\", fontsize=8)\n",
    "plt.tick_params(axis='both', which='major', labelsize=7)\n",
    "custom_plots()\n",
    "plt.show()"
   ]
  },
  {
   "cell_type": "code",
   "execution_count": 87,
   "metadata": {},
   "outputs": [
    {
     "data": {
      "image/png": "[encoded data removed]",
      "text/plain": [
       "<Figure size 250x300 with 4 Axes>"
      ]
     },
     "metadata": {},
     "output_type": "display_data"
    }
   ],
   "source": [
    "group_colors = {\"trustworthy\": \"#1b9e77\", \n",
    "                \"untrustworthy\": \"#7570b3\", \n",
    "                \"avg_untrustworthy\": \"#d95f02\",\n",
    "                \"random\": \"grey\"}\n",
    "group_labels = list(group_colors.keys())\n",
    "\n",
    "fig, axes = plt.subplots(\n",
    "    len(group_labels), 1, \n",
    "    figsize=(2.5, 3), \n",
    "    sharex=True)\n",
    "\n",
    "for i, (group, color) in enumerate(group_colors.items()):\n",
    "    group_data = all_activity_agg[all_activity_agg['group'] == group]['anger_user']  \n",
    "    avg_value = group_data.mean()  \n",
    "\n",
    "\n",
    "    kde = gaussian_kde(group_data)\n",
    "    x_vals = np.linspace(group_data.min(), group_data.max(), 1000)\n",
    "    density_vals = kde(x_vals)\n",
    "\n",
    "    sns.kdeplot(group_data, color=color, ax=axes[i], fill=True, alpha=0.6)\n",
    "\n",
    "    # Find the height of the density curve at the mean\n",
    "    density_at_mean = kde(avg_value)\n",
    "\n",
    "    axes[i].vlines(\n",
    "        avg_value, \n",
    "        ymin=0, \n",
    "        ymax=density_at_mean, \n",
    "        color=color, \n",
    "        linestyle=\"--\", \n",
    "        linewidth=1.5\n",
    "    )\n",
    "    \n",
    "    axes[i].set_title(\n",
    "        f\"{group.capitalize()} \\n N={len(group_data)}, M={avg_value:.2f}\", \n",
    "            fontsize=7,\n",
    "            x=0.77,\n",
    "            y=0.55)\n",
    "    axes[i].set_ylabel(\"\", fontsize=10)\n",
    "    custom_plots(axes[i])\n",
    "    axes[i].set_yticks([])\n",
    "    axes[i].set_yticklabels([])\n",
    "    axes[i].spines['left'].set_visible(False)\n",
    "\n",
    "\n",
    "axes[-1].set_xlabel(\"Anger\", fontsize=8)\n",
    "axes[-1].tick_params(axis='both', which='major', labelsize=7)\n",
    "\n",
    "plt.tight_layout(w_pad=0, h_pad=0) \n",
    "\n",
    "plt.savefig(join(PAPER_DIR, \"figures\", \"anger_user_groups.pdf\"), dpi=300)\n",
    "\n",
    "plt.show()"
   ]
  },
  {
   "cell_type": "code",
   "execution_count": 88,
   "metadata": {},
   "outputs": [],
   "source": [
    "# save the data as csv\n",
    "all_activity_agg.to_csv(join(DIR, \"user_activity_agg.csv\"), index=False)"
   ]
  }
 ],
 "metadata": {
  "kernelspec": {
   "display_name": "twarcing-empty",
   "language": "python",
   "name": "python3"
  },
  "language_info": {
   "codemirror_mode": {
    "name": "ipython",
    "version": 3
   },
   "file_extension": ".py",
   "mimetype": "text/x-python",
   "name": "python",
   "nbconvert_exporter": "python",
   "pygments_lexer": "ipython3",
   "version": "3.9.15"
  }
 },
 "nbformat": 4,
 "nbformat_minor": 2
}
