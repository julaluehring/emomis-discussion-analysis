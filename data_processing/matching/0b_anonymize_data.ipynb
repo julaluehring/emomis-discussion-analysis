{
 "cells": [
  {
   "cell_type": "code",
   "execution_count": 4,
   "metadata": {},
   "outputs": [],
   "source": [
    "import pandas as pd\n",
    "import os\n",
    "from os.path import join\n",
    "import pickle as pkl\n",
    "import numpy as np\n",
    "import shutil\n",
    "np.random.seed(636) "
   ]
  },
  {
   "cell_type": "code",
   "execution_count": 5,
   "metadata": {},
   "outputs": [],
   "source": [
    "src = '/raid5pool/tank/luehring/german_newsguard_tweets/discussions/'\n",
    "dst = '../data/'\n",
    "\n",
    "if not os.path.exists(dst):\n",
    "    os.makedirs(dst)"
   ]
  },
  {
   "cell_type": "code",
   "execution_count": 6,
   "metadata": {},
   "outputs": [],
   "source": [
    "with open(join(src, \"../dtypes_config.pickle\"), \"rb\") as file:\n",
    "    DTYPES = pkl.load(file)\n",
    "    \n",
    "with open(join(dst, \"dtypes_config.pickle\"), \"wb\") as file:\n",
    "    pkl.dump(DTYPES, file)"
   ]
  },
  {
   "cell_type": "code",
   "execution_count": 7,
   "metadata": {},
   "outputs": [],
   "source": [
    "authors = pd.read_csv(join(src, \n",
    "                      \"../german_newsguard_tweets_inference.csv.gz\"),\n",
    "                 usecols=[\"author_id\"],\n",
    "                 compression=\"gzip\",\n",
    "                 dtype=DTYPES)"
   ]
  },
  {
   "cell_type": "code",
   "execution_count": 8,
   "metadata": {},
   "outputs": [],
   "source": [
    "# extract unique author ids\n",
    "unique_ids = authors['author_id'].unique()\n",
    "\n",
    "# generate a random number for each unique author_id\n",
    "random_ids = np.random.randint(1e6, 1e7, size=len(unique_ids))  \n",
    "\n",
    "# create a mapping\n",
    "id_map = dict(zip(unique_ids, random_ids))"
   ]
  },
  {
   "cell_type": "code",
   "execution_count": 9,
   "metadata": {},
   "outputs": [
    {
     "data": {
      "text/plain": [
       "Index(['conversation_id', 'id', 'author_id', 'created_at', 'text',\n",
       "       'reply_count', 'retweet_count', 'quote_count', 'like_count',\n",
       "       'author.followers_count', 'author.following_count',\n",
       "       'author.tweet_count', 'Rating', 'anger', 'fear', 'disgust', 'sadness',\n",
       "       'joy', 'pride', 'hope', 'type', 'status', 'Orientation', 'step'],\n",
       "      dtype='object')"
      ]
     },
     "execution_count": 9,
     "metadata": {},
     "output_type": "execute_result"
    }
   ],
   "source": [
    "replies = pd.read_csv(join(src, 'discussions_replies.csv.gz'),\n",
    "                          dtype=DTYPES)\\\n",
    "                          .drop(columns=[\n",
    "                                'domain',\n",
    "                                'Score',\n",
    "                                'enthusiasm',\n",
    "                                'out'])\n",
    "replies.columns"
   ]
  },
  {
   "cell_type": "code",
   "execution_count": 10,
   "metadata": {},
   "outputs": [],
   "source": [
    "replies['author_id'] = replies['author_id'].map(id_map)\n",
    "replies.to_csv(join(dst, 'discussions_replies.csv.gz'), \n",
    "               compression='gzip',\n",
    "               index=False)"
   ]
  },
  {
   "cell_type": "code",
   "execution_count": 11,
   "metadata": {},
   "outputs": [
    {
     "data": {
      "text/html": [
       "<div>\n",
       "<style scoped>\n",
       "    .dataframe tbody tr th:only-of-type {\n",
       "        vertical-align: middle;\n",
       "    }\n",
       "\n",
       "    .dataframe tbody tr th {\n",
       "        vertical-align: top;\n",
       "    }\n",
       "\n",
       "    .dataframe thead th {\n",
       "        text-align: right;\n",
       "    }\n",
       "</style>\n",
       "<table border=\"1\" class=\"dataframe\">\n",
       "  <thead>\n",
       "    <tr style=\"text-align: right;\">\n",
       "      <th></th>\n",
       "      <th>conversation_id</th>\n",
       "      <th>id</th>\n",
       "      <th>author_id</th>\n",
       "      <th>created_at</th>\n",
       "      <th>text</th>\n",
       "      <th>reply_count</th>\n",
       "      <th>retweet_count</th>\n",
       "      <th>quote_count</th>\n",
       "      <th>like_count</th>\n",
       "      <th>author.followers_count</th>\n",
       "      <th>...</th>\n",
       "      <th>fear</th>\n",
       "      <th>disgust</th>\n",
       "      <th>sadness</th>\n",
       "      <th>joy</th>\n",
       "      <th>pride</th>\n",
       "      <th>hope</th>\n",
       "      <th>type</th>\n",
       "      <th>status</th>\n",
       "      <th>Orientation</th>\n",
       "      <th>step</th>\n",
       "    </tr>\n",
       "  </thead>\n",
       "  <tbody>\n",
       "    <tr>\n",
       "      <th>0</th>\n",
       "      <td>1329656998665875456</td>\n",
       "      <td>1329656998665875456</td>\n",
       "      <td>9886687</td>\n",
       "      <td>2020-11-20 05:25:06+00:00</td>\n",
       "      <td>Die Senatsverwaltung für Gesundheit (Berlin)ha...</td>\n",
       "      <td>1.0</td>\n",
       "      <td>0.0</td>\n",
       "      <td>0.0</td>\n",
       "      <td>0.0</td>\n",
       "      <td>2482.0</td>\n",
       "      <td>...</td>\n",
       "      <td>0.000651</td>\n",
       "      <td>0.000588</td>\n",
       "      <td>0.000619</td>\n",
       "      <td>0.001609</td>\n",
       "      <td>0.000714</td>\n",
       "      <td>0.001604</td>\n",
       "      <td>starter</td>\n",
       "      <td>complete</td>\n",
       "      <td>Neutral</td>\n",
       "      <td>domain</td>\n",
       "    </tr>\n",
       "    <tr>\n",
       "      <th>1</th>\n",
       "      <td>1314839315390791680</td>\n",
       "      <td>1315345060393820160</td>\n",
       "      <td>4020666</td>\n",
       "      <td>2020-10-11 17:34:34+00:00</td>\n",
       "      <td>@JohannkuPeter Heute gab es noch gar kein Wied...</td>\n",
       "      <td>0.0</td>\n",
       "      <td>0.0</td>\n",
       "      <td>0.0</td>\n",
       "      <td>0.0</td>\n",
       "      <td>28.0</td>\n",
       "      <td>...</td>\n",
       "      <td>0.000524</td>\n",
       "      <td>0.000639</td>\n",
       "      <td>0.000698</td>\n",
       "      <td>0.001513</td>\n",
       "      <td>0.000732</td>\n",
       "      <td>0.000496</td>\n",
       "      <td>reply</td>\n",
       "      <td>complete</td>\n",
       "      <td>NaN</td>\n",
       "      <td>conversation</td>\n",
       "    </tr>\n",
       "    <tr>\n",
       "      <th>2</th>\n",
       "      <td>1314839315390791680</td>\n",
       "      <td>1314839315390791680</td>\n",
       "      <td>2992778</td>\n",
       "      <td>2020-10-10 08:04:55+00:00</td>\n",
       "      <td>Diese Kinder erleben die Hölle auf Erden, dami...</td>\n",
       "      <td>2.0</td>\n",
       "      <td>0.0</td>\n",
       "      <td>0.0</td>\n",
       "      <td>0.0</td>\n",
       "      <td>347.0</td>\n",
       "      <td>...</td>\n",
       "      <td>0.003225</td>\n",
       "      <td>0.148451</td>\n",
       "      <td>0.066498</td>\n",
       "      <td>0.002586</td>\n",
       "      <td>0.000809</td>\n",
       "      <td>0.000494</td>\n",
       "      <td>starter</td>\n",
       "      <td>complete</td>\n",
       "      <td>Neutral</td>\n",
       "      <td>domain</td>\n",
       "    </tr>\n",
       "    <tr>\n",
       "      <th>3</th>\n",
       "      <td>1344383527215894528</td>\n",
       "      <td>1344393284244955144</td>\n",
       "      <td>4351154</td>\n",
       "      <td>2020-12-30 21:21:51+00:00</td>\n",
       "      <td>@mariomayl @FrauNicoleHB Fortsetzung folgt???\\...</td>\n",
       "      <td>0.0</td>\n",
       "      <td>0.0</td>\n",
       "      <td>0.0</td>\n",
       "      <td>1.0</td>\n",
       "      <td>335.0</td>\n",
       "      <td>...</td>\n",
       "      <td>0.002064</td>\n",
       "      <td>0.000634</td>\n",
       "      <td>0.000560</td>\n",
       "      <td>0.000798</td>\n",
       "      <td>0.000559</td>\n",
       "      <td>0.000647</td>\n",
       "      <td>reply</td>\n",
       "      <td>complete</td>\n",
       "      <td>Neutral</td>\n",
       "      <td>domain</td>\n",
       "    </tr>\n",
       "    <tr>\n",
       "      <th>4</th>\n",
       "      <td>1344383527215894528</td>\n",
       "      <td>1344900437028327425</td>\n",
       "      <td>4757373</td>\n",
       "      <td>2021-01-01 06:57:05+00:00</td>\n",
       "      <td>@mariomayl Von den armen Kindern die unbegleit...</td>\n",
       "      <td>0.0</td>\n",
       "      <td>0.0</td>\n",
       "      <td>0.0</td>\n",
       "      <td>0.0</td>\n",
       "      <td>379.0</td>\n",
       "      <td>...</td>\n",
       "      <td>0.010429</td>\n",
       "      <td>0.050090</td>\n",
       "      <td>0.924006</td>\n",
       "      <td>0.006543</td>\n",
       "      <td>0.003962</td>\n",
       "      <td>0.004546</td>\n",
       "      <td>reply</td>\n",
       "      <td>complete</td>\n",
       "      <td>NaN</td>\n",
       "      <td>conversation</td>\n",
       "    </tr>\n",
       "  </tbody>\n",
       "</table>\n",
       "<p>5 rows × 24 columns</p>\n",
       "</div>"
      ],
      "text/plain": [
       "       conversation_id                   id  author_id  \\\n",
       "0  1329656998665875456  1329656998665875456    9886687   \n",
       "1  1314839315390791680  1315345060393820160    4020666   \n",
       "2  1314839315390791680  1314839315390791680    2992778   \n",
       "3  1344383527215894528  1344393284244955144    4351154   \n",
       "4  1344383527215894528  1344900437028327425    4757373   \n",
       "\n",
       "                  created_at  \\\n",
       "0  2020-11-20 05:25:06+00:00   \n",
       "1  2020-10-11 17:34:34+00:00   \n",
       "2  2020-10-10 08:04:55+00:00   \n",
       "3  2020-12-30 21:21:51+00:00   \n",
       "4  2021-01-01 06:57:05+00:00   \n",
       "\n",
       "                                                text  reply_count  \\\n",
       "0  Die Senatsverwaltung für Gesundheit (Berlin)ha...          1.0   \n",
       "1  @JohannkuPeter Heute gab es noch gar kein Wied...          0.0   \n",
       "2  Diese Kinder erleben die Hölle auf Erden, dami...          2.0   \n",
       "3  @mariomayl @FrauNicoleHB Fortsetzung folgt???\\...          0.0   \n",
       "4  @mariomayl Von den armen Kindern die unbegleit...          0.0   \n",
       "\n",
       "   retweet_count  quote_count  like_count  author.followers_count  ...  \\\n",
       "0            0.0          0.0         0.0                  2482.0  ...   \n",
       "1            0.0          0.0         0.0                    28.0  ...   \n",
       "2            0.0          0.0         0.0                   347.0  ...   \n",
       "3            0.0          0.0         1.0                   335.0  ...   \n",
       "4            0.0          0.0         0.0                   379.0  ...   \n",
       "\n",
       "       fear   disgust   sadness       joy     pride      hope     type  \\\n",
       "0  0.000651  0.000588  0.000619  0.001609  0.000714  0.001604  starter   \n",
       "1  0.000524  0.000639  0.000698  0.001513  0.000732  0.000496    reply   \n",
       "2  0.003225  0.148451  0.066498  0.002586  0.000809  0.000494  starter   \n",
       "3  0.002064  0.000634  0.000560  0.000798  0.000559  0.000647    reply   \n",
       "4  0.010429  0.050090  0.924006  0.006543  0.003962  0.004546    reply   \n",
       "\n",
       "     status  Orientation          step  \n",
       "0  complete      Neutral        domain  \n",
       "1  complete          NaN  conversation  \n",
       "2  complete      Neutral        domain  \n",
       "3  complete      Neutral        domain  \n",
       "4  complete          NaN  conversation  \n",
       "\n",
       "[5 rows x 24 columns]"
      ]
     },
     "execution_count": 11,
     "metadata": {},
     "output_type": "execute_result"
    }
   ],
   "source": [
    "replies.head(5)"
   ]
  },
  {
   "cell_type": "code",
   "execution_count": 12,
   "metadata": {},
   "outputs": [
    {
     "data": {
      "text/plain": [
       "Index(['conversation_id', 'id', 'author_id', 'created_at', 'text',\n",
       "       'reply_count', 'retweet_count', 'quote_count', 'like_count',\n",
       "       'author.followers_count', 'author.following_count',\n",
       "       'author.tweet_count', 'Rating', 'anger', 'fear', 'disgust', 'sadness',\n",
       "       'joy', 'pride', 'hope', 'type', 'status', 'Orientation', 'step'],\n",
       "      dtype='object')"
      ]
     },
     "execution_count": 12,
     "metadata": {},
     "output_type": "execute_result"
    }
   ],
   "source": [
    "replies.columns"
   ]
  },
  {
   "cell_type": "code",
   "execution_count": 13,
   "metadata": {},
   "outputs": [
    {
     "data": {
      "text/plain": [
       "Index(['conversation_id', 'author_id', 'created_at', 'author.followers_count',\n",
       "       'author.following_count', 'author.tweet_count', 'Rating', 'anger',\n",
       "       'fear', 'disgust', 'sadness', 'joy', 'pride', 'hope', 'Orientation',\n",
       "       'word_count', 'word_count_log', 'author.tweet_count_log',\n",
       "       'author.followers_count_log', 'author.following_count_log', 'anger_log',\n",
       "       'fear_log', 'disgust_log', 'sadness_log', 'joy_log', 'pride_log',\n",
       "       'hope_log', 'anger_avg', 'fear_avg', 'disgust_avg', 'sadness_avg',\n",
       "       'joy_avg', 'pride_avg', 'hope_avg', 'author.tweet_count_avg',\n",
       "       'author.tweet_count_avg_log', 'time_diff', 'time_diff_log', 'weights',\n",
       "       'subclass'],\n",
       "      dtype='object')"
      ]
     },
     "execution_count": 13,
     "metadata": {},
     "output_type": "execute_result"
    }
   ],
   "source": [
    "replies_matched = pd.read_csv(join(src, 'matched_replies_mahalanobis_log_bias.csv'),\n",
    "                          dtype=DTYPES)\\\n",
    "                          .drop(columns=[\n",
    "                                        'Unnamed: 0', \n",
    "                                        'domain', \n",
    "                                        'Score'])\n",
    "replies_matched.columns"
   ]
  },
  {
   "cell_type": "code",
   "execution_count": 14,
   "metadata": {},
   "outputs": [],
   "source": [
    "replies_matched['author_id'] = replies_matched['author_id'].map(id_map)\n",
    "\n",
    "replies_matched.to_csv(join(dst, 'matched_replies_mahalanobis.csv'), index=False)"
   ]
  },
  {
   "cell_type": "code",
   "execution_count": 15,
   "metadata": {},
   "outputs": [
    {
     "data": {
      "text/plain": [
       "Index(['conversation_id', 'author_id', 'created_at', 'author.followers_count',\n",
       "       'author.following_count', 'author.tweet_count', 'Rating', 'anger',\n",
       "       'fear', 'disgust', 'sadness', 'joy', 'pride', 'hope', 'Orientation',\n",
       "       'word_count', 'word_count_log', 'author.tweet_count_log',\n",
       "       'author.followers_count_log', 'author.following_count_log', 'anger_log',\n",
       "       'fear_log', 'disgust_log', 'sadness_log', 'joy_log', 'pride_log',\n",
       "       'hope_log', 'id', 'first_author_id', 'anger_first', 'fear_first',\n",
       "       'disgust_first', 'sadness_first', 'joy_first', 'pride_first',\n",
       "       'hope_first', 'author.tweet_count_first',\n",
       "       'author.tweet_count_first_log', 'weights', 'subclass'],\n",
       "      dtype='object')"
      ]
     },
     "execution_count": 15,
     "metadata": {},
     "output_type": "execute_result"
    }
   ],
   "source": [
    "first_replies = pd.read_csv(join(src, \n",
    "                                 'matched_replies_first_mahalanobis_log_bias.csv'),\n",
    "                          dtype=DTYPES)\\\n",
    "                          .drop(columns=[\n",
    "                              'Unnamed: 0',\n",
    "                              'domain', 'Score'])    \n",
    "first_replies.columns"
   ]
  },
  {
   "cell_type": "code",
   "execution_count": null,
   "metadata": {},
   "outputs": [],
   "source": [
    "first_replies['author_id'] = first_replies['author_id'].map(id_map)\n",
    "\n",
    "first_replies.to_csv(join(dst, 'matched_first_replies_mahalanobis.csv'), index=False)"
   ]
  },
  {
   "cell_type": "code",
   "execution_count": 17,
   "metadata": {},
   "outputs": [
    {
     "data": {
      "text/plain": [
       "Index(['id', 'conversation_id', 'author_id', 'created_at', 'reply_count',\n",
       "       'retweet_count', 'quote_count', 'like_count', 'author.followers_count',\n",
       "       'author.following_count', 'author.tweet_count', 'Rating', 'anger',\n",
       "       'fear', 'disgust', 'sadness', 'joy', 'pride', 'hope', 'type', 'status',\n",
       "       'Orientation', 'step'],\n",
       "      dtype='object')"
      ]
     },
     "execution_count": 17,
     "metadata": {},
     "output_type": "execute_result"
    }
   ],
   "source": [
    "starters = pd.read_csv(join(src, 'discussions_starters.csv.gz'),\n",
    "                          dtype=DTYPES)\\\n",
    "                          .drop(columns=[\n",
    "                              'domain', 'text',\n",
    "                              'enthusiasm', 'out',\n",
    "                              'Score'])    \n",
    "starters.columns"
   ]
  },
  {
   "cell_type": "code",
   "execution_count": 18,
   "metadata": {},
   "outputs": [],
   "source": [
    "starters['author_id'] = starters['author_id'].map(id_map)\n",
    "starters.to_csv(join(dst, 'discussions_starters.csv.gz'), \n",
    "                compression='gzip',\n",
    "                index=False)"
   ]
  },
  {
   "cell_type": "code",
   "execution_count": 19,
   "metadata": {},
   "outputs": [
    {
     "data": {
      "text/plain": [
       "Index(['id', 'author_id', 'created_at', 'reply_count', 'retweet_count',\n",
       "       'quote_count', 'like_count', 'author.followers_count',\n",
       "       'author.following_count', 'author.tweet_count', 'Rating', 'anger',\n",
       "       'fear', 'disgust', 'sadness', 'joy', 'pride', 'hope', 'Orientation',\n",
       "       'word_count', 'word_count_log', 'author.tweet_count_log',\n",
       "       'author.followers_count_log', 'author.following_count_log', 'anger_log',\n",
       "       'fear_log', 'disgust_log', 'sadness_log', 'joy_log', 'pride_log',\n",
       "       'hope_log', 'weights', 'subclass'],\n",
       "      dtype='object')"
      ]
     },
     "execution_count": 19,
     "metadata": {},
     "output_type": "execute_result"
    }
   ],
   "source": [
    "matched_starters = pd.read_csv(join(src, \n",
    "                            'matched_starters_mahalanobis_log_bias.csv'),\n",
    "                          dtype=DTYPES)\\\n",
    "                          .drop(columns=[\n",
    "                                        'Unnamed: 0', \n",
    "                                        'domain', \n",
    "                                        'Score'])\n",
    "\n",
    "matched_starters.columns"
   ]
  },
  {
   "cell_type": "code",
   "execution_count": 20,
   "metadata": {},
   "outputs": [],
   "source": [
    "matched_starters['author_id'] = matched_starters['author_id'].map(id_map)\n",
    "\n",
    "starters.to_csv(join(dst, 'matched_starters_mahalanobis.csv'), index=False)"
   ]
  },
  {
   "cell_type": "code",
   "execution_count": 21,
   "metadata": {},
   "outputs": [
    {
     "data": {
      "text/plain": [
       "Index(['conversation_id', 'same_author_id', 'created_at',\n",
       "       'author.followers_count', 'author.following_count',\n",
       "       'same_author.tweet_count', 'Rating', 'anger', 'fear', 'disgust',\n",
       "       'sadness', 'joy', 'pride', 'hope', 'Orientation', 'word_count',\n",
       "       'word_count_log', 'author.tweet_count_log',\n",
       "       'author.followers_count_log', 'author.following_count_log', 'anger_log',\n",
       "       'fear_log', 'disgust_log', 'sadness_log', 'joy_log', 'pride_log',\n",
       "       'hope_log', 'same_id', 'first_author_id', 'anger_first', 'fear_first',\n",
       "       'disgust_first', 'sadness_first', 'joy_first', 'pride_first',\n",
       "       'hope_first', 'author.tweet_count_first',\n",
       "       'author.tweet_count_first_log'],\n",
       "      dtype='object')"
      ]
     },
     "execution_count": 21,
     "metadata": {},
     "output_type": "execute_result"
    }
   ],
   "source": [
    "same_replies = pd.read_csv(\n",
    "    join(src, \"same_replies_aggregates_one.csv\"), dtype=DTYPES)\\\n",
    "    .drop(columns=['domain', 'Score'])\n",
    "same_replies.columns"
   ]
  },
  {
   "cell_type": "code",
   "execution_count": 22,
   "metadata": {},
   "outputs": [],
   "source": [
    "same_replies['same_author_id'] = same_replies['same_author_id'].map(id_map)\n",
    "same_replies.to_csv(join(dst, 'same_author_replies.csv'), index=False)"
   ]
  },
  {
   "cell_type": "code",
   "execution_count": null,
   "metadata": {},
   "outputs": [
    {
     "data": {
      "text/plain": [
       "'/home/luehring/emomis-discussion-analysis/data_processing/data.zip'"
      ]
     },
     "execution_count": 23,
     "metadata": {},
     "output_type": "execute_result"
    }
   ],
   "source": [
    "# zip the data/ directory as data.zip\n",
    "shutil.make_archive('./data', 'zip', '.') "
   ]
  }
 ],
 "metadata": {
  "kernelspec": {
   "display_name": "twarcing-empty",
   "language": "python",
   "name": "python3"
  },
  "language_info": {
   "codemirror_mode": {
    "name": "ipython",
    "version": 3
   },
   "file_extension": ".py",
   "mimetype": "text/x-python",
   "name": "python",
   "nbconvert_exporter": "python",
   "pygments_lexer": "ipython3",
   "version": "3.9.15"
  }
 },
 "nbformat": 4,
 "nbformat_minor": 2
}
