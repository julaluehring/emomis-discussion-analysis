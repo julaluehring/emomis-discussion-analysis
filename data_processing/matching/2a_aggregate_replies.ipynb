{
 "cells": [
  {
   "cell_type": "code",
   "execution_count": 1,
   "metadata": {},
   "outputs": [],
   "source": [
    "import pandas as pd\n",
    "from os.path import join\n",
    "import numpy as np\n",
    "import matplotlib.pyplot as plt\n",
    "import pickle\n",
    "\n",
    "# full numbers\n",
    "pd.set_option('display.float_format', lambda x: '%.3f' % x)"
   ]
  },
  {
   "cell_type": "code",
   "execution_count": null,
   "metadata": {},
   "outputs": [],
   "source": [
    "# standardize plots\n",
    "def custom_plots(ax=None):\n",
    "    if ax is None:\n",
    "        ax = plt.gca()\n",
    "    ax.grid(False)\n",
    "    ax.spines[\"bottom\"].set_color(\"black\")\n",
    "    ax.spines[\"left\"].set_color(\"black\")\n",
    "    ax.spines[\"top\"].set_visible(False)\n",
    "    ax.spines[\"right\"].set_visible(False)\n",
    "    plt.gca().yaxis.set_ticks_position('left')\n",
    "    plt.gca().xaxis.set_ticks_position('bottom')\n",
    "    #size of labels\n",
    "    plt.xticks(fontsize=12)\n",
    "    plt.yticks(fontsize=12)\n",
    "    #size of title\n",
    "    plt.title(ax.get_title(), fontsize=16)\n",
    "    #size of legend"
   ]
  },
  {
   "cell_type": "code",
   "execution_count": 4,
   "metadata": {},
   "outputs": [],
   "source": [
    "src = \"../../data/\"\n",
    "with open(join(src, \"dtypes_config.pickle\"), \"rb\") as file:\n",
    "    DTYPES = pickle.load(file)"
   ]
  },
  {
   "cell_type": "code",
   "execution_count": 6,
   "metadata": {},
   "outputs": [
    {
     "data": {
      "text/plain": [
       "11751469"
      ]
     },
     "execution_count": 6,
     "metadata": {},
     "output_type": "execute_result"
    }
   ],
   "source": [
    "df = pd.read_csv(join(src, \n",
    "                      \"discussions_replies.csv.gz\"), # excluding zero-replies\n",
    "                         compression=\"gzip\",\n",
    "                         usecols=[\n",
    "                             # tweet information\n",
    "                              \"id\", \n",
    "                              \"created_at\",\n",
    "                              \"type\",\n",
    "                              \"status\",\n",
    "                              \"conversation_id\", \n",
    "                              \"domain\",\n",
    "                              \"Rating\", \n",
    "                              \"Orientation\",\n",
    "\n",
    "                              # author information\n",
    "                              \"author_id\",\n",
    "                              \"author.followers_count\",\n",
    "                              \"author.following_count\",\n",
    "                              \"author.tweet_count\",\n",
    "\n",
    "                              # sentiment\n",
    "                              \"anger\", \"fear\", \"disgust\", \"sadness\",\n",
    "                              \"joy\", \"pride\", \"hope\"],\n",
    "                          dtype=DTYPES)\n",
    "\n",
    "len(df)"
   ]
  },
  {
   "cell_type": "code",
   "execution_count": 7,
   "metadata": {},
   "outputs": [
    {
     "data": {
      "text/plain": [
       "type\n",
       "reply      10831242\n",
       "starter      920227\n",
       "Name: count, dtype: int64"
      ]
     },
     "execution_count": 7,
     "metadata": {},
     "output_type": "execute_result"
    }
   ],
   "source": [
    "df[\"type\"].value_counts()"
   ]
  },
  {
   "cell_type": "code",
   "execution_count": 8,
   "metadata": {},
   "outputs": [
    {
     "data": {
      "text/plain": [
       "status\n",
       "complete    11751469\n",
       "Name: count, dtype: int64"
      ]
     },
     "execution_count": 8,
     "metadata": {},
     "output_type": "execute_result"
    }
   ],
   "source": [
    "df[\"status\"].value_counts()"
   ]
  },
  {
   "cell_type": "markdown",
   "metadata": {},
   "source": [
    "## Transform data"
   ]
  },
  {
   "cell_type": "markdown",
   "metadata": {},
   "source": [
    "### Orientation"
   ]
  },
  {
   "cell_type": "code",
   "execution_count": 9,
   "metadata": {},
   "outputs": [],
   "source": [
    "def recode_orientation(x):\n",
    "    if pd.isna(x):\n",
    "        return None\n",
    "    elif \"Neutral\" in x:\n",
    "        return 0\n",
    "    elif \"Right\" in x:\n",
    "        return 1\n",
    "    elif \"Left\" in x:\n",
    "        return -1\n",
    "    else:\n",
    "        return None\n",
    "    \n",
    "df[\"Bias\"] = \\\n",
    "    df[\"Orientation\"].apply(recode_orientation)"
   ]
  },
  {
   "cell_type": "markdown",
   "metadata": {},
   "source": [
    "### Rating"
   ]
  },
  {
   "cell_type": "code",
   "execution_count": 10,
   "metadata": {},
   "outputs": [],
   "source": [
    "def recode_rating(x):\n",
    "    if pd.isna(x):\n",
    "        return None\n",
    "    elif \"T\" in x:\n",
    "        return 0\n",
    "    elif \"N\" in x:\n",
    "        return 1\n",
    "    else:\n",
    "        return None\n",
    "    \n",
    "df[\"Rating\"] = \\\n",
    "    df[\"Rating\"]\\\n",
    "        .apply(recode_rating)"
   ]
  },
  {
   "cell_type": "markdown",
   "metadata": {},
   "source": [
    "## Aggregate data per starter vs reply"
   ]
  },
  {
   "cell_type": "markdown",
   "metadata": {},
   "source": [
    "## Starters"
   ]
  },
  {
   "cell_type": "code",
   "execution_count": 11,
   "metadata": {},
   "outputs": [
    {
     "data": {
      "text/plain": [
       "920227"
      ]
     },
     "execution_count": 11,
     "metadata": {},
     "output_type": "execute_result"
    }
   ],
   "source": [
    "df_starters = df[\n",
    "    df[\"type\"] == \"starter\"]\n",
    "len(df_starters)"
   ]
  },
  {
   "cell_type": "code",
   "execution_count": 12,
   "metadata": {},
   "outputs": [
    {
     "data": {
      "text/plain": [
       "3408"
      ]
     },
     "execution_count": 12,
     "metadata": {},
     "output_type": "execute_result"
    }
   ],
   "source": [
    "# how many missing values in Rating?\n",
    "df_starters[\"Rating\"].isna().sum()"
   ]
  },
  {
   "cell_type": "code",
   "execution_count": 13,
   "metadata": {},
   "outputs": [
    {
     "data": {
      "text/plain": [
       "916819"
      ]
     },
     "execution_count": 13,
     "metadata": {},
     "output_type": "execute_result"
    }
   ],
   "source": [
    "# drop missing values\n",
    "df_starters = df_starters.dropna(subset=[\"Rating\"])\n",
    "len(df_starters)"
   ]
  },
  {
   "cell_type": "code",
   "execution_count": 14,
   "metadata": {},
   "outputs": [
    {
     "data": {
      "text/plain": [
       "2873"
      ]
     },
     "execution_count": 14,
     "metadata": {},
     "output_type": "execute_result"
    }
   ],
   "source": [
    "# how many duplicated tweets?\n",
    "df_starters[\"conversation_id\"].duplicated().sum()"
   ]
  },
  {
   "cell_type": "code",
   "execution_count": 15,
   "metadata": {},
   "outputs": [
    {
     "data": {
      "text/plain": [
       "913946"
      ]
     },
     "execution_count": 15,
     "metadata": {},
     "output_type": "execute_result"
    }
   ],
   "source": [
    "# drop duplicates\n",
    "df_starters = df_starters.drop_duplicates(subset=[\"conversation_id\"])\n",
    "len(df_starters)"
   ]
  },
  {
   "cell_type": "code",
   "execution_count": 16,
   "metadata": {},
   "outputs": [
    {
     "ename": "KeyError",
     "evalue": "'text'",
     "output_type": "error",
     "traceback": [
      "\u001b[0;31m---------------------------------------------------------------------------\u001b[0m",
      "\u001b[0;31mKeyError\u001b[0m                                  Traceback (most recent call last)",
      "File \u001b[0;32m~/.conda/envs/twarcing-empty/lib/python3.9/site-packages/pandas/core/indexes/base.py:3812\u001b[0m, in \u001b[0;36mIndex.get_loc\u001b[0;34m(self, key)\u001b[0m\n\u001b[1;32m   3811\u001b[0m \u001b[38;5;28;01mtry\u001b[39;00m:\n\u001b[0;32m-> 3812\u001b[0m     \u001b[38;5;28;01mreturn\u001b[39;00m \u001b[38;5;28;43mself\u001b[39;49m\u001b[38;5;241;43m.\u001b[39;49m\u001b[43m_engine\u001b[49m\u001b[38;5;241;43m.\u001b[39;49m\u001b[43mget_loc\u001b[49m\u001b[43m(\u001b[49m\u001b[43mcasted_key\u001b[49m\u001b[43m)\u001b[49m\n\u001b[1;32m   3813\u001b[0m \u001b[38;5;28;01mexcept\u001b[39;00m \u001b[38;5;167;01mKeyError\u001b[39;00m \u001b[38;5;28;01mas\u001b[39;00m err:\n",
      "File \u001b[0;32mpandas/_libs/index.pyx:167\u001b[0m, in \u001b[0;36mpandas._libs.index.IndexEngine.get_loc\u001b[0;34m()\u001b[0m\n",
      "File \u001b[0;32mpandas/_libs/index.pyx:196\u001b[0m, in \u001b[0;36mpandas._libs.index.IndexEngine.get_loc\u001b[0;34m()\u001b[0m\n",
      "File \u001b[0;32mpandas/_libs/hashtable_class_helper.pxi:7088\u001b[0m, in \u001b[0;36mpandas._libs.hashtable.PyObjectHashTable.get_item\u001b[0;34m()\u001b[0m\n",
      "File \u001b[0;32mpandas/_libs/hashtable_class_helper.pxi:7096\u001b[0m, in \u001b[0;36mpandas._libs.hashtable.PyObjectHashTable.get_item\u001b[0;34m()\u001b[0m\n",
      "\u001b[0;31mKeyError\u001b[0m: 'text'",
      "\nThe above exception was the direct cause of the following exception:\n",
      "\u001b[0;31mKeyError\u001b[0m                                  Traceback (most recent call last)",
      "Cell \u001b[0;32mIn[16], line 3\u001b[0m\n\u001b[1;32m      1\u001b[0m \u001b[38;5;66;03m#calculate word count per initial tweet\u001b[39;00m\n\u001b[1;32m      2\u001b[0m df_starters[\u001b[38;5;124m\"\u001b[39m\u001b[38;5;124mword_count\u001b[39m\u001b[38;5;124m\"\u001b[39m] \u001b[38;5;241m=\u001b[39m \\\n\u001b[0;32m----> 3\u001b[0m     \u001b[43mdf_starters\u001b[49m\u001b[43m[\u001b[49m\u001b[38;5;124;43m\"\u001b[39;49m\u001b[38;5;124;43mtext\u001b[39;49m\u001b[38;5;124;43m\"\u001b[39;49m\u001b[43m]\u001b[49m\\\n\u001b[1;32m      4\u001b[0m         \u001b[38;5;241m.\u001b[39mapply(\u001b[38;5;28;01mlambda\u001b[39;00m x: \u001b[38;5;28mlen\u001b[39m(x\u001b[38;5;241m.\u001b[39msplit(\u001b[38;5;124m\"\u001b[39m\u001b[38;5;124m \u001b[39m\u001b[38;5;124m\"\u001b[39m)))\n\u001b[1;32m      6\u001b[0m df_starters[\u001b[38;5;124m\"\u001b[39m\u001b[38;5;124mword_count\u001b[39m\u001b[38;5;124m\"\u001b[39m]\u001b[38;5;241m.\u001b[39mdescribe()\n",
      "File \u001b[0;32m~/.conda/envs/twarcing-empty/lib/python3.9/site-packages/pandas/core/frame.py:4107\u001b[0m, in \u001b[0;36mDataFrame.__getitem__\u001b[0;34m(self, key)\u001b[0m\n\u001b[1;32m   4105\u001b[0m \u001b[38;5;28;01mif\u001b[39;00m \u001b[38;5;28mself\u001b[39m\u001b[38;5;241m.\u001b[39mcolumns\u001b[38;5;241m.\u001b[39mnlevels \u001b[38;5;241m>\u001b[39m \u001b[38;5;241m1\u001b[39m:\n\u001b[1;32m   4106\u001b[0m     \u001b[38;5;28;01mreturn\u001b[39;00m \u001b[38;5;28mself\u001b[39m\u001b[38;5;241m.\u001b[39m_getitem_multilevel(key)\n\u001b[0;32m-> 4107\u001b[0m indexer \u001b[38;5;241m=\u001b[39m \u001b[38;5;28;43mself\u001b[39;49m\u001b[38;5;241;43m.\u001b[39;49m\u001b[43mcolumns\u001b[49m\u001b[38;5;241;43m.\u001b[39;49m\u001b[43mget_loc\u001b[49m\u001b[43m(\u001b[49m\u001b[43mkey\u001b[49m\u001b[43m)\u001b[49m\n\u001b[1;32m   4108\u001b[0m \u001b[38;5;28;01mif\u001b[39;00m is_integer(indexer):\n\u001b[1;32m   4109\u001b[0m     indexer \u001b[38;5;241m=\u001b[39m [indexer]\n",
      "File \u001b[0;32m~/.conda/envs/twarcing-empty/lib/python3.9/site-packages/pandas/core/indexes/base.py:3819\u001b[0m, in \u001b[0;36mIndex.get_loc\u001b[0;34m(self, key)\u001b[0m\n\u001b[1;32m   3814\u001b[0m     \u001b[38;5;28;01mif\u001b[39;00m \u001b[38;5;28misinstance\u001b[39m(casted_key, \u001b[38;5;28mslice\u001b[39m) \u001b[38;5;129;01mor\u001b[39;00m (\n\u001b[1;32m   3815\u001b[0m         \u001b[38;5;28misinstance\u001b[39m(casted_key, abc\u001b[38;5;241m.\u001b[39mIterable)\n\u001b[1;32m   3816\u001b[0m         \u001b[38;5;129;01mand\u001b[39;00m \u001b[38;5;28many\u001b[39m(\u001b[38;5;28misinstance\u001b[39m(x, \u001b[38;5;28mslice\u001b[39m) \u001b[38;5;28;01mfor\u001b[39;00m x \u001b[38;5;129;01min\u001b[39;00m casted_key)\n\u001b[1;32m   3817\u001b[0m     ):\n\u001b[1;32m   3818\u001b[0m         \u001b[38;5;28;01mraise\u001b[39;00m InvalidIndexError(key)\n\u001b[0;32m-> 3819\u001b[0m     \u001b[38;5;28;01mraise\u001b[39;00m \u001b[38;5;167;01mKeyError\u001b[39;00m(key) \u001b[38;5;28;01mfrom\u001b[39;00m \u001b[38;5;21;01merr\u001b[39;00m\n\u001b[1;32m   3820\u001b[0m \u001b[38;5;28;01mexcept\u001b[39;00m \u001b[38;5;167;01mTypeError\u001b[39;00m:\n\u001b[1;32m   3821\u001b[0m     \u001b[38;5;66;03m# If we have a listlike key, _check_indexing_error will raise\u001b[39;00m\n\u001b[1;32m   3822\u001b[0m     \u001b[38;5;66;03m#  InvalidIndexError. Otherwise we fall through and re-raise\u001b[39;00m\n\u001b[1;32m   3823\u001b[0m     \u001b[38;5;66;03m#  the TypeError.\u001b[39;00m\n\u001b[1;32m   3824\u001b[0m     \u001b[38;5;28mself\u001b[39m\u001b[38;5;241m.\u001b[39m_check_indexing_error(key)\n",
      "\u001b[0;31mKeyError\u001b[0m: 'text'"
     ]
    }
   ],
   "source": [
    "#calculate word count per initial tweet\n",
    "df_starters[\"word_count\"] = \\\n",
    "    df_starters[\"text\"]\\\n",
    "        .apply(lambda x: len(x.split(\" \")))\n",
    "\n",
    "df_starters[\"word_count\"].describe()"
   ]
  },
  {
   "cell_type": "code",
   "execution_count": null,
   "metadata": {},
   "outputs": [
    {
     "data": {
      "image/png": "[encoded data removed]",
      "text/plain": [
       "<Figure size 1000x400 with 2 Axes>"
      ]
     },
     "metadata": {},
     "output_type": "display_data"
    }
   ],
   "source": [
    "#log-transform word count\n",
    "df_starters[\"word_count_log\"] = \\\n",
    "        np.log1p(df_starters[\"word_count\"])\n",
    "\n",
    "# visualize both distributions in subplots next to each other\n",
    "plt.figure(figsize=(10, 4))\n",
    "\n",
    "plt.subplot(1, 2, 1)\n",
    "df_starters[\"word_count\"]\\\n",
    "    .hist()\n",
    "plt.title(\"Word count\")\n",
    "custom_plots()\n",
    "\n",
    "plt.subplot(1, 2, 2)\n",
    "df_starters[\"word_count_log\"]\\\n",
    "    .hist()\n",
    "plt.title(\"Word count (log)\")\n",
    "custom_plots()"
   ]
  },
  {
   "cell_type": "markdown",
   "metadata": {},
   "source": [
    "### Tweet count"
   ]
  },
  {
   "cell_type": "code",
   "execution_count": null,
   "metadata": {},
   "outputs": [
    {
     "data": {
      "image/png": "[encoded data removed]",
      "text/plain": [
       "<Figure size 500x200 with 2 Axes>"
      ]
     },
     "metadata": {},
     "output_type": "display_data"
    }
   ],
   "source": [
    "#distributions of follower count and log follower count\n",
    "df_starters[\"author.tweet_count_log\"] = \\\n",
    "    np.log1p(df_starters[\"author.tweet_count\"])\n",
    "\n",
    "plt.figure(figsize=(5, 2))\n",
    "plt.subplot(1, 2, 1)\n",
    "df_starters[\"author.tweet_count\"]\\\n",
    "    .hist(bins=100)\n",
    "plt.title(\"Tweet count\")\n",
    "custom_plots()\n",
    "\n",
    "plt.subplot(1, 2, 2)\n",
    "df_starters[\"author.tweet_count_log\"]\\\n",
    "    .hist(bins=100)\n",
    "plt.title(\"Tweet count (log)\")\n",
    "custom_plots()"
   ]
  },
  {
   "cell_type": "markdown",
   "metadata": {},
   "source": [
    "### Follower count"
   ]
  },
  {
   "cell_type": "code",
   "execution_count": null,
   "metadata": {},
   "outputs": [
    {
     "data": {
      "image/png": "[encoded data removed]",
      "text/plain": [
       "<Figure size 500x200 with 2 Axes>"
      ]
     },
     "metadata": {},
     "output_type": "display_data"
    }
   ],
   "source": [
    "#distributions of follower count and log follower count\n",
    "df_starters[\"author.followers_count_log\"] = \\\n",
    "    np.log1p(df_starters[\"author.followers_count\"])\n",
    "\n",
    "plt.figure(figsize=(5,2))\n",
    "plt.subplot(1, 2, 1)\n",
    "df_starters[\"author.followers_count\"]\\\n",
    "    .hist(bins=100)\n",
    "plt.title(\"Follower count\")\n",
    "custom_plots()\n",
    "\n",
    "plt.subplot(1, 2, 2)\n",
    "df_starters[\"author.followers_count_log\"]\\\n",
    "    .hist(bins=100)\n",
    "plt.title(\"Follower count (log)\", fontsize=6)\n",
    "custom_plots()"
   ]
  },
  {
   "cell_type": "markdown",
   "metadata": {},
   "source": [
    "### Following count"
   ]
  },
  {
   "cell_type": "code",
   "execution_count": null,
   "metadata": {},
   "outputs": [
    {
     "data": {
      "image/png": "[encoded data removed]",
      "text/plain": [
       "<Figure size 500x200 with 2 Axes>"
      ]
     },
     "metadata": {},
     "output_type": "display_data"
    }
   ],
   "source": [
    "df_starters[\"author.following_count_log\"] = \\\n",
    "    np.log1p(df_starters[\"author.following_count\"])\n",
    "\n",
    "plt.figure(figsize=(5, 2))\n",
    "plt.subplot(1, 2, 1)\n",
    "df_starters[\"author.following_count\"]\\\n",
    "    .hist(bins=100)\n",
    "plt.xticks(rotation=30)\n",
    "plt.title(\"Following count\")\n",
    "custom_plots()\n",
    "\n",
    "plt.subplot(1, 2, 2)\n",
    "df_starters[\"author.following_count_log\"]\\\n",
    "    .hist(bins=100)\n",
    "plt.title(\"Following count (log)\")\n",
    "custom_plots()"
   ]
  },
  {
   "cell_type": "markdown",
   "metadata": {},
   "source": [
    "### Emotions"
   ]
  },
  {
   "cell_type": "code",
   "execution_count": null,
   "metadata": {},
   "outputs": [
    {
     "data": {
      "image/png": "[encoded data removed]",
      "text/plain": [
       "<Figure size 1000x500 with 8 Axes>"
      ]
     },
     "metadata": {},
     "output_type": "display_data"
    }
   ],
   "source": [
    "emotions = [\"anger\", \"fear\", \"disgust\", \"sadness\",\n",
    "            \"joy\", \"pride\", \"hope\"]\n",
    "\n",
    "fig, axes = plt.subplots(2, 4, figsize=(10, 5))\n",
    "\n",
    "axes = axes.flatten()\n",
    "for i, emotion in enumerate(emotions):\n",
    "    ax = axes[i]  \n",
    "    df_starters[emotion].hist(bins=100, ax=ax) \n",
    "    ax.set_title(f'{emotion.capitalize()}', fontsize=14)\n",
    "    ax.tick_params(axis='both', which='major', labelsize=12)\n",
    "    custom_plots(ax=ax)\n",
    "\n",
    "\n",
    "plt.tight_layout()\n",
    "plt.show()"
   ]
  },
  {
   "cell_type": "code",
   "execution_count": null,
   "metadata": {},
   "outputs": [
    {
     "data": {
      "image/png": "[encoded data removed]",
      "text/plain": [
       "<Figure size 1000x500 with 8 Axes>"
      ]
     },
     "metadata": {},
     "output_type": "display_data"
    }
   ],
   "source": [
    "# log-transform the emotion scores\n",
    "for emotion in emotions:\n",
    "     df_starters[f\"{emotion}_log\"] = \\\n",
    "          np.log1p(df_starters[emotion])\n",
    "     \n",
    "# visualize the log-transformed emotion scores\n",
    "fig, axes = plt.subplots(2, 4, figsize=(10, 5))\n",
    "\n",
    "axes = axes.flatten()\n",
    "\n",
    "for i, emotion in enumerate(emotions):\n",
    "    ax = axes[i]\n",
    "    df_starters[f\"{emotion}_log\"].hist(bins=100, ax=ax)\n",
    "    ax.set_title(f'{emotion.capitalize()} (log)', fontsize=14)\n",
    "    ax.tick_params(axis='both', which='major', labelsize=12)\n",
    "    custom_plots(ax=ax)\n",
    "\n",
    "plt.tight_layout()\n",
    "plt.show()"
   ]
  },
  {
   "cell_type": "code",
   "execution_count": null,
   "metadata": {},
   "outputs": [
    {
     "data": {
      "text/plain": [
       "Index(['conversation_id', 'domain', 'author_id', 'created_at',\n",
       "       'author.followers_count', 'author.following_count',\n",
       "       'author.tweet_count', 'Rating', 'Score', 'anger', 'fear', 'disgust',\n",
       "       'sadness', 'joy', 'pride', 'hope', 'Orientation', 'word_count',\n",
       "       'word_count_log', 'author.tweet_count_log',\n",
       "       'author.followers_count_log', 'author.following_count_log', 'anger_log',\n",
       "       'fear_log', 'disgust_log', 'sadness_log', 'joy_log', 'pride_log',\n",
       "       'hope_log'],\n",
       "      dtype='object')"
      ]
     },
     "execution_count": 35,
     "metadata": {},
     "output_type": "execute_result"
    }
   ],
   "source": [
    "starters_avg = \\\n",
    "    df_starters\\\n",
    "        .drop(columns=[\"status\",\n",
    "                        \"type\",\n",
    "                        ])\n",
    "\n",
    "starters_avg.columns"
   ]
  },
  {
   "cell_type": "markdown",
   "metadata": {},
   "source": [
    "## Replies"
   ]
  },
  {
   "cell_type": "code",
   "execution_count": null,
   "metadata": {},
   "outputs": [
    {
     "data": {
      "text/plain": [
       "10831242"
      ]
     },
     "execution_count": 36,
     "metadata": {},
     "output_type": "execute_result"
    }
   ],
   "source": [
    "df_replies = df[\n",
    "    df[\"type\"] == \"reply\"]\n",
    "len(df_replies)"
   ]
  },
  {
   "cell_type": "code",
   "execution_count": null,
   "metadata": {},
   "outputs": [
    {
     "data": {
      "text/plain": [
       "1"
      ]
     },
     "execution_count": 37,
     "metadata": {},
     "output_type": "execute_result"
    }
   ],
   "source": [
    "# are there conversations with less than one reply?\n",
    "df_replies[\"conversation_id\"].value_counts().min()"
   ]
  },
  {
   "cell_type": "code",
   "execution_count": null,
   "metadata": {},
   "outputs": [],
   "source": [
    "# calculate time between first and last tweet in a conversation\n",
    "pd.options.mode.chained_assignment = None\n",
    "\n",
    "df_replies[\"created_at\"] = \\\n",
    "    pd.to_datetime(df_replies[\"created_at\"])\n",
    "\n",
    "df_time = \\\n",
    "    df_replies.groupby(\"conversation_id\")[\"created_at\"]\\\n",
    "                    .apply(lambda x: x.max() - x.min())\\\n",
    "                    .reset_index(name=\"time_diff\")\n",
    "\n",
    "df_time[\"time_diff\"] = \\\n",
    "    df_time[\"time_diff\"].dt.total_seconds()"
   ]
  },
  {
   "cell_type": "code",
   "execution_count": null,
   "metadata": {},
   "outputs": [
    {
     "data": {
      "text/plain": [
       "count     852326.000\n",
       "mean      241243.183\n",
       "std      2315363.389\n",
       "min            0.000\n",
       "25%            0.000\n",
       "50%         2409.000\n",
       "75%        45888.000\n",
       "max     78625706.000\n",
       "Name: time_diff, dtype: float64"
      ]
     },
     "execution_count": 39,
     "metadata": {},
     "output_type": "execute_result"
    }
   ],
   "source": [
    "df_time[\"time_diff\"].describe()"
   ]
  },
  {
   "cell_type": "code",
   "execution_count": null,
   "metadata": {},
   "outputs": [
    {
     "data": {
      "image/png": "[encoded data removed]",
      "text/plain": [
       "<Figure size 500x200 with 2 Axes>"
      ]
     },
     "metadata": {},
     "output_type": "display_data"
    }
   ],
   "source": [
    "df_time[\"time_diff_log\"] = np.log1p(df_time[\"time_diff\"])\n",
    "\n",
    "plt.figure(figsize=(5, 2))\n",
    "plt.subplot(1, 2, 1)\n",
    "df_time[\"time_diff\"]\\\n",
    "    .hist(bins=100)\n",
    "plt.title(\"Time difference\")\n",
    "custom_plots()\n",
    "\n",
    "plt.subplot(1, 2, 2)\n",
    "df_time[\"time_diff_log\"]\\\n",
    "    .hist(bins=100)\n",
    "plt.title(\"Time difference (log)\")\n",
    "custom_plots()"
   ]
  },
  {
   "cell_type": "code",
   "execution_count": null,
   "metadata": {},
   "outputs": [
    {
     "data": {
      "text/plain": [
       "True"
      ]
     },
     "execution_count": 43,
     "metadata": {},
     "output_type": "execute_result"
    }
   ],
   "source": [
    "len(df_time) == df_replies[\"conversation_id\"].nunique()"
   ]
  },
  {
   "cell_type": "markdown",
   "metadata": {},
   "source": [
    "### Aggregate emotions in replies"
   ]
  },
  {
   "cell_type": "code",
   "execution_count": null,
   "metadata": {},
   "outputs": [
    {
     "data": {
      "text/plain": [
       "Index(['conversation_id', 'id', 'domain', 'author_id', 'created_at', 'text',\n",
       "       'author.followers_count', 'author.following_count',\n",
       "       'author.tweet_count', 'Rating', 'Score', 'anger', 'fear', 'disgust',\n",
       "       'sadness', 'joy', 'enthusiasm', 'pride', 'hope', 'type', 'status',\n",
       "       'Orientation'],\n",
       "      dtype='object')"
      ]
     },
     "execution_count": 44,
     "metadata": {},
     "output_type": "execute_result"
    }
   ],
   "source": [
    "df_replies.columns"
   ]
  },
  {
   "cell_type": "code",
   "execution_count": null,
   "metadata": {},
   "outputs": [
    {
     "data": {
      "text/plain": [
       "852326"
      ]
     },
     "execution_count": 45,
     "metadata": {},
     "output_type": "execute_result"
    }
   ],
   "source": [
    "#for every emotion, calculate the avg per conversation replies\n",
    "avg_variables = [\n",
    "    \"anger\", \"fear\", \"disgust\", \"sadness\", \n",
    "    \"joy\", \"pride\", \"hope\", \n",
    "    \"author.tweet_count\"]\n",
    "\n",
    "replies_avg = \\\n",
    "    df_replies\\\n",
    "        .groupby(\"conversation_id\")[avg_variables]\\\n",
    "        .mean()\\\n",
    "        .reset_index()\n",
    "\n",
    "for col in replies_avg.columns:\n",
    "    if col != \"conversation_id\":\n",
    "        replies_avg.rename(columns={col: col + \"_avg\"}, \n",
    "                              inplace=True)\n",
    "\n",
    "len(replies_avg)"
   ]
  },
  {
   "cell_type": "code",
   "execution_count": null,
   "metadata": {},
   "outputs": [
    {
     "data": {
      "image/png": "[encoded data removed]",
      "text/plain": [
       "<Figure size 600x250 with 2 Axes>"
      ]
     },
     "metadata": {},
     "output_type": "display_data"
    }
   ],
   "source": [
    "#log-transform tweet count\n",
    "replies_avg[\"author.tweet_count_avg_log\"] = \\\n",
    "    np.log1p(replies_avg[\"author.tweet_count_avg\"])\n",
    "\n",
    "#plot both distributions next to each other\n",
    "plt.figure(figsize=(6, 2.5))\n",
    "\n",
    "plt.subplot(1, 2, 1)\n",
    "replies_avg[\"author.tweet_count_avg\"]\\\n",
    "    .hist(bins=100)\n",
    "plt.title(\"Avg. tweet count\")\n",
    "custom_plots()\n",
    "\n",
    "plt.subplot(1, 2, 2)\n",
    "replies_avg[\"author.tweet_count_avg_log\"]\\\n",
    "    .hist(bins=100)\n",
    "plt.title(\"Avg. tweet count (log)\")\n",
    "custom_plots()"
   ]
  },
  {
   "cell_type": "code",
   "execution_count": null,
   "metadata": {},
   "outputs": [
    {
     "data": {
      "text/plain": [
       "852326"
      ]
     },
     "execution_count": 50,
     "metadata": {},
     "output_type": "execute_result"
    }
   ],
   "source": [
    "# merge reply aggregates\n",
    "df_replies_avg = \\\n",
    "    replies_avg.merge(df_time, on=\"conversation_id\")\n",
    "len(replies_avg)"
   ]
  },
  {
   "cell_type": "code",
   "execution_count": null,
   "metadata": {},
   "outputs": [
    {
     "data": {
      "text/html": [
       "<div>\n",
       "<style scoped>\n",
       "    .dataframe tbody tr th:only-of-type {\n",
       "        vertical-align: middle;\n",
       "    }\n",
       "\n",
       "    .dataframe tbody tr th {\n",
       "        vertical-align: top;\n",
       "    }\n",
       "\n",
       "    .dataframe thead th {\n",
       "        text-align: right;\n",
       "    }\n",
       "</style>\n",
       "<table border=\"1\" class=\"dataframe\">\n",
       "  <thead>\n",
       "    <tr style=\"text-align: right;\">\n",
       "      <th></th>\n",
       "      <th>conversation_id</th>\n",
       "      <th>anger_avg</th>\n",
       "      <th>fear_avg</th>\n",
       "      <th>disgust_avg</th>\n",
       "      <th>sadness_avg</th>\n",
       "      <th>joy_avg</th>\n",
       "      <th>enthusiasm_avg</th>\n",
       "      <th>pride_avg</th>\n",
       "      <th>hope_avg</th>\n",
       "      <th>author.tweet_count_avg</th>\n",
       "      <th>author.tweet_count_avg_log</th>\n",
       "      <th>time_diff</th>\n",
       "      <th>time_diff_log</th>\n",
       "    </tr>\n",
       "  </thead>\n",
       "  <tbody>\n",
       "    <tr>\n",
       "      <th>0</th>\n",
       "      <td>1311458383812276224</td>\n",
       "      <td>0.991</td>\n",
       "      <td>0.003</td>\n",
       "      <td>0.002</td>\n",
       "      <td>0.001</td>\n",
       "      <td>0.001</td>\n",
       "      <td>0.008</td>\n",
       "      <td>0.001</td>\n",
       "      <td>0.003</td>\n",
       "      <td>18275.000</td>\n",
       "      <td>9.813</td>\n",
       "      <td>0.000</td>\n",
       "      <td>0.000</td>\n",
       "    </tr>\n",
       "    <tr>\n",
       "      <th>1</th>\n",
       "      <td>1311462162708279297</td>\n",
       "      <td>0.003</td>\n",
       "      <td>0.001</td>\n",
       "      <td>0.001</td>\n",
       "      <td>0.000</td>\n",
       "      <td>0.001</td>\n",
       "      <td>0.001</td>\n",
       "      <td>0.001</td>\n",
       "      <td>0.001</td>\n",
       "      <td>369913.000</td>\n",
       "      <td>12.821</td>\n",
       "      <td>0.000</td>\n",
       "      <td>0.000</td>\n",
       "    </tr>\n",
       "    <tr>\n",
       "      <th>2</th>\n",
       "      <td>1311462180391395329</td>\n",
       "      <td>0.451</td>\n",
       "      <td>0.006</td>\n",
       "      <td>0.002</td>\n",
       "      <td>0.010</td>\n",
       "      <td>0.009</td>\n",
       "      <td>0.001</td>\n",
       "      <td>0.002</td>\n",
       "      <td>0.001</td>\n",
       "      <td>11253.667</td>\n",
       "      <td>9.329</td>\n",
       "      <td>16075.000</td>\n",
       "      <td>9.685</td>\n",
       "    </tr>\n",
       "    <tr>\n",
       "      <th>3</th>\n",
       "      <td>1311462201052540929</td>\n",
       "      <td>0.386</td>\n",
       "      <td>0.004</td>\n",
       "      <td>0.005</td>\n",
       "      <td>0.003</td>\n",
       "      <td>0.003</td>\n",
       "      <td>0.004</td>\n",
       "      <td>0.002</td>\n",
       "      <td>0.004</td>\n",
       "      <td>25501.229</td>\n",
       "      <td>10.147</td>\n",
       "      <td>244936.000</td>\n",
       "      <td>12.409</td>\n",
       "    </tr>\n",
       "    <tr>\n",
       "      <th>4</th>\n",
       "      <td>1311463707688546305</td>\n",
       "      <td>0.459</td>\n",
       "      <td>0.006</td>\n",
       "      <td>0.034</td>\n",
       "      <td>0.052</td>\n",
       "      <td>0.003</td>\n",
       "      <td>0.002</td>\n",
       "      <td>0.001</td>\n",
       "      <td>0.002</td>\n",
       "      <td>20090.194</td>\n",
       "      <td>9.908</td>\n",
       "      <td>61890.000</td>\n",
       "      <td>11.033</td>\n",
       "    </tr>\n",
       "    <tr>\n",
       "      <th>...</th>\n",
       "      <td>...</td>\n",
       "      <td>...</td>\n",
       "      <td>...</td>\n",
       "      <td>...</td>\n",
       "      <td>...</td>\n",
       "      <td>...</td>\n",
       "      <td>...</td>\n",
       "      <td>...</td>\n",
       "      <td>...</td>\n",
       "      <td>...</td>\n",
       "      <td>...</td>\n",
       "      <td>...</td>\n",
       "      <td>...</td>\n",
       "    </tr>\n",
       "    <tr>\n",
       "      <th>852321</th>\n",
       "      <td>1509309133211815936</td>\n",
       "      <td>0.452</td>\n",
       "      <td>0.004</td>\n",
       "      <td>0.008</td>\n",
       "      <td>0.003</td>\n",
       "      <td>0.072</td>\n",
       "      <td>0.002</td>\n",
       "      <td>0.003</td>\n",
       "      <td>0.002</td>\n",
       "      <td>6001.286</td>\n",
       "      <td>8.700</td>\n",
       "      <td>409470.000</td>\n",
       "      <td>12.923</td>\n",
       "    </tr>\n",
       "    <tr>\n",
       "      <th>852322</th>\n",
       "      <td>1509310013759803392</td>\n",
       "      <td>0.410</td>\n",
       "      <td>0.001</td>\n",
       "      <td>0.001</td>\n",
       "      <td>0.001</td>\n",
       "      <td>0.000</td>\n",
       "      <td>0.001</td>\n",
       "      <td>0.000</td>\n",
       "      <td>0.001</td>\n",
       "      <td>3261.000</td>\n",
       "      <td>8.090</td>\n",
       "      <td>0.000</td>\n",
       "      <td>0.000</td>\n",
       "    </tr>\n",
       "    <tr>\n",
       "      <th>852323</th>\n",
       "      <td>1509310516736368643</td>\n",
       "      <td>0.346</td>\n",
       "      <td>0.002</td>\n",
       "      <td>0.002</td>\n",
       "      <td>0.009</td>\n",
       "      <td>0.002</td>\n",
       "      <td>0.001</td>\n",
       "      <td>0.001</td>\n",
       "      <td>0.001</td>\n",
       "      <td>4313.100</td>\n",
       "      <td>8.370</td>\n",
       "      <td>82646.000</td>\n",
       "      <td>11.322</td>\n",
       "    </tr>\n",
       "    <tr>\n",
       "      <th>852324</th>\n",
       "      <td>1509313664221810688</td>\n",
       "      <td>0.003</td>\n",
       "      <td>0.003</td>\n",
       "      <td>0.005</td>\n",
       "      <td>0.003</td>\n",
       "      <td>0.002</td>\n",
       "      <td>0.001</td>\n",
       "      <td>0.000</td>\n",
       "      <td>0.000</td>\n",
       "      <td>1114.000</td>\n",
       "      <td>7.017</td>\n",
       "      <td>0.000</td>\n",
       "      <td>0.000</td>\n",
       "    </tr>\n",
       "    <tr>\n",
       "      <th>852325</th>\n",
       "      <td>1509319401706827781</td>\n",
       "      <td>0.479</td>\n",
       "      <td>0.002</td>\n",
       "      <td>0.002</td>\n",
       "      <td>0.002</td>\n",
       "      <td>0.001</td>\n",
       "      <td>0.001</td>\n",
       "      <td>0.001</td>\n",
       "      <td>0.001</td>\n",
       "      <td>2612.667</td>\n",
       "      <td>7.869</td>\n",
       "      <td>9226.000</td>\n",
       "      <td>9.130</td>\n",
       "    </tr>\n",
       "  </tbody>\n",
       "</table>\n",
       "<p>852326 rows × 13 columns</p>\n",
       "</div>"
      ],
      "text/plain": [
       "            conversation_id  anger_avg  fear_avg  disgust_avg  sadness_avg  \\\n",
       "0       1311458383812276224      0.991     0.003        0.002        0.001   \n",
       "1       1311462162708279297      0.003     0.001        0.001        0.000   \n",
       "2       1311462180391395329      0.451     0.006        0.002        0.010   \n",
       "3       1311462201052540929      0.386     0.004        0.005        0.003   \n",
       "4       1311463707688546305      0.459     0.006        0.034        0.052   \n",
       "...                     ...        ...       ...          ...          ...   \n",
       "852321  1509309133211815936      0.452     0.004        0.008        0.003   \n",
       "852322  1509310013759803392      0.410     0.001        0.001        0.001   \n",
       "852323  1509310516736368643      0.346     0.002        0.002        0.009   \n",
       "852324  1509313664221810688      0.003     0.003        0.005        0.003   \n",
       "852325  1509319401706827781      0.479     0.002        0.002        0.002   \n",
       "\n",
       "        joy_avg  enthusiasm_avg  pride_avg  hope_avg  author.tweet_count_avg  \\\n",
       "0         0.001           0.008      0.001     0.003               18275.000   \n",
       "1         0.001           0.001      0.001     0.001              369913.000   \n",
       "2         0.009           0.001      0.002     0.001               11253.667   \n",
       "3         0.003           0.004      0.002     0.004               25501.229   \n",
       "4         0.003           0.002      0.001     0.002               20090.194   \n",
       "...         ...             ...        ...       ...                     ...   \n",
       "852321    0.072           0.002      0.003     0.002                6001.286   \n",
       "852322    0.000           0.001      0.000     0.001                3261.000   \n",
       "852323    0.002           0.001      0.001     0.001                4313.100   \n",
       "852324    0.002           0.001      0.000     0.000                1114.000   \n",
       "852325    0.001           0.001      0.001     0.001                2612.667   \n",
       "\n",
       "        author.tweet_count_avg_log  time_diff  time_diff_log  \n",
       "0                            9.813      0.000          0.000  \n",
       "1                           12.821      0.000          0.000  \n",
       "2                            9.329  16075.000          9.685  \n",
       "3                           10.147 244936.000         12.409  \n",
       "4                            9.908  61890.000         11.033  \n",
       "...                            ...        ...            ...  \n",
       "852321                       8.700 409470.000         12.923  \n",
       "852322                       8.090      0.000          0.000  \n",
       "852323                       8.370  82646.000         11.322  \n",
       "852324                       7.017      0.000          0.000  \n",
       "852325                       7.869   9226.000          9.130  \n",
       "\n",
       "[852326 rows x 13 columns]"
      ]
     },
     "execution_count": 51,
     "metadata": {},
     "output_type": "execute_result"
    }
   ],
   "source": [
    "df_replies_avg"
   ]
  },
  {
   "cell_type": "markdown",
   "metadata": {},
   "source": [
    "## Merge starter and reply aggregates "
   ]
  },
  {
   "cell_type": "code",
   "execution_count": null,
   "metadata": {},
   "outputs": [],
   "source": [
    "discussion_replies = \\\n",
    "    starters_avg\\\n",
    "       .merge(df_replies_avg, \n",
    "              on=[\"conversation_id\"], \n",
    "              how=\"inner\")\n",
    "\n",
    "# discussion_replies.head(3)"
   ]
  },
  {
   "cell_type": "code",
   "execution_count": null,
   "metadata": {},
   "outputs": [
    {
     "data": {
      "text/plain": [
       "Index(['conversation_id', 'domain', 'author_id', 'created_at',\n",
       "       'author.followers_count', 'author.following_count',\n",
       "       'author.tweet_count', 'Rating', 'Score', 'anger', 'fear', 'disgust',\n",
       "       'sadness', 'joy', 'pride', 'hope', 'Orientation', 'word_count',\n",
       "       'word_count_log', 'author.tweet_count_log',\n",
       "       'author.followers_count_log', 'author.following_count_log', 'anger_log',\n",
       "       'fear_log', 'disgust_log', 'sadness_log', 'joy_log', 'pride_log',\n",
       "       'hope_log', 'anger_avg', 'fear_avg', 'disgust_avg', 'sadness_avg',\n",
       "       'joy_avg', 'enthusiasm_avg', 'pride_avg', 'hope_avg',\n",
       "       'author.tweet_count_avg', 'author.tweet_count_avg_log', 'time_diff',\n",
       "       'time_diff_log'],\n",
       "      dtype='object')"
      ]
     },
     "execution_count": 53,
     "metadata": {},
     "output_type": "execute_result"
    }
   ],
   "source": [
    "discussion_replies.columns"
   ]
  },
  {
   "cell_type": "code",
   "execution_count": null,
   "metadata": {},
   "outputs": [],
   "source": [
    "# drop some variables\n",
    "discussion_replies = \\\n",
    "    discussion_replies.drop(columns=[\n",
    "        \"enthusiasm_avg\"\n",
    "    ])"
   ]
  },
  {
   "cell_type": "code",
   "execution_count": null,
   "metadata": {},
   "outputs": [
    {
     "data": {
      "text/plain": [
       "852206"
      ]
     },
     "execution_count": 55,
     "metadata": {},
     "output_type": "execute_result"
    }
   ],
   "source": [
    "len(discussion_replies)"
   ]
  },
  {
   "cell_type": "code",
   "execution_count": null,
   "metadata": {},
   "outputs": [
    {
     "data": {
      "text/plain": [
       "0.000    813547\n",
       "1.000     38659\n",
       "Name: Rating, dtype: int64"
      ]
     },
     "execution_count": 56,
     "metadata": {},
     "output_type": "execute_result"
    }
   ],
   "source": [
    "discussion_replies[\"Rating\"].value_counts()"
   ]
  },
  {
   "cell_type": "code",
   "execution_count": null,
   "metadata": {},
   "outputs": [
    {
     "name": "stdout",
     "output_type": "stream",
     "text": [
      "Number of conversations: 852206\n"
     ]
    }
   ],
   "source": [
    "print(f'Number of conversations: {len(discussion_replies)}')"
   ]
  },
  {
   "cell_type": "code",
   "execution_count": null,
   "metadata": {},
   "outputs": [
    {
     "name": "stdout",
     "output_type": "stream",
     "text": [
      "Number of tweets: 11688608\n"
     ]
    }
   ],
   "source": [
    "num_tweets = len(df[df[\"conversation_id\"].isin(discussion_replies[\"conversation_id\"])])\n",
    "print(f'Number of tweets: {num_tweets}')"
   ]
  },
  {
   "cell_type": "code",
   "execution_count": null,
   "metadata": {},
   "outputs": [
    {
     "data": {
      "text/plain": [
       "conversation_id               0\n",
       "domain                        0\n",
       "author_id                     0\n",
       "created_at                    0\n",
       "author.followers_count        0\n",
       "author.following_count        0\n",
       "author.tweet_count            0\n",
       "Rating                        0\n",
       "Score                         0\n",
       "anger                         0\n",
       "fear                          0\n",
       "disgust                       0\n",
       "sadness                       0\n",
       "joy                           0\n",
       "pride                         0\n",
       "hope                          0\n",
       "Orientation                   0\n",
       "word_count                    0\n",
       "word_count_log                0\n",
       "author.tweet_count_log        0\n",
       "author.followers_count_log    0\n",
       "author.following_count_log    0\n",
       "anger_log                     0\n",
       "fear_log                      0\n",
       "disgust_log                   0\n",
       "sadness_log                   0\n",
       "joy_log                       0\n",
       "pride_log                     0\n",
       "hope_log                      0\n",
       "anger_avg                     0\n",
       "fear_avg                      0\n",
       "disgust_avg                   0\n",
       "sadness_avg                   0\n",
       "joy_avg                       0\n",
       "pride_avg                     0\n",
       "hope_avg                      0\n",
       "author.tweet_count_avg        0\n",
       "author.tweet_count_avg_log    0\n",
       "time_diff                     0\n",
       "time_diff_log                 0\n",
       "dtype: int64"
      ]
     },
     "execution_count": 59,
     "metadata": {},
     "output_type": "execute_result"
    }
   ],
   "source": [
    "# are there missing values in any of the variables?\n",
    "discussion_replies.isna().sum()"
   ]
  },
  {
   "cell_type": "code",
   "execution_count": null,
   "metadata": {},
   "outputs": [],
   "source": [
    "discussion_replies.to_csv(join(src,\n",
    "                            \"discussions_replies_aggregates.csv\"),\n",
    "                            index=False)"
   ]
  },
  {
   "cell_type": "markdown",
   "metadata": {},
   "source": [
    "## Aggregate first responders data"
   ]
  },
  {
   "cell_type": "code",
   "execution_count": null,
   "metadata": {},
   "outputs": [
    {
     "data": {
      "text/plain": [
       "True"
      ]
     },
     "execution_count": 60,
     "metadata": {},
     "output_type": "execute_result"
    }
   ],
   "source": [
    "df_first_replies = df_replies\\\n",
    "        .sort_values(\"created_at\")\n",
    "\n",
    "df_first_replies = \\\n",
    "    df_first_replies\\\n",
    "        .groupby(\"conversation_id\")\\\n",
    "        .first()\\\n",
    "        .reset_index()\n",
    "\n",
    "df_first_replies.conversation_id.nunique() == len(df_first_replies)"
   ]
  },
  {
   "cell_type": "code",
   "execution_count": null,
   "metadata": {},
   "outputs": [
    {
     "data": {
      "text/plain": [
       "852326"
      ]
     },
     "execution_count": 61,
     "metadata": {},
     "output_type": "execute_result"
    }
   ],
   "source": [
    "len(df_first_replies)"
   ]
  },
  {
   "cell_type": "code",
   "execution_count": null,
   "metadata": {},
   "outputs": [
    {
     "data": {
      "text/plain": [
       "Index(['conversation_id', 'id', 'domain', 'author_id', 'created_at', 'text',\n",
       "       'author.followers_count', 'author.following_count',\n",
       "       'author.tweet_count', 'Rating', 'Score', 'anger', 'fear', 'disgust',\n",
       "       'sadness', 'joy', 'enthusiasm', 'pride', 'hope', 'type', 'status',\n",
       "       'Orientation'],\n",
       "      dtype='object')"
      ]
     },
     "execution_count": 62,
     "metadata": {},
     "output_type": "execute_result"
    }
   ],
   "source": [
    "df_first_replies.columns"
   ]
  },
  {
   "cell_type": "code",
   "execution_count": null,
   "metadata": {},
   "outputs": [
    {
     "data": {
      "text/plain": [
       "Index(['conversation_id', 'id', 'author_id', 'author.tweet_count', 'anger',\n",
       "       'fear', 'disgust', 'sadness', 'joy', 'enthusiasm', 'pride', 'hope'],\n",
       "      dtype='object')"
      ]
     },
     "execution_count": 63,
     "metadata": {},
     "output_type": "execute_result"
    }
   ],
   "source": [
    "#drop columns that are not needed\n",
    "df_first_replies = df_first_replies.drop(columns=[\"created_at\", \n",
    "                                                  \"type\",\n",
    "                                                  \"status\",\n",
    "                                                  \"Rating\",\n",
    "                                                  \"Orientation\",\n",
    "                                                  \"author.followers_count\",\n",
    "                                                  \"author.following_count\"])\n",
    "\n",
    "df_first_replies.columns"
   ]
  },
  {
   "cell_type": "code",
   "execution_count": null,
   "metadata": {},
   "outputs": [
    {
     "data": {
      "text/html": [
       "<div>\n",
       "<style scoped>\n",
       "    .dataframe tbody tr th:only-of-type {\n",
       "        vertical-align: middle;\n",
       "    }\n",
       "\n",
       "    .dataframe tbody tr th {\n",
       "        vertical-align: top;\n",
       "    }\n",
       "\n",
       "    .dataframe thead th {\n",
       "        text-align: right;\n",
       "    }\n",
       "</style>\n",
       "<table border=\"1\" class=\"dataframe\">\n",
       "  <thead>\n",
       "    <tr style=\"text-align: right;\">\n",
       "      <th></th>\n",
       "      <th>conversation_id</th>\n",
       "      <th>id</th>\n",
       "      <th>author_id</th>\n",
       "      <th>anger_first</th>\n",
       "      <th>fear_first</th>\n",
       "      <th>disgust_first</th>\n",
       "      <th>sadness_first</th>\n",
       "      <th>joy_first</th>\n",
       "      <th>enthusiasm_first</th>\n",
       "      <th>pride_first</th>\n",
       "      <th>hope_first</th>\n",
       "      <th>author.tweet_count_first</th>\n",
       "    </tr>\n",
       "  </thead>\n",
       "  <tbody>\n",
       "    <tr>\n",
       "      <th>0</th>\n",
       "      <td>1311458383812276224</td>\n",
       "      <td>1311463696368103428</td>\n",
       "      <td>1285712959709339649</td>\n",
       "      <td>0.991</td>\n",
       "      <td>0.003</td>\n",
       "      <td>0.002</td>\n",
       "      <td>0.001</td>\n",
       "      <td>0.001</td>\n",
       "      <td>0.008</td>\n",
       "      <td>0.001</td>\n",
       "      <td>0.003</td>\n",
       "      <td>18275.000</td>\n",
       "    </tr>\n",
       "    <tr>\n",
       "      <th>1</th>\n",
       "      <td>1311462162708279297</td>\n",
       "      <td>1311462185634275330</td>\n",
       "      <td>1267192643831947265</td>\n",
       "      <td>0.003</td>\n",
       "      <td>0.001</td>\n",
       "      <td>0.001</td>\n",
       "      <td>0.000</td>\n",
       "      <td>0.001</td>\n",
       "      <td>0.001</td>\n",
       "      <td>0.001</td>\n",
       "      <td>0.001</td>\n",
       "      <td>369913.000</td>\n",
       "    </tr>\n",
       "    <tr>\n",
       "      <th>2</th>\n",
       "      <td>1311462180391395329</td>\n",
       "      <td>1311467250151424001</td>\n",
       "      <td>1238090439267217411</td>\n",
       "      <td>0.997</td>\n",
       "      <td>0.012</td>\n",
       "      <td>0.005</td>\n",
       "      <td>0.005</td>\n",
       "      <td>0.001</td>\n",
       "      <td>0.001</td>\n",
       "      <td>0.001</td>\n",
       "      <td>0.002</td>\n",
       "      <td>9077.000</td>\n",
       "    </tr>\n",
       "  </tbody>\n",
       "</table>\n",
       "</div>"
      ],
      "text/plain": [
       "       conversation_id                   id            author_id  anger_first  \\\n",
       "0  1311458383812276224  1311463696368103428  1285712959709339649        0.991   \n",
       "1  1311462162708279297  1311462185634275330  1267192643831947265        0.003   \n",
       "2  1311462180391395329  1311467250151424001  1238090439267217411        0.997   \n",
       "\n",
       "   fear_first  disgust_first  sadness_first  joy_first  enthusiasm_first  \\\n",
       "0       0.003          0.002          0.001      0.001             0.008   \n",
       "1       0.001          0.001          0.000      0.001             0.001   \n",
       "2       0.012          0.005          0.005      0.001             0.001   \n",
       "\n",
       "   pride_first  hope_first  author.tweet_count_first  \n",
       "0        0.001       0.003                 18275.000  \n",
       "1        0.001       0.001                369913.000  \n",
       "2        0.001       0.002                  9077.000  "
      ]
     },
     "execution_count": 64,
     "metadata": {},
     "output_type": "execute_result"
    }
   ],
   "source": [
    "#keep only conversation_id and emotion columns\n",
    "df_first_replies_avg = \\\n",
    "    df_first_replies[[\"conversation_id\", \"id\", \"author_id\"] + \n",
    "                      avg_variables].copy()\n",
    "\n",
    "#add suffix to emotion columns\n",
    "for col in df_first_replies_avg.columns:\n",
    "    if col not in [\"conversation_id\", \"id\", \"author_id\"]:\n",
    "        df_first_replies_avg\\\n",
    "            .rename(columns={col: col + \"_first\"}, \n",
    "                    inplace=True)\n",
    "        \n",
    "df_first_replies_avg.head(3)"
   ]
  },
  {
   "cell_type": "code",
   "execution_count": null,
   "metadata": {},
   "outputs": [
    {
     "data": {
      "text/plain": [
       "852326"
      ]
     },
     "execution_count": 65,
     "metadata": {},
     "output_type": "execute_result"
    }
   ],
   "source": [
    "len(df_first_replies_avg)"
   ]
  },
  {
   "cell_type": "code",
   "execution_count": null,
   "metadata": {},
   "outputs": [
    {
     "data": {
      "text/plain": [
       "count     852326.000\n",
       "mean       30834.088\n",
       "std        58516.660\n",
       "min            1.000\n",
       "25%         4290.250\n",
       "50%        13689.000\n",
       "75%        35441.000\n",
       "max     10249392.000\n",
       "Name: author.tweet_count_first, dtype: float64"
      ]
     },
     "execution_count": 66,
     "metadata": {},
     "output_type": "execute_result"
    }
   ],
   "source": [
    "df_first_replies_avg[\"author.tweet_count_first\"].describe()"
   ]
  },
  {
   "cell_type": "code",
   "execution_count": null,
   "metadata": {},
   "outputs": [
    {
     "data": {
      "image/png": "[encoded data removed]",
      "text/plain": [
       "<Figure size 600x250 with 2 Axes>"
      ]
     },
     "metadata": {},
     "output_type": "display_data"
    }
   ],
   "source": [
    "#logtransform tweet count\n",
    "df_first_replies_avg[\"author.tweet_count_first_log\"] = \\\n",
    "    np.log1p(df_first_replies_avg[\"author.tweet_count_first\"])\n",
    "\n",
    "plt.figure(figsize=(6, 2.5))\n",
    "plt.subplot(1, 2, 1)\n",
    "df_first_replies_avg[\"author.tweet_count_first\"]\\\n",
    "    .hist(bins=100)\n",
    "plt.title(\"Tweet count\")\n",
    "custom_plots()\n",
    "\n",
    "plt.subplot(1, 2, 2)\n",
    "df_first_replies_avg[\"author.tweet_count_first_log\"]\\\n",
    "    .hist(bins=100)\n",
    "plt.title(\"Tweet count (log)\")\n",
    "custom_plots()"
   ]
  },
  {
   "cell_type": "code",
   "execution_count": null,
   "metadata": {},
   "outputs": [
    {
     "data": {
      "text/plain": [
       "852206"
      ]
     },
     "execution_count": 70,
     "metadata": {},
     "output_type": "execute_result"
    }
   ],
   "source": [
    "# rename author_id to first_author_id\n",
    "df_first_replies_avg.rename(columns={\"author_id\": \"first_author_id\"}, \n",
    "                            inplace=True)\n",
    "first_replies_avg = \\\n",
    "    starters_avg\\\n",
    "       .merge(df_first_replies_avg, \n",
    "              on=\"conversation_id\", \n",
    "              how=\"inner\")\n",
    "len(first_replies_avg)"
   ]
  },
  {
   "cell_type": "code",
   "execution_count": null,
   "metadata": {},
   "outputs": [
    {
     "data": {
      "text/plain": [
       "Index(['conversation_id', 'domain', 'author_id', 'created_at',\n",
       "       'author.followers_count', 'author.following_count',\n",
       "       'author.tweet_count', 'Rating', 'Score', 'anger', 'fear', 'disgust',\n",
       "       'sadness', 'joy', 'pride', 'hope', 'Orientation', 'word_count',\n",
       "       'word_count_log', 'author.tweet_count_log',\n",
       "       'author.followers_count_log', 'author.following_count_log', 'anger_log',\n",
       "       'fear_log', 'disgust_log', 'sadness_log', 'joy_log', 'pride_log',\n",
       "       'hope_log', 'id', 'first_author_id', 'anger_first', 'fear_first',\n",
       "       'disgust_first', 'sadness_first', 'joy_first', 'enthusiasm_first',\n",
       "       'pride_first', 'hope_first', 'author.tweet_count_first',\n",
       "       'author.tweet_count_first_log'],\n",
       "      dtype='object')"
      ]
     },
     "execution_count": 72,
     "metadata": {},
     "output_type": "execute_result"
    }
   ],
   "source": [
    "first_replies_avg.columns"
   ]
  },
  {
   "cell_type": "code",
   "execution_count": null,
   "metadata": {},
   "outputs": [],
   "source": [
    "# drop columns\n",
    "first_replies_avg = \\\n",
    "    first_replies_avg\\\n",
    "        .drop(columns=[\n",
    "            \"enthusiasm_first\"])"
   ]
  },
  {
   "cell_type": "code",
   "execution_count": null,
   "metadata": {},
   "outputs": [
    {
     "data": {
      "text/plain": [
       "0"
      ]
     },
     "execution_count": 74,
     "metadata": {},
     "output_type": "execute_result"
    }
   ],
   "source": [
    "# any duplicated conversations?\n",
    "first_replies_avg[\"conversation_id\"].duplicated().sum()"
   ]
  },
  {
   "cell_type": "code",
   "execution_count": null,
   "metadata": {},
   "outputs": [
    {
     "data": {
      "text/plain": [
       "0"
      ]
     },
     "execution_count": 75,
     "metadata": {},
     "output_type": "execute_result"
    }
   ],
   "source": [
    "# any missing values in Rating?\n",
    "first_replies_avg[\"Rating\"].isna().sum()"
   ]
  },
  {
   "cell_type": "code",
   "execution_count": null,
   "metadata": {},
   "outputs": [
    {
     "data": {
      "text/plain": [
       "0.000    813547\n",
       "1.000     38659\n",
       "Name: Rating, dtype: int64"
      ]
     },
     "execution_count": 76,
     "metadata": {},
     "output_type": "execute_result"
    }
   ],
   "source": [
    "# distribution of Rating\n",
    "first_replies_avg[\"Rating\"].value_counts()"
   ]
  },
  {
   "cell_type": "code",
   "execution_count": null,
   "metadata": {},
   "outputs": [
    {
     "data": {
      "text/plain": [
       "852206"
      ]
     },
     "execution_count": 77,
     "metadata": {},
     "output_type": "execute_result"
    }
   ],
   "source": [
    "# how many conversations left?\n",
    "len(first_replies_avg)"
   ]
  },
  {
   "cell_type": "code",
   "execution_count": null,
   "metadata": {},
   "outputs": [],
   "source": [
    "first_replies_avg.to_csv(join(src,\n",
    "                              \"first_replies_aggregates.csv\"),\n",
    "                                        index=False)"
   ]
  },
  {
   "cell_type": "markdown",
   "metadata": {},
   "source": [
    "## Aggregate same responders data"
   ]
  },
  {
   "cell_type": "code",
   "execution_count": null,
   "metadata": {},
   "outputs": [
    {
     "data": {
      "text/html": [
       "<div>\n",
       "<style scoped>\n",
       "    .dataframe tbody tr th:only-of-type {\n",
       "        vertical-align: middle;\n",
       "    }\n",
       "\n",
       "    .dataframe tbody tr th {\n",
       "        vertical-align: top;\n",
       "    }\n",
       "\n",
       "    .dataframe thead th {\n",
       "        text-align: right;\n",
       "    }\n",
       "</style>\n",
       "<table border=\"1\" class=\"dataframe\">\n",
       "  <thead>\n",
       "    <tr style=\"text-align: right;\">\n",
       "      <th>Rating</th>\n",
       "      <th>author_id</th>\n",
       "      <th>0.0</th>\n",
       "      <th>1.0</th>\n",
       "    </tr>\n",
       "  </thead>\n",
       "  <tbody>\n",
       "    <tr>\n",
       "      <th>0</th>\n",
       "      <td>4560</td>\n",
       "      <td>1.000</td>\n",
       "      <td>NaN</td>\n",
       "    </tr>\n",
       "    <tr>\n",
       "      <th>1</th>\n",
       "      <td>5267</td>\n",
       "      <td>4.000</td>\n",
       "      <td>NaN</td>\n",
       "    </tr>\n",
       "  </tbody>\n",
       "</table>\n",
       "</div>"
      ],
      "text/plain": [
       "Rating  author_id   0.0  1.0\n",
       "0            4560 1.000  NaN\n",
       "1            5267 4.000  NaN"
      ]
     },
     "execution_count": 78,
     "metadata": {},
     "output_type": "execute_result"
    }
   ],
   "source": [
    "# identify authors who have replied to N and T\n",
    "rating_authors = \\\n",
    "    df_replies\\\n",
    "        .groupby([\"author_id\", \"Rating\"])\\\n",
    "        .size()\\\n",
    "        .reset_index(name=\"count\")\\\n",
    "        .pivot(index=\"author_id\", \n",
    "               columns=\"Rating\", \n",
    "               values=\"count\")\\\n",
    "        .reset_index()\n",
    "\n",
    "rating_authors.head(2)"
   ]
  },
  {
   "cell_type": "code",
   "execution_count": null,
   "metadata": {},
   "outputs": [
    {
     "data": {
      "text/html": [
       "<div>\n",
       "<style scoped>\n",
       "    .dataframe tbody tr th:only-of-type {\n",
       "        vertical-align: middle;\n",
       "    }\n",
       "\n",
       "    .dataframe tbody tr th {\n",
       "        vertical-align: top;\n",
       "    }\n",
       "\n",
       "    .dataframe thead th {\n",
       "        text-align: right;\n",
       "    }\n",
       "</style>\n",
       "<table border=\"1\" class=\"dataframe\">\n",
       "  <thead>\n",
       "    <tr style=\"text-align: right;\">\n",
       "      <th>Rating</th>\n",
       "      <th>author_id</th>\n",
       "      <th>0.0</th>\n",
       "      <th>1.0</th>\n",
       "    </tr>\n",
       "  </thead>\n",
       "  <tbody>\n",
       "    <tr>\n",
       "      <th>11</th>\n",
       "      <td>620153</td>\n",
       "      <td>10.000</td>\n",
       "      <td>4.000</td>\n",
       "    </tr>\n",
       "    <tr>\n",
       "      <th>28</th>\n",
       "      <td>1001761</td>\n",
       "      <td>17.000</td>\n",
       "      <td>1.000</td>\n",
       "    </tr>\n",
       "  </tbody>\n",
       "</table>\n",
       "</div>"
      ],
      "text/plain": [
       "Rating  author_id    0.0   1.0\n",
       "11         620153 10.000 4.000\n",
       "28        1001761 17.000 1.000"
      ]
     },
     "execution_count": 79,
     "metadata": {},
     "output_type": "execute_result"
    }
   ],
   "source": [
    "# drop rows with missing values\n",
    "same_authors = \\\n",
    "    rating_authors.dropna()\n",
    "\n",
    "same_authors.head(2)"
   ]
  },
  {
   "cell_type": "code",
   "execution_count": null,
   "metadata": {},
   "outputs": [
    {
     "data": {
      "text/plain": [
       "7714"
      ]
     },
     "execution_count": 80,
     "metadata": {},
     "output_type": "execute_result"
    }
   ],
   "source": [
    "# extract list of author IDs\n",
    "same_authors_list = same_authors[\"author_id\"].tolist()\n",
    "len(same_authors_list)"
   ]
  },
  {
   "cell_type": "code",
   "execution_count": null,
   "metadata": {},
   "outputs": [
    {
     "data": {
      "text/plain": [
       "7714"
      ]
     },
     "execution_count": 81,
     "metadata": {},
     "output_type": "execute_result"
    }
   ],
   "source": [
    "#keep only the tweets from authors list\n",
    "df_same_authors = \\\n",
    "    df_replies[df_replies[\"author_id\"].isin(same_authors_list)]\n",
    "df_same_authors[\"author_id\"].nunique()"
   ]
  },
  {
   "cell_type": "code",
   "execution_count": null,
   "metadata": {},
   "outputs": [
    {
     "data": {
      "text/plain": [
       "0.000    143633\n",
       "1.000     57721\n",
       "Name: Rating, dtype: int64"
      ]
     },
     "execution_count": 82,
     "metadata": {},
     "output_type": "execute_result"
    }
   ],
   "source": [
    "df_same_authors[\"Rating\"].value_counts()"
   ]
  },
  {
   "cell_type": "code",
   "execution_count": null,
   "metadata": {},
   "outputs": [
    {
     "data": {
      "text/plain": [
       "2586712"
      ]
     },
     "execution_count": 83,
     "metadata": {},
     "output_type": "execute_result"
    }
   ],
   "source": [
    "len(df_same_authors)"
   ]
  },
  {
   "cell_type": "code",
   "execution_count": null,
   "metadata": {},
   "outputs": [
    {
     "data": {
      "text/plain": [
       "15428"
      ]
     },
     "execution_count": 84,
     "metadata": {},
     "output_type": "execute_result"
    }
   ],
   "source": [
    "# sample one tweet per author per rating\n",
    "df_same_authors_one = \\\n",
    "    df_same_authors\\\n",
    "        .groupby([\"author_id\", \"Rating\"])\\\n",
    "        .sample(1)\n",
    "\n",
    "len(df_same_authors_one)"
   ]
  },
  {
   "cell_type": "code",
   "execution_count": null,
   "metadata": {},
   "outputs": [
    {
     "data": {
      "text/plain": [
       "Index(['conversation_id', 'id', 'domain', 'author_id', 'created_at', 'text',\n",
       "       'author.followers_count', 'author.following_count',\n",
       "       'author.tweet_count', 'Rating', 'Score', 'anger', 'fear', 'disgust',\n",
       "       'sadness', 'joy', 'enthusiasm', 'pride', 'hope', 'type', 'status',\n",
       "       'Orientation'],\n",
       "      dtype='object')"
      ]
     },
     "execution_count": 85,
     "metadata": {},
     "output_type": "execute_result"
    }
   ],
   "source": [
    "df_same_authors_one.columns"
   ]
  },
  {
   "cell_type": "code",
   "execution_count": null,
   "metadata": {},
   "outputs": [
    {
     "data": {
      "text/plain": [
       "Index(['conversation_id', 'same_id', 'domain', 'same_author_id', 'created_at',\n",
       "       'text', 'author.followers_count', 'author.following_count',\n",
       "       'same_author.tweet_count', 'Rating', 'Score', 'anger_same', 'fear_same',\n",
       "       'disgust_same', 'sadness_same', 'joy_same', 'enthusiasm_same',\n",
       "       'pride_same', 'hope_same', 'type', 'status', 'Orientation'],\n",
       "      dtype='object')"
      ]
     },
     "execution_count": 86,
     "metadata": {},
     "output_type": "execute_result"
    }
   ],
   "source": [
    "# rename author_id to same_author_id\n",
    "df_same_authors_one.rename(columns={\"author_id\": \"same_author_id\",\n",
    "                                    \"author.tweet_count\": \"same_author.tweet_count\",\n",
    "                                    \"id\": \"same_id\"}, \n",
    "                           inplace=True)\n",
    "\n",
    "for emotion in emotions:\n",
    "    df_same_authors_one.rename(columns={emotion: f\"{emotion}_same\"}, \n",
    "                               inplace=True)\n",
    "\n",
    "df_same_authors_one.columns"
   ]
  },
  {
   "cell_type": "code",
   "execution_count": null,
   "metadata": {},
   "outputs": [],
   "source": [
    "df_same_authors_one = \\\n",
    "    df_same_authors_one\\\n",
    "        .drop(columns=[\"type\",\n",
    "                       \"status\",\n",
    "                       \"created_at\",\n",
    "                       \"Orientation\",\n",
    "                       \"Rating\",\n",
    "                       \"author.followers_count\",\n",
    "                       \"author.following_count\"])"
   ]
  },
  {
   "cell_type": "code",
   "execution_count": null,
   "metadata": {},
   "outputs": [
    {
     "data": {
      "text/plain": [
       "Index(['conversation_id', 'domain', 'author_id', 'created_at',\n",
       "       'author.followers_count', 'author.following_count',\n",
       "       'author.tweet_count', 'Rating', 'Score', 'anger', 'fear', 'disgust',\n",
       "       'sadness', 'joy', 'pride', 'hope', 'Orientation', 'word_count',\n",
       "       'word_count_log', 'author.tweet_count_log',\n",
       "       'author.followers_count_log', 'author.following_count_log', 'anger_log',\n",
       "       'fear_log', 'disgust_log', 'sadness_log', 'joy_log', 'pride_log',\n",
       "       'hope_log'],\n",
       "      dtype='object')"
      ]
     },
     "execution_count": 88,
     "metadata": {},
     "output_type": "execute_result"
    }
   ],
   "source": [
    "starters_avg.columns"
   ]
  },
  {
   "cell_type": "code",
   "execution_count": null,
   "metadata": {},
   "outputs": [
    {
     "data": {
      "text/html": [
       "<div>\n",
       "<style scoped>\n",
       "    .dataframe tbody tr th:only-of-type {\n",
       "        vertical-align: middle;\n",
       "    }\n",
       "\n",
       "    .dataframe tbody tr th {\n",
       "        vertical-align: top;\n",
       "    }\n",
       "\n",
       "    .dataframe thead th {\n",
       "        text-align: right;\n",
       "    }\n",
       "</style>\n",
       "<table border=\"1\" class=\"dataframe\">\n",
       "  <thead>\n",
       "    <tr style=\"text-align: right;\">\n",
       "      <th></th>\n",
       "      <th>conversation_id</th>\n",
       "      <th>same_id</th>\n",
       "      <th>same_author_id</th>\n",
       "      <th>same_author.tweet_count</th>\n",
       "      <th>anger_same</th>\n",
       "      <th>fear_same</th>\n",
       "      <th>disgust_same</th>\n",
       "      <th>sadness_same</th>\n",
       "      <th>joy_same</th>\n",
       "      <th>pride_same</th>\n",
       "      <th>...</th>\n",
       "      <th>author.tweet_count_log</th>\n",
       "      <th>author.followers_count_log</th>\n",
       "      <th>author.following_count_log</th>\n",
       "      <th>anger_log</th>\n",
       "      <th>fear_log</th>\n",
       "      <th>disgust_log</th>\n",
       "      <th>sadness_log</th>\n",
       "      <th>joy_log</th>\n",
       "      <th>pride_log</th>\n",
       "      <th>hope_log</th>\n",
       "    </tr>\n",
       "  </thead>\n",
       "  <tbody>\n",
       "    <tr>\n",
       "      <th>0</th>\n",
       "      <td>1401772458797981698</td>\n",
       "      <td>1401829927117332490</td>\n",
       "      <td>620153</td>\n",
       "      <td>7929.000</td>\n",
       "      <td>0.001</td>\n",
       "      <td>0.001</td>\n",
       "      <td>0.001</td>\n",
       "      <td>0.001</td>\n",
       "      <td>0.003</td>\n",
       "      <td>0.056</td>\n",
       "      <td>...</td>\n",
       "      <td>11.258</td>\n",
       "      <td>9.085</td>\n",
       "      <td>7.766</td>\n",
       "      <td>0.076</td>\n",
       "      <td>0.001</td>\n",
       "      <td>0.001</td>\n",
       "      <td>0.001</td>\n",
       "      <td>0.001</td>\n",
       "      <td>0.000</td>\n",
       "      <td>0.000</td>\n",
       "    </tr>\n",
       "    <tr>\n",
       "      <th>1</th>\n",
       "      <td>1365675840739098625</td>\n",
       "      <td>1365721343166152704</td>\n",
       "      <td>620153</td>\n",
       "      <td>7929.000</td>\n",
       "      <td>0.001</td>\n",
       "      <td>0.001</td>\n",
       "      <td>0.001</td>\n",
       "      <td>0.007</td>\n",
       "      <td>0.003</td>\n",
       "      <td>0.000</td>\n",
       "      <td>...</td>\n",
       "      <td>8.894</td>\n",
       "      <td>9.420</td>\n",
       "      <td>8.443</td>\n",
       "      <td>0.002</td>\n",
       "      <td>0.001</td>\n",
       "      <td>0.001</td>\n",
       "      <td>0.001</td>\n",
       "      <td>0.001</td>\n",
       "      <td>0.000</td>\n",
       "      <td>0.001</td>\n",
       "    </tr>\n",
       "  </tbody>\n",
       "</table>\n",
       "<p>2 rows × 39 columns</p>\n",
       "</div>"
      ],
      "text/plain": [
       "       conversation_id              same_id  same_author_id  \\\n",
       "0  1401772458797981698  1401829927117332490          620153   \n",
       "1  1365675840739098625  1365721343166152704          620153   \n",
       "\n",
       "   same_author.tweet_count  anger_same  fear_same  disgust_same  sadness_same  \\\n",
       "0                 7929.000       0.001      0.001         0.001         0.001   \n",
       "1                 7929.000       0.001      0.001         0.001         0.007   \n",
       "\n",
       "   joy_same  pride_same  ...  author.tweet_count_log  \\\n",
       "0     0.003       0.056  ...                  11.258   \n",
       "1     0.003       0.000  ...                   8.894   \n",
       "\n",
       "  author.followers_count_log  author.following_count_log anger_log  fear_log  \\\n",
       "0                      9.085                       7.766     0.076     0.001   \n",
       "1                      9.420                       8.443     0.002     0.001   \n",
       "\n",
       "   disgust_log  sadness_log  joy_log  pride_log  hope_log  \n",
       "0        0.001        0.001    0.001      0.000     0.000  \n",
       "1        0.001        0.001    0.001      0.000     0.001  \n",
       "\n",
       "[2 rows x 39 columns]"
      ]
     },
     "execution_count": 89,
     "metadata": {},
     "output_type": "execute_result"
    }
   ],
   "source": [
    "# merge back with starters\n",
    "same_responders_avg = \\\n",
    "    df_same_authors_one\\\n",
    "        .merge(starters_avg, \n",
    "               on=\"conversation_id\",\n",
    "               how=\"left\")\n",
    "\n",
    "same_responders_avg.head(2)"
   ]
  },
  {
   "cell_type": "code",
   "execution_count": null,
   "metadata": {},
   "outputs": [
    {
     "data": {
      "text/plain": [
       "Index(['conversation_id', 'same_id', 'same_author_id',\n",
       "       'same_author.tweet_count', 'anger_same', 'fear_same', 'disgust_same',\n",
       "       'sadness_same', 'joy_same', 'pride_same', 'hope_same', 'domain',\n",
       "       'author_id', 'created_at', 'author.followers_count',\n",
       "       'author.following_count', 'author.tweet_count', 'Rating', 'Score',\n",
       "       'anger', 'fear', 'disgust', 'sadness', 'joy', 'pride', 'hope',\n",
       "       'Orientation', 'word_count', 'word_count_log', 'author.tweet_count_log',\n",
       "       'author.followers_count_log', 'author.following_count_log', 'anger_log',\n",
       "       'fear_log', 'disgust_log', 'sadness_log', 'joy_log', 'pride_log',\n",
       "       'hope_log'],\n",
       "      dtype='object')"
      ]
     },
     "execution_count": 90,
     "metadata": {},
     "output_type": "execute_result"
    }
   ],
   "source": [
    "same_responders_avg.columns"
   ]
  },
  {
   "cell_type": "code",
   "execution_count": null,
   "metadata": {},
   "outputs": [
    {
     "data": {
      "text/plain": [
       "1       962\n",
       "2       284\n",
       "3       121\n",
       "4        43\n",
       "5        31\n",
       "       ... \n",
       "36        1\n",
       "38        1\n",
       "2283      1\n",
       "42        1\n",
       "2636      1\n",
       "Name: author_id, Length: 69, dtype: int64"
      ]
     },
     "execution_count": 91,
     "metadata": {},
     "output_type": "execute_result"
    }
   ],
   "source": [
    "same_responders_avg[\"author_id\"].value_counts().value_counts()"
   ]
  },
  {
   "cell_type": "code",
   "execution_count": null,
   "metadata": {},
   "outputs": [
    {
     "data": {
      "text/plain": [
       "1668"
      ]
     },
     "execution_count": 92,
     "metadata": {},
     "output_type": "execute_result"
    }
   ],
   "source": [
    "same_responders_avg[\"author_id\"].nunique()"
   ]
  },
  {
   "cell_type": "code",
   "execution_count": null,
   "metadata": {},
   "outputs": [
    {
     "data": {
      "image/png": "[encoded data removed]",
      "text/plain": [
       "<Figure size 500x200 with 2 Axes>"
      ]
     },
     "metadata": {},
     "output_type": "display_data"
    }
   ],
   "source": [
    "# log-transform tweet count\n",
    "same_responders_avg[\"same_author.tweet_count_log\"] = \\\n",
    "    np.log1p(same_responders_avg[\"same_author.tweet_count\"])\n",
    "\n",
    "plt.figure(figsize=(5, 2))\n",
    "plt.subplot(1, 2, 1)\n",
    "same_responders_avg[\"same_author.tweet_count\"]\\\n",
    "    .hist(bins=100)\n",
    "plt.title(\"Tweet count\")\n",
    "custom_plots()\n",
    "\n",
    "plt.subplot(1, 2, 2)\n",
    "same_responders_avg[\"same_author.tweet_count_log\"]\\\n",
    "    .hist(bins=100)\n",
    "plt.title(\"Tweet count (log)\")\n",
    "custom_plots()"
   ]
  },
  {
   "cell_type": "code",
   "execution_count": null,
   "metadata": {},
   "outputs": [
    {
     "data": {
      "text/plain": [
       "Index(['conversation_id', 'same_id', 'same_author_id',\n",
       "       'same_author.tweet_count', 'anger_same', 'fear_same', 'disgust_same',\n",
       "       'sadness_same', 'joy_same', 'pride_same', 'hope_same', 'domain',\n",
       "       'author_id', 'created_at', 'author.followers_count',\n",
       "       'author.following_count', 'author.tweet_count', 'Rating', 'Score',\n",
       "       'anger', 'fear', 'disgust', 'sadness', 'joy', 'pride', 'hope',\n",
       "       'Orientation', 'word_count', 'word_count_log', 'author.tweet_count_log',\n",
       "       'author.followers_count_log', 'author.following_count_log', 'anger_log',\n",
       "       'fear_log', 'disgust_log', 'sadness_log', 'joy_log', 'pride_log',\n",
       "       'hope_log', 'same_author.tweet_count_log'],\n",
       "      dtype='object')"
      ]
     },
     "execution_count": 94,
     "metadata": {},
     "output_type": "execute_result"
    }
   ],
   "source": [
    "same_responders_avg.columns"
   ]
  },
  {
   "cell_type": "code",
   "execution_count": null,
   "metadata": {},
   "outputs": [
    {
     "data": {
      "text/plain": [
       "9809"
      ]
     },
     "execution_count": 95,
     "metadata": {},
     "output_type": "execute_result"
    }
   ],
   "source": [
    "same_responders_avg[\"conversation_id\"].nunique()"
   ]
  },
  {
   "cell_type": "code",
   "execution_count": null,
   "metadata": {},
   "outputs": [
    {
     "data": {
      "text/plain": [
       "7714"
      ]
     },
     "execution_count": 96,
     "metadata": {},
     "output_type": "execute_result"
    }
   ],
   "source": [
    "same_responders_avg[\"same_author_id\"].nunique()"
   ]
  },
  {
   "cell_type": "code",
   "execution_count": null,
   "metadata": {},
   "outputs": [
    {
     "data": {
      "text/plain": [
       "0.000    9181\n",
       "1.000    6244\n",
       "Name: Rating, dtype: int64"
      ]
     },
     "execution_count": 97,
     "metadata": {},
     "output_type": "execute_result"
    }
   ],
   "source": [
    "same_responders_avg[\"Rating\"].value_counts()"
   ]
  },
  {
   "cell_type": "code",
   "execution_count": null,
   "metadata": {},
   "outputs": [],
   "source": [
    "same_responders_avg.to_csv(join(src, \n",
    "                            \"same_author_replies.csv\"),\n",
    "                            index=False)"
   ]
  }
 ],
 "metadata": {
  "kernelspec": {
   "display_name": "twarcing-empty",
   "language": "python",
   "name": "python3"
  },
  "language_info": {
   "codemirror_mode": {
    "name": "ipython",
    "version": 3
   },
   "file_extension": ".py",
   "mimetype": "text/x-python",
   "name": "python",
   "nbconvert_exporter": "python",
   "pygments_lexer": "ipython3",
   "version": "3.9.15"
  }
 },
 "nbformat": 4,
 "nbformat_minor": 2
}
