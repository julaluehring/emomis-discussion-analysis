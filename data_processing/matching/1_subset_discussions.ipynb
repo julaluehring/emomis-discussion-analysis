{
 "cells": [
  {
   "cell_type": "code",
   "execution_count": 1,
   "metadata": {},
   "outputs": [],
   "source": [
    "import pandas as pd\n",
    "from os.path import join\n",
    "import matplotlib.pyplot as plt\n",
    "import pickle"
   ]
  },
  {
   "cell_type": "code",
   "execution_count": null,
   "metadata": {},
   "outputs": [],
   "source": [
    "src = \"/data/german_newsguard_tweets/\"\n",
    "with open(join(src, \"dtypes_config_pickle\"), \"rb\") as file:\n",
    "    DTYPES = pickle.load(file)"
   ]
  },
  {
   "cell_type": "code",
   "execution_count": null,
   "metadata": {},
   "outputs": [
    {
     "data": {
      "text/plain": [
       "100000"
      ]
     },
     "execution_count": 10,
     "metadata": {},
     "output_type": "execute_result"
    }
   ],
   "source": [
    "df = pd.read_csv(join(src, \n",
    "                      \"german_newsguard_tweets.csv.gz\"),\n",
    "                 compression=\"gzip\",\n",
    "                          dtype=DTYPES)\n",
    "\n",
    "len(df)"
   ]
  },
  {
   "cell_type": "code",
   "execution_count": 14,
   "metadata": {},
   "outputs": [
    {
     "data": {
      "text/plain": [
       "Index(['id', 'conversation_id', 'referenced_tweets.replied_to.id', 'author_id',\n",
       "       'retweeted_user_id', 'impression_count', 'reply_count', 'retweet_count',\n",
       "       'quote_count', 'like_count', 'author.followers_count',\n",
       "       'author.following_count', 'author.listed_count', 'author.tweet_count',\n",
       "       'author.verified_type', 'round', 'Rating', 'Rating_Date', 'anger',\n",
       "       'fear', 'disgust', 'sadness', 'joy', 'enthusiasm', 'pride', 'hope',\n",
       "       'type', 'status'],\n",
       "      dtype='object')"
      ]
     },
     "execution_count": 14,
     "metadata": {},
     "output_type": "execute_result"
    }
   ],
   "source": [
    "df.columns"
   ]
  },
  {
   "cell_type": "code",
   "execution_count": null,
   "metadata": {},
   "outputs": [
    {
     "data": {
      "text/html": [
       "<div>\n",
       "<style scoped>\n",
       "    .dataframe tbody tr th:only-of-type {\n",
       "        vertical-align: middle;\n",
       "    }\n",
       "\n",
       "    .dataframe tbody tr th {\n",
       "        vertical-align: top;\n",
       "    }\n",
       "\n",
       "    .dataframe thead th {\n",
       "        text-align: right;\n",
       "    }\n",
       "</style>\n",
       "<table border=\"1\" class=\"dataframe\">\n",
       "  <thead>\n",
       "    <tr style=\"text-align: right;\">\n",
       "      <th></th>\n",
       "      <th>domain</th>\n",
       "      <th>Orientation</th>\n",
       "    </tr>\n",
       "  </thead>\n",
       "  <tbody>\n",
       "    <tr>\n",
       "      <th>0</th>\n",
       "      <td>2020news.de</td>\n",
       "      <td>Neutral</td>\n",
       "    </tr>\n",
       "    <tr>\n",
       "      <th>1</th>\n",
       "      <td>20min.ch</td>\n",
       "      <td>Neutral</td>\n",
       "    </tr>\n",
       "    <tr>\n",
       "      <th>2</th>\n",
       "      <td>aachener-nachrichten.de</td>\n",
       "      <td>Neutral</td>\n",
       "    </tr>\n",
       "    <tr>\n",
       "      <th>3</th>\n",
       "      <td>aachener-zeitung.de</td>\n",
       "      <td>Neutral</td>\n",
       "    </tr>\n",
       "    <tr>\n",
       "      <th>4</th>\n",
       "      <td>abendblatt.de</td>\n",
       "      <td>Neutral</td>\n",
       "    </tr>\n",
       "    <tr>\n",
       "      <th>...</th>\n",
       "      <td>...</td>\n",
       "      <td>...</td>\n",
       "    </tr>\n",
       "    <tr>\n",
       "      <th>319</th>\n",
       "      <td>ze.tt</td>\n",
       "      <td>Left</td>\n",
       "    </tr>\n",
       "    <tr>\n",
       "      <th>320</th>\n",
       "      <td>zeit.de</td>\n",
       "      <td>Left</td>\n",
       "    </tr>\n",
       "    <tr>\n",
       "      <th>321</th>\n",
       "      <td>zentrum-der-gesundheit.de</td>\n",
       "      <td>Neutral</td>\n",
       "    </tr>\n",
       "    <tr>\n",
       "      <th>322</th>\n",
       "      <td>zuerst.de</td>\n",
       "      <td>Right</td>\n",
       "    </tr>\n",
       "    <tr>\n",
       "      <th>323</th>\n",
       "      <td>zvw.de</td>\n",
       "      <td>Neutral</td>\n",
       "    </tr>\n",
       "  </tbody>\n",
       "</table>\n",
       "<p>324 rows × 2 columns</p>\n",
       "</div>"
      ],
      "text/plain": [
       "                        domain Orientation\n",
       "0                  2020news.de     Neutral\n",
       "1                     20min.ch     Neutral\n",
       "2      aachener-nachrichten.de     Neutral\n",
       "3          aachener-zeitung.de     Neutral\n",
       "4                abendblatt.de     Neutral\n",
       "..                         ...         ...\n",
       "319                      ze.tt        Left\n",
       "320                    zeit.de        Left\n",
       "321  zentrum-der-gesundheit.de     Neutral\n",
       "322                  zuerst.de       Right\n",
       "323                     zvw.de     Neutral\n",
       "\n",
       "[324 rows x 2 columns]"
      ]
     },
     "execution_count": 4,
     "metadata": {},
     "output_type": "execute_result"
    }
   ],
   "source": [
    "# add validated orientation ratings\n",
    "orientation = pd.read_csv(\"../inference/orientation_majority.csv\",\n",
    "                          usecols=[\"Domain\", \"Orientation\"],\n",
    "                          dtype=str)\\\n",
    "                    .rename(columns={\"Domain\": \"domain\"})\n",
    "\n",
    "orientation"
   ]
  },
  {
   "cell_type": "code",
   "execution_count": 5,
   "metadata": {},
   "outputs": [],
   "source": [
    "# merge with df based on domain\n",
    "df = df.merge(orientation, on=\"domain\", how=\"left\")"
   ]
  },
  {
   "cell_type": "markdown",
   "metadata": {},
   "source": [
    "## Remove missing emotion scores"
   ]
  },
  {
   "cell_type": "code",
   "execution_count": null,
   "metadata": {},
   "outputs": [],
   "source": [
    "#remove the rows with missing values in emotions\n",
    "df_na = df.dropna(subset=[\"anger\", \"fear\", \"disgust\", \"sadness\",\n",
    "                        \"joy\", \"pride\", \"hope\"])\n",
    "len(df_na)"
   ]
  },
  {
   "cell_type": "markdown",
   "metadata": {},
   "source": [
    "## Identify tweets containing NewsGuard domain"
   ]
  },
  {
   "cell_type": "code",
   "execution_count": null,
   "metadata": {},
   "outputs": [],
   "source": [
    "domains = pd.read_csv(join(src, \n",
    "                      \"domain_tweets.csv.gz\"),\n",
    "                 compression=\"gzip\",\n",
    "                 usecols=[\"id\"])\n",
    "domains = set(domains[\"id\"])"
   ]
  },
  {
   "cell_type": "code",
   "execution_count": 8,
   "metadata": {},
   "outputs": [],
   "source": [
    "#create an empty column with default value \"conversation\"\n",
    "df_na[\"step\"] = \"conversation\""
   ]
  },
  {
   "cell_type": "code",
   "execution_count": 9,
   "metadata": {},
   "outputs": [],
   "source": [
    "#change value to \"domain\" if id is in domains set\n",
    "df_na.loc[df_na[\"id\"].isin(domains), \"step\"] = \"domain\""
   ]
  },
  {
   "cell_type": "code",
   "execution_count": 10,
   "metadata": {},
   "outputs": [
    {
     "data": {
      "text/plain": [
       "conversation    26054835\n",
       "domain          12653563\n",
       "Name: step, dtype: int64"
      ]
     },
     "execution_count": 10,
     "metadata": {},
     "output_type": "execute_result"
    }
   ],
   "source": [
    "df_na[\"step\"].value_counts()"
   ]
  },
  {
   "cell_type": "markdown",
   "metadata": {},
   "source": [
    "## Keep conversations with NG starters"
   ]
  },
  {
   "cell_type": "code",
   "execution_count": 11,
   "metadata": {},
   "outputs": [
    {
     "data": {
      "text/plain": [
       "10673952"
      ]
     },
     "execution_count": 11,
     "metadata": {},
     "output_type": "execute_result"
    }
   ],
   "source": [
    "#subset only tweets that have type == starter and step == domain\n",
    "df_starters = df_na[(df_na[\"type\"] == \"starter\") & (df_na[\"step\"] == \"domain\")]\n",
    "len(df_starters)"
   ]
  },
  {
   "cell_type": "code",
   "execution_count": 12,
   "metadata": {},
   "outputs": [
    {
     "data": {
      "text/plain": [
       "10579843"
      ]
     },
     "execution_count": 12,
     "metadata": {},
     "output_type": "execute_result"
    }
   ],
   "source": [
    "# remove duplicated tweets\n",
    "df_starters = df_starters.drop_duplicates(subset=\"id\")\n",
    "len(df_starters)"
   ]
  },
  {
   "cell_type": "code",
   "execution_count": 13,
   "metadata": {},
   "outputs": [
    {
     "data": {
      "text/plain": [
       "9906260"
      ]
     },
     "execution_count": 13,
     "metadata": {},
     "output_type": "execute_result"
    }
   ],
   "source": [
    "# remove tweets with missing value in Rating\n",
    "df_starters = df_starters.dropna(subset=[\"Rating\"])\n",
    "len(df_starters)"
   ]
  },
  {
   "cell_type": "code",
   "execution_count": null,
   "metadata": {},
   "outputs": [],
   "source": [
    "# save\n",
    "df_starters.to_csv(join(src, \"discussions/discussions_starters.csv.gz\"),\n",
    "                     compression=\"gzip\",\n",
    "                     index=False)"
   ]
  },
  {
   "cell_type": "code",
   "execution_count": 15,
   "metadata": {},
   "outputs": [
    {
     "data": {
      "text/plain": [
       "21041405"
      ]
     },
     "execution_count": 15,
     "metadata": {},
     "output_type": "execute_result"
    }
   ],
   "source": [
    "#merge again to only keep the relevant conversations\n",
    "df_merged = df_starters[[\"conversation_id\"]]\\\n",
    "                    .merge(df_na, \n",
    "                            on=\"conversation_id\",\n",
    "                            how=\"left\")\n",
    "len(df_merged)"
   ]
  },
  {
   "cell_type": "code",
   "execution_count": 16,
   "metadata": {},
   "outputs": [
    {
     "data": {
      "text/plain": [
       "complete      19498936\n",
       "incomplete     1542469\n",
       "Name: status, dtype: int64"
      ]
     },
     "execution_count": 16,
     "metadata": {},
     "output_type": "execute_result"
    }
   ],
   "source": [
    "df_merged[\"status\"].value_counts()"
   ]
  },
  {
   "cell_type": "markdown",
   "metadata": {},
   "source": [
    "## Exclude incomplete discussions"
   ]
  },
  {
   "cell_type": "code",
   "execution_count": 17,
   "metadata": {},
   "outputs": [
    {
     "name": "stdout",
     "output_type": "stream",
     "text": [
      "Removed 1542469 rows with incomplete discussions\n"
     ]
    }
   ],
   "source": [
    "#keep only complete discussions\n",
    "df_complete = df_merged[df_merged[\"status\"] == \"complete\"]\n",
    "print(f'Removed {len(df_merged) - len(df_complete)} rows with incomplete discussions')\n",
    "del df_merged"
   ]
  },
  {
   "cell_type": "code",
   "execution_count": 19,
   "metadata": {},
   "outputs": [
    {
     "name": "stdout",
     "output_type": "stream",
     "text": [
      "Number of conversations: 8624622\n",
      "Number of tweets: 19498936\n"
     ]
    }
   ],
   "source": [
    "print(f'Number of conversations: {df_complete[\"conversation_id\"].nunique()}')\n",
    "print(f'Number of tweets: {len(df_complete)}')"
   ]
  },
  {
   "cell_type": "code",
   "execution_count": 20,
   "metadata": {},
   "outputs": [
    {
     "data": {
      "text/plain": [
       "T    0.934525\n",
       "N    0.065475\n",
       "Name: Rating, dtype: float64"
      ]
     },
     "execution_count": 20,
     "metadata": {},
     "output_type": "execute_result"
    }
   ],
   "source": [
    "df_complete[\"Rating\"]\\\n",
    "    .value_counts(normalize=True)"
   ]
  },
  {
   "cell_type": "code",
   "execution_count": null,
   "metadata": {},
   "outputs": [],
   "source": [
    "df_complete.to_csv(join(src, \n",
    "                            \"discussions/discussions_complete.csv.gz\"),\n",
    "                            compression=\"gzip\",\n",
    "                            index=False)"
   ]
  },
  {
   "cell_type": "markdown",
   "metadata": {},
   "source": [
    "## Remove discussions without responses"
   ]
  },
  {
   "cell_type": "code",
   "execution_count": 22,
   "metadata": {},
   "outputs": [
    {
     "name": "stdout",
     "output_type": "stream",
     "text": [
      "Removed 7747467 rows with no replies.\n"
     ]
    }
   ],
   "source": [
    "#remove columns with type == starter AND reply == 0\n",
    "df_discussions = df_complete[~((df_complete[\"type\"] == \"starter\") & \n",
    "                             (df_complete[\"reply_count\"] == 0))]\n",
    "print(f'Removed {len(df_complete) - len(df_discussions)} rows with no replies.')\n",
    "del df_complete"
   ]
  },
  {
   "cell_type": "code",
   "execution_count": 23,
   "metadata": {},
   "outputs": [
    {
     "name": "stdout",
     "output_type": "stream",
     "text": [
      "Number of conversations: 914066\n",
      "Number of tweets: 11751469\n"
     ]
    }
   ],
   "source": [
    "print(f'Number of conversations: {df_discussions[\"conversation_id\"].nunique()}')\n",
    "print(f'Number of tweets: {len(df_discussions)}')"
   ]
  },
  {
   "cell_type": "code",
   "execution_count": 24,
   "metadata": {},
   "outputs": [
    {
     "data": {
      "text/plain": [
       "reply      10831242\n",
       "starter      920227\n",
       "Name: type, dtype: int64"
      ]
     },
     "execution_count": 24,
     "metadata": {},
     "output_type": "execute_result"
    }
   ],
   "source": [
    "df_discussions[\"type\"].value_counts()"
   ]
  },
  {
   "cell_type": "code",
   "execution_count": 25,
   "metadata": {},
   "outputs": [
    {
     "data": {
      "text/plain": [
       "T    0.924594\n",
       "N    0.075406\n",
       "Name: Rating, dtype: float64"
      ]
     },
     "execution_count": 25,
     "metadata": {},
     "output_type": "execute_result"
    }
   ],
   "source": [
    "df_discussions[\"Rating\"]\\\n",
    "    .value_counts(normalize=True)"
   ]
  },
  {
   "cell_type": "code",
   "execution_count": null,
   "metadata": {},
   "outputs": [],
   "source": [
    "#save as csv in discussions directory\n",
    "df_discussions.to_csv(join(src, \n",
    "                            \"discussions/discussions_replies.csv.gz\"),\n",
    "                            compression=\"gzip\",\n",
    "                            index=False)"
   ]
  }
 ],
 "metadata": {
  "kernelspec": {
   "display_name": "twarcing-empty",
   "language": "python",
   "name": "python3"
  },
  "language_info": {
   "codemirror_mode": {
    "name": "ipython",
    "version": 3
   },
   "file_extension": ".py",
   "mimetype": "text/x-python",
   "name": "python",
   "nbconvert_exporter": "python",
   "pygments_lexer": "ipython3",
   "version": "3.9.15"
  }
 },
 "nbformat": 4,
 "nbformat_minor": 2
}
