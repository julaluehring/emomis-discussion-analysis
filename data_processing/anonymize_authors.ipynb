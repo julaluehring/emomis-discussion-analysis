{
 "cells": [
  {
   "cell_type": "code",
   "execution_count": 1,
   "metadata": {},
   "outputs": [],
   "source": [
    "import pandas as pd\n",
    "import os\n",
    "from os.path import join\n",
    "import pickle as pkl\n",
    "import numpy as np\n",
    "import shutil\n",
    "np.random.seed(636) "
   ]
  },
  {
   "cell_type": "code",
   "execution_count": 2,
   "metadata": {},
   "outputs": [],
   "source": [
    "src = '/raid5pool/tank/luehring/german_newsguard_tweets/discussions/'\n",
    "dst = '../data/'\n",
    "\n",
    "if not os.path.exists(dst):\n",
    "    os.makedirs(dst)"
   ]
  },
  {
   "cell_type": "code",
   "execution_count": 3,
   "metadata": {},
   "outputs": [],
   "source": [
    "with open(join(src, \"../dtypes_config.pickle\"), \"rb\") as file:\n",
    "    DTYPES = pkl.load(file)\n",
    "    \n",
    "with open(join(dst, \"dtypes_config.pickle\"), \"wb\") as file:\n",
    "    pkl.dump(DTYPES, file)"
   ]
  },
  {
   "cell_type": "code",
   "execution_count": 4,
   "metadata": {},
   "outputs": [],
   "source": [
    "authors = pd.read_csv(join(src, \n",
    "                      \"../german_newsguard_tweets_inference.csv.gz\"),\n",
    "                 usecols=[\"author_id\"],\n",
    "                 compression=\"gzip\",\n",
    "                 dtype=DTYPES)"
   ]
  },
  {
   "cell_type": "code",
   "execution_count": 5,
   "metadata": {},
   "outputs": [],
   "source": [
    "# extract unique author ids\n",
    "unique_ids = authors['author_id'].unique()\n",
    "\n",
    "# generate a random number for each unique author_id\n",
    "random_ids = np.random.randint(1e6, 1e7, size=len(unique_ids))  \n",
    "\n",
    "# create a mapping\n",
    "id_map = dict(zip(unique_ids, random_ids))"
   ]
  },
  {
   "cell_type": "code",
   "execution_count": 6,
   "metadata": {},
   "outputs": [
    {
     "data": {
      "text/plain": [
       "Index(['conversation_id', 'id', 'author_id', 'created_at', 'reply_count',\n",
       "       'retweet_count', 'quote_count', 'like_count', 'author.followers_count',\n",
       "       'author.following_count', 'author.tweet_count', 'Rating', 'anger',\n",
       "       'fear', 'disgust', 'sadness', 'joy', 'pride', 'hope', 'type', 'status',\n",
       "       'Orientation', 'step'],\n",
       "      dtype='object')"
      ]
     },
     "execution_count": 6,
     "metadata": {},
     "output_type": "execute_result"
    }
   ],
   "source": [
    "replies = pd.read_csv(join(src, 'discussions_replies.csv.gz'),\n",
    "                          dtype=DTYPES)\\\n",
    "                          .drop(columns=[\n",
    "                                'domain',\n",
    "                                'Score',\n",
    "                                'text',\n",
    "                                'enthusiasm',\n",
    "                                'out'])\n",
    "replies.columns"
   ]
  },
  {
   "cell_type": "code",
   "execution_count": 7,
   "metadata": {},
   "outputs": [],
   "source": [
    "replies['author_id'] = replies['author_id'].map(id_map)\n",
    "replies.to_csv(join(dst, 'discussions_replies.csv.gz'), \n",
    "               compression='gzip',\n",
    "               index=False)"
   ]
  },
  {
   "cell_type": "code",
   "execution_count": 8,
   "metadata": {},
   "outputs": [
    {
     "data": {
      "text/plain": [
       "Index(['conversation_id', 'author_id', 'created_at', 'author.followers_count',\n",
       "       'author.following_count', 'author.tweet_count', 'Rating', 'anger',\n",
       "       'fear', 'disgust', 'sadness', 'joy', 'pride', 'hope', 'Orientation',\n",
       "       'word_count', 'word_count_log', 'author.tweet_count_log',\n",
       "       'author.followers_count_log', 'author.following_count_log', 'anger_log',\n",
       "       'fear_log', 'disgust_log', 'sadness_log', 'joy_log', 'pride_log',\n",
       "       'hope_log', 'anger_avg', 'fear_avg', 'disgust_avg', 'sadness_avg',\n",
       "       'joy_avg', 'pride_avg', 'hope_avg', 'author.tweet_count_avg',\n",
       "       'author.tweet_count_avg_log', 'time_diff', 'time_diff_log'],\n",
       "      dtype='object')"
      ]
     },
     "execution_count": 8,
     "metadata": {},
     "output_type": "execute_result"
    }
   ],
   "source": [
    "replies_agg = pd.read_csv(join(src, 'discussions_replies_aggregates.csv'),\n",
    "                          dtype=DTYPES)\\\n",
    "                          .drop(columns=[\n",
    "                                'domain',\n",
    "                                'Score'])\n",
    "replies_agg.columns"
   ]
  },
  {
   "cell_type": "code",
   "execution_count": 9,
   "metadata": {},
   "outputs": [],
   "source": [
    "replies_agg['author_id'] = replies_agg['author_id'].map(id_map)\n",
    "replies_agg.to_csv(join(dst, 'discussions_replies_aggregates.csv'), \n",
    "               index=False)"
   ]
  },
  {
   "cell_type": "code",
   "execution_count": 10,
   "metadata": {},
   "outputs": [
    {
     "data": {
      "text/plain": [
       "Index(['conversation_id', 'author_id', 'created_at', 'author.followers_count',\n",
       "       'author.following_count', 'author.tweet_count', 'Rating', 'anger',\n",
       "       'fear', 'disgust', 'sadness', 'joy', 'pride', 'hope', 'Orientation',\n",
       "       'word_count', 'word_count_log', 'author.tweet_count_log',\n",
       "       'author.followers_count_log', 'author.following_count_log', 'anger_log',\n",
       "       'fear_log', 'disgust_log', 'sadness_log', 'joy_log', 'pride_log',\n",
       "       'hope_log', 'anger_avg', 'fear_avg', 'disgust_avg', 'sadness_avg',\n",
       "       'joy_avg', 'pride_avg', 'hope_avg', 'author.tweet_count_avg',\n",
       "       'author.tweet_count_avg_log', 'time_diff', 'time_diff_log', 'weights',\n",
       "       'subclass'],\n",
       "      dtype='object')"
      ]
     },
     "execution_count": 10,
     "metadata": {},
     "output_type": "execute_result"
    }
   ],
   "source": [
    "replies_matched = pd.read_csv(join(src, 'matched_replies_mahalanobis_log_bias.csv'),\n",
    "                          dtype=DTYPES)\\\n",
    "                          .drop(columns=[\n",
    "                                        'Unnamed: 0', \n",
    "                                        'domain', \n",
    "                                        'Score'])\n",
    "replies_matched.columns"
   ]
  },
  {
   "cell_type": "code",
   "execution_count": 11,
   "metadata": {},
   "outputs": [],
   "source": [
    "replies_matched['author_id'] = replies_matched['author_id'].map(id_map)\n",
    "\n",
    "replies_matched.to_csv(join(dst, 'matched_replies_mahalanobis.csv'), index=False)"
   ]
  },
  {
   "cell_type": "code",
   "execution_count": 12,
   "metadata": {},
   "outputs": [
    {
     "data": {
      "text/plain": [
       "Index(['conversation_id', 'author_id', 'created_at', 'author.followers_count',\n",
       "       'author.following_count', 'author.tweet_count', 'Rating', 'anger',\n",
       "       'fear', 'disgust', 'sadness', 'joy', 'pride', 'hope', 'Orientation',\n",
       "       'word_count', 'word_count_log', 'author.tweet_count_log',\n",
       "       'author.followers_count_log', 'author.following_count_log', 'anger_log',\n",
       "       'fear_log', 'disgust_log', 'sadness_log', 'joy_log', 'pride_log',\n",
       "       'hope_log', 'id', 'first_author_id', 'anger_first', 'fear_first',\n",
       "       'disgust_first', 'sadness_first', 'joy_first', 'pride_first',\n",
       "       'hope_first', 'author.tweet_count_first',\n",
       "       'author.tweet_count_first_log', 'weights', 'subclass'],\n",
       "      dtype='object')"
      ]
     },
     "execution_count": 12,
     "metadata": {},
     "output_type": "execute_result"
    }
   ],
   "source": [
    "first_replies = pd.read_csv(join(src, \n",
    "                                 'matched_replies_first_mahalanobis_log_bias.csv'),\n",
    "                          dtype=DTYPES)\\\n",
    "                          .drop(columns=[\n",
    "                              'Unnamed: 0',\n",
    "                              'domain', 'Score'])    \n",
    "first_replies.columns"
   ]
  },
  {
   "cell_type": "code",
   "execution_count": 13,
   "metadata": {},
   "outputs": [],
   "source": [
    "first_replies['author_id'] = first_replies['author_id'].map(id_map)\n",
    "first_replies['first_author_id'] = first_replies['first_author_id'].map(id_map)\n",
    "\n",
    "first_replies.to_csv(join(dst, 'matched_first_replies_mahalanobis.csv'), index=False)"
   ]
  },
  {
   "cell_type": "code",
   "execution_count": 14,
   "metadata": {},
   "outputs": [
    {
     "data": {
      "text/plain": [
       "Index(['id', 'conversation_id', 'author_id', 'created_at', 'reply_count',\n",
       "       'retweet_count', 'quote_count', 'like_count', 'author.followers_count',\n",
       "       'author.following_count', 'author.tweet_count', 'Rating', 'anger',\n",
       "       'fear', 'disgust', 'sadness', 'joy', 'pride', 'hope', 'type', 'status',\n",
       "       'Orientation', 'step'],\n",
       "      dtype='object')"
      ]
     },
     "execution_count": 14,
     "metadata": {},
     "output_type": "execute_result"
    }
   ],
   "source": [
    "starters = pd.read_csv(join(src, 'discussions_starters.csv.gz'),\n",
    "                          dtype=DTYPES)\\\n",
    "                          .drop(columns=[\n",
    "                              'domain', 'text',\n",
    "                              'enthusiasm', 'out',\n",
    "                              'Score'])    \n",
    "starters.columns"
   ]
  },
  {
   "cell_type": "code",
   "execution_count": 15,
   "metadata": {},
   "outputs": [],
   "source": [
    "starters['author_id'] = starters['author_id'].map(id_map)\n",
    "starters.to_csv(join(dst, 'discussions_starters.csv.gz'), \n",
    "                compression='gzip',\n",
    "                index=False)"
   ]
  },
  {
   "cell_type": "code",
   "execution_count": 16,
   "metadata": {},
   "outputs": [
    {
     "data": {
      "text/plain": [
       "Index(['id', 'author_id', 'created_at', 'reply_count', 'retweet_count',\n",
       "       'quote_count', 'like_count', 'author.followers_count',\n",
       "       'author.following_count', 'author.tweet_count', 'Rating', 'anger',\n",
       "       'fear', 'disgust', 'sadness', 'joy', 'pride', 'hope', 'Orientation',\n",
       "       'word_count', 'word_count_log', 'author.tweet_count_log',\n",
       "       'author.followers_count_log', 'author.following_count_log', 'anger_log',\n",
       "       'fear_log', 'disgust_log', 'sadness_log', 'joy_log', 'pride_log',\n",
       "       'hope_log'],\n",
       "      dtype='object')"
      ]
     },
     "execution_count": 16,
     "metadata": {},
     "output_type": "execute_result"
    }
   ],
   "source": [
    "starters_agg = pd.read_csv(join(src, 'discussions_starters_aggregates.csv'),\n",
    "                          dtype=DTYPES)\\\n",
    "                          .drop(columns=[\n",
    "                              'domain', \n",
    "                              'Score'])    \n",
    "starters_agg.columns"
   ]
  },
  {
   "cell_type": "code",
   "execution_count": 17,
   "metadata": {},
   "outputs": [],
   "source": [
    "starters_agg['author_id'] = starters_agg['author_id'].map(id_map)\n",
    "starters.to_csv(join(dst, 'discussions_starters_aggregates.csv'), \n",
    "                index=False)"
   ]
  },
  {
   "cell_type": "code",
   "execution_count": 18,
   "metadata": {},
   "outputs": [
    {
     "data": {
      "text/plain": [
       "Index(['id', 'author_id', 'created_at', 'reply_count', 'retweet_count',\n",
       "       'quote_count', 'like_count', 'author.followers_count',\n",
       "       'author.following_count', 'author.tweet_count', 'Rating', 'anger',\n",
       "       'fear', 'disgust', 'sadness', 'joy', 'pride', 'hope', 'Orientation',\n",
       "       'word_count', 'word_count_log', 'author.tweet_count_log',\n",
       "       'author.followers_count_log', 'author.following_count_log', 'anger_log',\n",
       "       'fear_log', 'disgust_log', 'sadness_log', 'joy_log', 'pride_log',\n",
       "       'hope_log', 'weights', 'subclass'],\n",
       "      dtype='object')"
      ]
     },
     "execution_count": 18,
     "metadata": {},
     "output_type": "execute_result"
    }
   ],
   "source": [
    "matched_starters = pd.read_csv(join(src, \n",
    "                            'matched_starters_mahalanobis_log_bias.csv'),\n",
    "                          dtype=DTYPES)\\\n",
    "                          .drop(columns=[\n",
    "                                        'Unnamed: 0', \n",
    "                                        'domain', \n",
    "                                        'Score'])\n",
    "\n",
    "matched_starters.columns"
   ]
  },
  {
   "cell_type": "code",
   "execution_count": 19,
   "metadata": {},
   "outputs": [],
   "source": [
    "matched_starters['author_id'] = matched_starters['author_id'].map(id_map)\n",
    "\n",
    "starters.to_csv(join(dst, 'matched_starters_mahalanobis.csv'), index=False)"
   ]
  },
  {
   "cell_type": "code",
   "execution_count": 20,
   "metadata": {},
   "outputs": [
    {
     "data": {
      "text/plain": [
       "Index(['conversation_id', 'same_author_id', 'created_at',\n",
       "       'author.followers_count', 'author.following_count',\n",
       "       'same_author.tweet_count', 'Rating', 'anger', 'fear', 'disgust',\n",
       "       'sadness', 'joy', 'pride', 'hope', 'Orientation', 'word_count',\n",
       "       'word_count_log', 'author.tweet_count_log',\n",
       "       'author.followers_count_log', 'author.following_count_log', 'anger_log',\n",
       "       'fear_log', 'disgust_log', 'sadness_log', 'joy_log', 'pride_log',\n",
       "       'hope_log', 'same_id', 'first_author_id', 'anger_first', 'fear_first',\n",
       "       'disgust_first', 'sadness_first', 'joy_first', 'pride_first',\n",
       "       'hope_first', 'author.tweet_count_first',\n",
       "       'author.tweet_count_first_log'],\n",
       "      dtype='object')"
      ]
     },
     "execution_count": 20,
     "metadata": {},
     "output_type": "execute_result"
    }
   ],
   "source": [
    "same_replies = pd.read_csv(\n",
    "    join(src, \"same_replies_aggregates_one.csv\"), dtype=DTYPES)\\\n",
    "    .drop(columns=['domain', 'Score'])\n",
    "same_replies.columns"
   ]
  },
  {
   "cell_type": "code",
   "execution_count": 21,
   "metadata": {},
   "outputs": [],
   "source": [
    "same_replies['same_author_id'] = same_replies['same_author_id'].map(id_map)\n",
    "same_replies.to_csv(join(dst, 'same_author_replies.csv'), index=False)"
   ]
  },
  {
   "cell_type": "code",
   "execution_count": 23,
   "metadata": {},
   "outputs": [
    {
     "data": {
      "text/plain": [
       "'/home/luehring/emomis-discussion-analysis/data.zip'"
      ]
     },
     "execution_count": 23,
     "metadata": {},
     "output_type": "execute_result"
    }
   ],
   "source": [
    "# zip the data/ directory as data.zip\n",
    "shutil.make_archive('../data', 'zip', '../') "
   ]
  }
 ],
 "metadata": {
  "kernelspec": {
   "display_name": "twarcing-empty",
   "language": "python",
   "name": "python3"
  },
  "language_info": {
   "codemirror_mode": {
    "name": "ipython",
    "version": 3
   },
   "file_extension": ".py",
   "mimetype": "text/x-python",
   "name": "python",
   "nbconvert_exporter": "python",
   "pygments_lexer": "ipython3",
   "version": "3.9.15"
  }
 },
 "nbformat": 4,
 "nbformat_minor": 2
}
