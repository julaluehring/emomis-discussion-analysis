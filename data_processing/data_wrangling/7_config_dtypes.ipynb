{
 "cells": [
  {
   "cell_type": "markdown",
   "metadata": {},
   "source": [
    "Checking data types in each file and dumping a config-file that can be used to load the data in the correct format."
   ]
  },
  {
   "cell_type": "code",
   "execution_count": 1,
   "metadata": {},
   "outputs": [],
   "source": [
    "import pandas as pd\n",
    "import pickle\n",
    "import os"
   ]
  },
  {
   "cell_type": "code",
   "execution_count": null,
   "metadata": {},
   "outputs": [],
   "source": [
    "dir = \"../data/\""
   ]
  },
  {
   "cell_type": "code",
   "execution_count": 3,
   "metadata": {},
   "outputs": [],
   "source": [
    "dtypes = {\n",
    "        \"id\": int, \n",
    "        \"conversation_id\":int,\n",
    "        \"author_id\":int,\n",
    "        \"in_reply_to_user_id\":str,\n",
    "        \"in_reply_to_username\":str,\n",
    "        \"retweeted_user_id\":str,\n",
    "        \"retweeted_username\":str,\n",
    "        \"quoted_user_id\":str,\n",
    "        \"quoted_username\":str,\n",
    "        \"created_at\":str,\n",
    "        \"lang\":str,\n",
    "        \"text\":str,\n",
    "        \"public_metrics.retweet_count\":float,\n",
    "        \"public_metrics.reply_count\":float,\n",
    "        \"public_metrics.retweet_count\":float,\n",
    "        \"public_metrics.quote_count\":float,\n",
    "        \"public_metrics.like_count\":float,\n",
    "        \"public_metrics.impression_count\":float,\n",
    "        \"reply_settings\":str,\n",
    "        \"possibly_sensitive\":str,\n",
    "        \"entities.mentions\":str,\n",
    "        \"entities.hashtags\":str,\n",
    "        \"entities.annotations\":str,\n",
    "        \"entities.cashtags\":str,\n",
    "        \"entities.urls\":str,\n",
    "        \"referenced_tweets.replied_to.id\":str,\n",
    "        \"referenced_tweets.retweeted.id\": str, \n",
    "        \"referenced_tweets.quoted.id\": str,\n",
    "        \"author.created_at\":str,\n",
    "        \"author.location\":str, \n",
    "        \"author.name\":str, \n",
    "        \"author.username\":str, \n",
    "        \"author.description\":str,\n",
    "        \"author.verified\":str, \n",
    "        \"author.verified_type\":str,\n",
    "        \"author.protected\":str,\n",
    "        \"author.entities.description.cashtags\":str,\n",
    "        \"author.entities.description.hashtags\":str,\n",
    "        \"author.entities.description.mentions\":str,\n",
    "        \"author.entities.description.urls\":str,\n",
    "        \"author.public_metrics.followers_count\":float, \n",
    "        \"author.public_metrics.following_count\":float,\n",
    "        \"author.public_metrics.tweet_count\":float,\n",
    "        \"author.public_metrics.listed_count\":float,\n",
    "        \"domain\":str,\n",
    "        \"round\":str,\n",
    "        \"year\":str,\n",
    "        \"month\":str,\n",
    "        \"Rating\":str,\n",
    "        \"Score\":float,\n",
    "        \"Country\":str,\n",
    "        \"Language\":str,\n",
    "        \"Medium\":str,\n",
    "        \"Opinion/Advocacy Journalism\":str,\n",
    "        \"Orientation\":str,\n",
    "        \"Owner\":str,\n",
    "        \"Type of Owner\":str,\n",
    "        \"Rating_Date\":str,\n",
    "        \"anger_v2\":float, \n",
    "        \"fear_v2\":float, \n",
    "        \"disgust_v2\": float, \n",
    "        \"sadness_v2\": float,\n",
    "        \"joy_v2\":float, \n",
    "        \"enthusiasm_v2\": float, \n",
    "        \"pride_v2\": float, \n",
    "        \"hope_v2\": float,\n",
    "        \"anger\":float, \n",
    "        \"fear\":float, \n",
    "        \"disgust\": float, \n",
    "        \"sadness\": float,\n",
    "        \"joy\":float, \n",
    "        \"enthusiasm\": float, \n",
    "        \"pride\": float, \n",
    "        \"hope\": float,\n",
    "        \"type\": str,\n",
    "        \"group\": str, \n",
    "        \"not_out\": float,\n",
    "        \"out\": float\n",
    "        }"
   ]
  },
  {
   "cell_type": "code",
   "execution_count": null,
   "metadata": {},
   "outputs": [],
   "source": [
    "with open(os.path.join(dir,\"dtypes_config.pickle\"), \"wb\") as file:\n",
    "    pickle.dump(dtypes, file)"
   ]
  },
  {
   "cell_type": "code",
   "execution_count": null,
   "metadata": {},
   "outputs": [
    {
     "name": "stdout",
     "output_type": "stream",
     "text": [
      "{'id': <class 'int'>, 'conversation_id': <class 'int'>, 'author_id': <class 'int'>, 'in_reply_to_user_id': <class 'str'>, 'in_reply_to_username': <class 'str'>, 'retweeted_user_id': <class 'str'>, 'retweeted_username': <class 'str'>, 'quoted_user_id': <class 'str'>, 'quoted_username': <class 'str'>, 'created_at': <class 'str'>, 'lang': <class 'str'>, 'text': <class 'str'>, 'public_metrics.retweet_count': <class 'float'>, 'public_metrics.reply_count': <class 'float'>, 'public_metrics.quote_count': <class 'float'>, 'public_metrics.like_count': <class 'float'>, 'public_metrics.impression_count': <class 'float'>, 'reply_settings': <class 'str'>, 'possibly_sensitive': <class 'str'>, 'entities.mentions': <class 'str'>, 'entities.hashtags': <class 'str'>, 'entities.annotations': <class 'str'>, 'entities.cashtags': <class 'str'>, 'entities.urls': <class 'str'>, 'referenced_tweets.replied_to.id': <class 'str'>, 'referenced_tweets.retweeted.id': <class 'str'>, 'referenced_tweets.quoted.id': <class 'str'>, 'author.created_at': <class 'str'>, 'author.location': <class 'str'>, 'author.name': <class 'str'>, 'author.username': <class 'str'>, 'author.description': <class 'str'>, 'author.verified': <class 'str'>, 'author.verified_type': <class 'str'>, 'author.protected': <class 'str'>, 'author.entities.description.cashtags': <class 'str'>, 'author.entities.description.hashtags': <class 'str'>, 'author.entities.description.mentions': <class 'str'>, 'author.entities.description.urls': <class 'str'>, 'author.public_metrics.followers_count': <class 'float'>, 'author.public_metrics.following_count': <class 'float'>, 'author.public_metrics.tweet_count': <class 'float'>, 'author.public_metrics.listed_count': <class 'float'>, 'domain': <class 'str'>, 'round': <class 'str'>, 'year': <class 'str'>, 'month': <class 'str'>, 'Rating': <class 'str'>, 'Score': <class 'float'>, 'Country': <class 'str'>, 'Language': <class 'str'>, 'Medium': <class 'str'>, 'Opinion/Advocacy Journalism': <class 'str'>, 'Orientation': <class 'str'>, 'Owner': <class 'str'>, 'Type of Owner': <class 'str'>, 'Rating_Date': <class 'str'>, 'anger_v2': <class 'float'>, 'fear_v2': <class 'float'>, 'disgust_v2': <class 'float'>, 'sadness_v2': <class 'float'>, 'joy_v2': <class 'float'>, 'enthusiasm_v2': <class 'float'>, 'pride_v2': <class 'float'>, 'hope_v2': <class 'float'>, 'anger': <class 'float'>, 'fear': <class 'float'>, 'disgust': <class 'float'>, 'sadness': <class 'float'>, 'joy': <class 'float'>, 'enthusiasm': <class 'float'>, 'pride': <class 'float'>, 'hope': <class 'float'>, 'type': <class 'str'>, 'group': <class 'str'>, 'not_out': <class 'float'>, 'out': <class 'float'>}\n"
     ]
    }
   ],
   "source": [
    "with open(os.path.join(dir,\"dtypes_config.pickle\"), \"rb\") as file:\n",
    "    dtypes = pickle.load(file)\n",
    "print(dtypes)"
   ]
  }
 ],
 "metadata": {
  "kernelspec": {
   "display_name": "Python 3.9.16 ('twarcing')",
   "language": "python",
   "name": "python3"
  },
  "language_info": {
   "codemirror_mode": {
    "name": "ipython",
    "version": 3
   },
   "file_extension": ".py",
   "mimetype": "text/x-python",
   "name": "python",
   "nbconvert_exporter": "python",
   "pygments_lexer": "ipython3",
   "version": "3.9.16"
  },
  "orig_nbformat": 4,
  "vscode": {
   "interpreter": {
    "hash": "cc375a42999204cb2d07ae388a950dd16fc788ba83a12fa173d57ece81bf4c80"
   }
  }
 },
 "nbformat": 4,
 "nbformat_minor": 2
}
